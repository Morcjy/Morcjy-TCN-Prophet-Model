{
 "cells": [
  {
   "cell_type": "code",
   "execution_count": 1,
   "id": "f2d61ae6",
   "metadata": {
    "ExecuteTime": {
     "end_time": "2022-05-23T11:20:30.935919Z",
     "start_time": "2022-05-23T11:20:28.178883Z"
    }
   },
   "outputs": [],
   "source": [
    "import pandas as pd\n",
    "import numpy as np\n",
    "import matplotlib.pyplot as plt\n",
    "from darts import TimeSeries\n",
    "\n",
    "from pytorch_lightning.callbacks.early_stopping import EarlyStopping\n",
    "\n",
    "from sklearn.preprocessing import MinMaxScaler\n",
    "from darts.dataprocessing.transformers import Scaler"
   ]
  },
  {
   "cell_type": "code",
   "execution_count": 2,
   "id": "75b4e912",
   "metadata": {
    "ExecuteTime": {
     "end_time": "2022-05-23T11:20:31.219487Z",
     "start_time": "2022-05-23T11:20:30.937919Z"
    }
   },
   "outputs": [
    {
     "data": {
      "text/html": [
       "<div>\n",
       "<style scoped>\n",
       "    .dataframe tbody tr th:only-of-type {\n",
       "        vertical-align: middle;\n",
       "    }\n",
       "\n",
       "    .dataframe tbody tr th {\n",
       "        vertical-align: top;\n",
       "    }\n",
       "\n",
       "    .dataframe thead th {\n",
       "        text-align: right;\n",
       "    }\n",
       "</style>\n",
       "<table border=\"1\" class=\"dataframe\">\n",
       "  <thead>\n",
       "    <tr style=\"text-align: right;\">\n",
       "      <th></th>\n",
       "      <th>ds</th>\n",
       "      <th>COAST</th>\n",
       "      <th>EAST</th>\n",
       "      <th>FAR_WEST</th>\n",
       "      <th>NORTH</th>\n",
       "      <th>NORTH_C</th>\n",
       "      <th>SOUTHERN</th>\n",
       "      <th>SOUTH_C</th>\n",
       "      <th>WEST</th>\n",
       "    </tr>\n",
       "  </thead>\n",
       "  <tbody>\n",
       "    <tr>\n",
       "      <th>0</th>\n",
       "      <td>2004-01-01 01:00:00</td>\n",
       "      <td>7225.09</td>\n",
       "      <td>877.79</td>\n",
       "      <td>1044.89</td>\n",
       "      <td>745.79</td>\n",
       "      <td>7124.21</td>\n",
       "      <td>1660.45</td>\n",
       "      <td>3639.12</td>\n",
       "      <td>654.61</td>\n",
       "    </tr>\n",
       "    <tr>\n",
       "      <th>1</th>\n",
       "      <td>2004-01-01 02:00:00</td>\n",
       "      <td>6994.25</td>\n",
       "      <td>850.75</td>\n",
       "      <td>1032.04</td>\n",
       "      <td>721.34</td>\n",
       "      <td>6854.58</td>\n",
       "      <td>1603.52</td>\n",
       "      <td>3495.16</td>\n",
       "      <td>639.88</td>\n",
       "    </tr>\n",
       "    <tr>\n",
       "      <th>2</th>\n",
       "      <td>2004-01-01 03:00:00</td>\n",
       "      <td>6717.42</td>\n",
       "      <td>831.63</td>\n",
       "      <td>1021.10</td>\n",
       "      <td>699.70</td>\n",
       "      <td>6639.48</td>\n",
       "      <td>1527.99</td>\n",
       "      <td>3322.70</td>\n",
       "      <td>623.42</td>\n",
       "    </tr>\n",
       "    <tr>\n",
       "      <th>3</th>\n",
       "      <td>2004-01-01 04:00:00</td>\n",
       "      <td>6554.27</td>\n",
       "      <td>823.56</td>\n",
       "      <td>1015.41</td>\n",
       "      <td>691.84</td>\n",
       "      <td>6492.39</td>\n",
       "      <td>1473.89</td>\n",
       "      <td>3201.72</td>\n",
       "      <td>613.49</td>\n",
       "    </tr>\n",
       "    <tr>\n",
       "      <th>4</th>\n",
       "      <td>2004-01-01 05:00:00</td>\n",
       "      <td>6511.19</td>\n",
       "      <td>823.38</td>\n",
       "      <td>1009.74</td>\n",
       "      <td>686.76</td>\n",
       "      <td>6452.26</td>\n",
       "      <td>1462.76</td>\n",
       "      <td>3163.74</td>\n",
       "      <td>613.32</td>\n",
       "    </tr>\n",
       "    <tr>\n",
       "      <th>...</th>\n",
       "      <td>...</td>\n",
       "      <td>...</td>\n",
       "      <td>...</td>\n",
       "      <td>...</td>\n",
       "      <td>...</td>\n",
       "      <td>...</td>\n",
       "      <td>...</td>\n",
       "      <td>...</td>\n",
       "      <td>...</td>\n",
       "    </tr>\n",
       "    <tr>\n",
       "      <th>154849</th>\n",
       "      <td>2021-08-31 20:00:00</td>\n",
       "      <td>14477.26</td>\n",
       "      <td>1594.07</td>\n",
       "      <td>4307.99</td>\n",
       "      <td>832.71</td>\n",
       "      <td>13920.14</td>\n",
       "      <td>3666.45</td>\n",
       "      <td>7113.79</td>\n",
       "      <td>1150.02</td>\n",
       "    </tr>\n",
       "    <tr>\n",
       "      <th>154850</th>\n",
       "      <td>2021-08-31 21:00:00</td>\n",
       "      <td>14044.85</td>\n",
       "      <td>1565.64</td>\n",
       "      <td>4252.85</td>\n",
       "      <td>799.24</td>\n",
       "      <td>13308.33</td>\n",
       "      <td>3503.66</td>\n",
       "      <td>6805.93</td>\n",
       "      <td>1112.36</td>\n",
       "    </tr>\n",
       "    <tr>\n",
       "      <th>154851</th>\n",
       "      <td>2021-08-31 22:00:00</td>\n",
       "      <td>13796.10</td>\n",
       "      <td>1519.51</td>\n",
       "      <td>4213.14</td>\n",
       "      <td>777.39</td>\n",
       "      <td>12938.13</td>\n",
       "      <td>3396.58</td>\n",
       "      <td>6611.26</td>\n",
       "      <td>1086.27</td>\n",
       "    </tr>\n",
       "    <tr>\n",
       "      <th>154852</th>\n",
       "      <td>2021-08-31 23:00:00</td>\n",
       "      <td>13746.95</td>\n",
       "      <td>1498.90</td>\n",
       "      <td>4188.78</td>\n",
       "      <td>768.89</td>\n",
       "      <td>12876.06</td>\n",
       "      <td>3340.30</td>\n",
       "      <td>6589.14</td>\n",
       "      <td>1075.76</td>\n",
       "    </tr>\n",
       "    <tr>\n",
       "      <th>154853</th>\n",
       "      <td>2021-09-01 00:00:00</td>\n",
       "      <td>14035.90</td>\n",
       "      <td>1542.56</td>\n",
       "      <td>4216.02</td>\n",
       "      <td>787.35</td>\n",
       "      <td>13245.11</td>\n",
       "      <td>3387.29</td>\n",
       "      <td>6753.29</td>\n",
       "      <td>1090.01</td>\n",
       "    </tr>\n",
       "  </tbody>\n",
       "</table>\n",
       "<p>154854 rows × 9 columns</p>\n",
       "</div>"
      ],
      "text/plain": [
       "                        ds     COAST     EAST  FAR_WEST   NORTH   NORTH_C  \\\n",
       "0      2004-01-01 01:00:00   7225.09   877.79   1044.89  745.79   7124.21   \n",
       "1      2004-01-01 02:00:00   6994.25   850.75   1032.04  721.34   6854.58   \n",
       "2      2004-01-01 03:00:00   6717.42   831.63   1021.10  699.70   6639.48   \n",
       "3      2004-01-01 04:00:00   6554.27   823.56   1015.41  691.84   6492.39   \n",
       "4      2004-01-01 05:00:00   6511.19   823.38   1009.74  686.76   6452.26   \n",
       "...                    ...       ...      ...       ...     ...       ...   \n",
       "154849 2021-08-31 20:00:00  14477.26  1594.07   4307.99  832.71  13920.14   \n",
       "154850 2021-08-31 21:00:00  14044.85  1565.64   4252.85  799.24  13308.33   \n",
       "154851 2021-08-31 22:00:00  13796.10  1519.51   4213.14  777.39  12938.13   \n",
       "154852 2021-08-31 23:00:00  13746.95  1498.90   4188.78  768.89  12876.06   \n",
       "154853 2021-09-01 00:00:00  14035.90  1542.56   4216.02  787.35  13245.11   \n",
       "\n",
       "        SOUTHERN  SOUTH_C     WEST  \n",
       "0        1660.45  3639.12   654.61  \n",
       "1        1603.52  3495.16   639.88  \n",
       "2        1527.99  3322.70   623.42  \n",
       "3        1473.89  3201.72   613.49  \n",
       "4        1462.76  3163.74   613.32  \n",
       "...          ...      ...      ...  \n",
       "154849   3666.45  7113.79  1150.02  \n",
       "154850   3503.66  6805.93  1112.36  \n",
       "154851   3396.58  6611.26  1086.27  \n",
       "154852   3340.30  6589.14  1075.76  \n",
       "154853   3387.29  6753.29  1090.01  \n",
       "\n",
       "[154854 rows x 9 columns]"
      ]
     },
     "execution_count": 2,
     "metadata": {},
     "output_type": "execute_result"
    }
   ],
   "source": [
    "df_ercot = pd.read_csv(\"load_ercot_regions.csv\")\n",
    "df_ercot['ds']= pd.to_datetime(df_ercot['ds'])\n",
    "df_ercot"
   ]
  },
  {
   "cell_type": "code",
   "execution_count": 3,
   "id": "df471802",
   "metadata": {
    "ExecuteTime": {
     "end_time": "2022-05-23T11:20:31.267502Z",
     "start_time": "2022-05-23T11:20:31.222488Z"
    }
   },
   "outputs": [
    {
     "data": {
      "text/html": [
       "<div>\n",
       "<style scoped>\n",
       "    .dataframe tbody tr th:only-of-type {\n",
       "        vertical-align: middle;\n",
       "    }\n",
       "\n",
       "    .dataframe tbody tr th {\n",
       "        vertical-align: top;\n",
       "    }\n",
       "\n",
       "    .dataframe thead th {\n",
       "        text-align: right;\n",
       "    }\n",
       "</style>\n",
       "<table border=\"1\" class=\"dataframe\">\n",
       "  <thead>\n",
       "    <tr style=\"text-align: right;\">\n",
       "      <th></th>\n",
       "      <th>COAST</th>\n",
       "      <th>EAST</th>\n",
       "      <th>FAR_WEST</th>\n",
       "      <th>NORTH</th>\n",
       "      <th>NORTH_C</th>\n",
       "      <th>SOUTHERN</th>\n",
       "      <th>SOUTH_C</th>\n",
       "      <th>WEST</th>\n",
       "    </tr>\n",
       "    <tr>\n",
       "      <th>ds</th>\n",
       "      <th></th>\n",
       "      <th></th>\n",
       "      <th></th>\n",
       "      <th></th>\n",
       "      <th></th>\n",
       "      <th></th>\n",
       "      <th></th>\n",
       "      <th></th>\n",
       "    </tr>\n",
       "  </thead>\n",
       "  <tbody>\n",
       "    <tr>\n",
       "      <th>2004-01-01 01:00:00</th>\n",
       "      <td>7225.09</td>\n",
       "      <td>877.79</td>\n",
       "      <td>1044.89</td>\n",
       "      <td>745.79</td>\n",
       "      <td>7124.21</td>\n",
       "      <td>1660.45</td>\n",
       "      <td>3639.12</td>\n",
       "      <td>654.61</td>\n",
       "    </tr>\n",
       "    <tr>\n",
       "      <th>2004-01-01 02:00:00</th>\n",
       "      <td>6994.25</td>\n",
       "      <td>850.75</td>\n",
       "      <td>1032.04</td>\n",
       "      <td>721.34</td>\n",
       "      <td>6854.58</td>\n",
       "      <td>1603.52</td>\n",
       "      <td>3495.16</td>\n",
       "      <td>639.88</td>\n",
       "    </tr>\n",
       "    <tr>\n",
       "      <th>2004-01-01 03:00:00</th>\n",
       "      <td>6717.42</td>\n",
       "      <td>831.63</td>\n",
       "      <td>1021.10</td>\n",
       "      <td>699.70</td>\n",
       "      <td>6639.48</td>\n",
       "      <td>1527.99</td>\n",
       "      <td>3322.70</td>\n",
       "      <td>623.42</td>\n",
       "    </tr>\n",
       "    <tr>\n",
       "      <th>2004-01-01 04:00:00</th>\n",
       "      <td>6554.27</td>\n",
       "      <td>823.56</td>\n",
       "      <td>1015.41</td>\n",
       "      <td>691.84</td>\n",
       "      <td>6492.39</td>\n",
       "      <td>1473.89</td>\n",
       "      <td>3201.72</td>\n",
       "      <td>613.49</td>\n",
       "    </tr>\n",
       "    <tr>\n",
       "      <th>2004-01-01 05:00:00</th>\n",
       "      <td>6511.19</td>\n",
       "      <td>823.38</td>\n",
       "      <td>1009.74</td>\n",
       "      <td>686.76</td>\n",
       "      <td>6452.26</td>\n",
       "      <td>1462.76</td>\n",
       "      <td>3163.74</td>\n",
       "      <td>613.32</td>\n",
       "    </tr>\n",
       "    <tr>\n",
       "      <th>...</th>\n",
       "      <td>...</td>\n",
       "      <td>...</td>\n",
       "      <td>...</td>\n",
       "      <td>...</td>\n",
       "      <td>...</td>\n",
       "      <td>...</td>\n",
       "      <td>...</td>\n",
       "      <td>...</td>\n",
       "    </tr>\n",
       "    <tr>\n",
       "      <th>2021-08-31 20:00:00</th>\n",
       "      <td>14477.26</td>\n",
       "      <td>1594.07</td>\n",
       "      <td>4307.99</td>\n",
       "      <td>832.71</td>\n",
       "      <td>13920.14</td>\n",
       "      <td>3666.45</td>\n",
       "      <td>7113.79</td>\n",
       "      <td>1150.02</td>\n",
       "    </tr>\n",
       "    <tr>\n",
       "      <th>2021-08-31 21:00:00</th>\n",
       "      <td>14044.85</td>\n",
       "      <td>1565.64</td>\n",
       "      <td>4252.85</td>\n",
       "      <td>799.24</td>\n",
       "      <td>13308.33</td>\n",
       "      <td>3503.66</td>\n",
       "      <td>6805.93</td>\n",
       "      <td>1112.36</td>\n",
       "    </tr>\n",
       "    <tr>\n",
       "      <th>2021-08-31 22:00:00</th>\n",
       "      <td>13796.10</td>\n",
       "      <td>1519.51</td>\n",
       "      <td>4213.14</td>\n",
       "      <td>777.39</td>\n",
       "      <td>12938.13</td>\n",
       "      <td>3396.58</td>\n",
       "      <td>6611.26</td>\n",
       "      <td>1086.27</td>\n",
       "    </tr>\n",
       "    <tr>\n",
       "      <th>2021-08-31 23:00:00</th>\n",
       "      <td>13746.95</td>\n",
       "      <td>1498.90</td>\n",
       "      <td>4188.78</td>\n",
       "      <td>768.89</td>\n",
       "      <td>12876.06</td>\n",
       "      <td>3340.30</td>\n",
       "      <td>6589.14</td>\n",
       "      <td>1075.76</td>\n",
       "    </tr>\n",
       "    <tr>\n",
       "      <th>2021-09-01 00:00:00</th>\n",
       "      <td>14035.90</td>\n",
       "      <td>1542.56</td>\n",
       "      <td>4216.02</td>\n",
       "      <td>787.35</td>\n",
       "      <td>13245.11</td>\n",
       "      <td>3387.29</td>\n",
       "      <td>6753.29</td>\n",
       "      <td>1090.01</td>\n",
       "    </tr>\n",
       "  </tbody>\n",
       "</table>\n",
       "<p>154872 rows × 8 columns</p>\n",
       "</div>"
      ],
      "text/plain": [
       "                        COAST     EAST  FAR_WEST   NORTH   NORTH_C  SOUTHERN  \\\n",
       "ds                                                                             \n",
       "2004-01-01 01:00:00   7225.09   877.79   1044.89  745.79   7124.21   1660.45   \n",
       "2004-01-01 02:00:00   6994.25   850.75   1032.04  721.34   6854.58   1603.52   \n",
       "2004-01-01 03:00:00   6717.42   831.63   1021.10  699.70   6639.48   1527.99   \n",
       "2004-01-01 04:00:00   6554.27   823.56   1015.41  691.84   6492.39   1473.89   \n",
       "2004-01-01 05:00:00   6511.19   823.38   1009.74  686.76   6452.26   1462.76   \n",
       "...                       ...      ...       ...     ...       ...       ...   \n",
       "2021-08-31 20:00:00  14477.26  1594.07   4307.99  832.71  13920.14   3666.45   \n",
       "2021-08-31 21:00:00  14044.85  1565.64   4252.85  799.24  13308.33   3503.66   \n",
       "2021-08-31 22:00:00  13796.10  1519.51   4213.14  777.39  12938.13   3396.58   \n",
       "2021-08-31 23:00:00  13746.95  1498.90   4188.78  768.89  12876.06   3340.30   \n",
       "2021-09-01 00:00:00  14035.90  1542.56   4216.02  787.35  13245.11   3387.29   \n",
       "\n",
       "                     SOUTH_C     WEST  \n",
       "ds                                     \n",
       "2004-01-01 01:00:00  3639.12   654.61  \n",
       "2004-01-01 02:00:00  3495.16   639.88  \n",
       "2004-01-01 03:00:00  3322.70   623.42  \n",
       "2004-01-01 04:00:00  3201.72   613.49  \n",
       "2004-01-01 05:00:00  3163.74   613.32  \n",
       "...                      ...      ...  \n",
       "2021-08-31 20:00:00  7113.79  1150.02  \n",
       "2021-08-31 21:00:00  6805.93  1112.36  \n",
       "2021-08-31 22:00:00  6611.26  1086.27  \n",
       "2021-08-31 23:00:00  6589.14  1075.76  \n",
       "2021-09-01 00:00:00  6753.29  1090.01  \n",
       "\n",
       "[154872 rows x 8 columns]"
      ]
     },
     "execution_count": 3,
     "metadata": {},
     "output_type": "execute_result"
    }
   ],
   "source": [
    "df_ercot.set_index('ds',inplace=True)\n",
    "df_ercot=df_ercot.asfreq('1H')\n",
    "df_ercot"
   ]
  },
  {
   "cell_type": "code",
   "execution_count": 4,
   "id": "38d01647",
   "metadata": {
    "ExecuteTime": {
     "end_time": "2022-05-23T11:20:31.283505Z",
     "start_time": "2022-05-23T11:20:31.269502Z"
    }
   },
   "outputs": [],
   "source": [
    "# df_ercot = df_ercot.iloc[-10000:,:]"
   ]
  },
  {
   "cell_type": "code",
   "execution_count": 5,
   "id": "2696a8cf",
   "metadata": {
    "ExecuteTime": {
     "end_time": "2022-05-23T11:20:31.407534Z",
     "start_time": "2022-05-23T11:20:31.285506Z"
    }
   },
   "outputs": [],
   "source": [
    "n_unit_size = 24\n",
    "n_input_chunk = n_unit_size*20\n",
    "n_output_chunk = n_unit_size*1\n",
    "n_valid =  n_unit_size*60\n",
    "n_test = n_unit_size*60\n",
    "valid_iloc =n_input_chunk+n_valid+n_test\n",
    "test_iloc = n_input_chunk+n_test\n",
    "\n",
    "train_ts_list = [TimeSeries.from_series(df_ercot[col].iloc[:-valid_iloc],\n",
    "                                        fill_missing_dates=False,fillna_value=0) for col in df_ercot.columns]\n",
    "valid_ts_list = [TimeSeries.from_series(df_ercot[col].iloc[-valid_iloc:-test_iloc],\n",
    "                                        fill_missing_dates=False,fillna_value=0) for col in df_ercot.columns]\n",
    "test_ts_list = [TimeSeries.from_series(df_ercot[col].iloc[-test_iloc:],\n",
    "                                       fill_missing_dates=False,fillna_value=0) for col in df_ercot.columns]"
   ]
  },
  {
   "cell_type": "code",
   "execution_count": 6,
   "id": "10270257",
   "metadata": {
    "ExecuteTime": {
     "end_time": "2022-05-23T11:20:31.423542Z",
     "start_time": "2022-05-23T11:20:31.409534Z"
    }
   },
   "outputs": [],
   "source": [
    "# train_ts_list"
   ]
  },
  {
   "cell_type": "code",
   "execution_count": null,
   "id": "17ed0786",
   "metadata": {
    "ExecuteTime": {
     "end_time": "2022-05-22T14:24:54.993381Z",
     "start_time": "2022-05-22T14:24:54.920945Z"
    }
   },
   "outputs": [],
   "source": []
  },
  {
   "cell_type": "markdown",
   "id": "3564bd73",
   "metadata": {},
   "source": [
    "## 对不同地区进行建模"
   ]
  },
  {
   "cell_type": "code",
   "execution_count": 7,
   "id": "215fe7d3",
   "metadata": {
    "ExecuteTime": {
     "end_time": "2022-05-23T11:20:31.503563Z",
     "start_time": "2022-05-23T11:20:31.425541Z"
    }
   },
   "outputs": [],
   "source": [
    "diqu = 7\n",
    "\n",
    "\n",
    "scaler = MinMaxScaler()\n",
    "scaler_list = [Scaler(scaler) for col in df_ercot.columns]\n",
    "train_ts_list_scaled = [s.fit_transform(t) for s,t in zip(scaler_list,train_ts_list)]\n",
    "valid_ts_list_scaled = [s.transform(v) for s,v in zip(scaler_list,valid_ts_list)]\n",
    "test_ts_list_scaled = [s.transform(v) for s,v in zip(scaler_list,test_ts_list)]\n",
    "\n",
    "\n",
    "train_ts_list_scaled = train_ts_list_scaled[diqu]\n",
    "valid_ts_list_scaled = valid_ts_list_scaled[diqu]\n",
    "test_ts_list_scaled = test_ts_list_scaled[diqu]"
   ]
  },
  {
   "cell_type": "code",
   "execution_count": 8,
   "id": "be37eae9",
   "metadata": {
    "ExecuteTime": {
     "end_time": "2022-05-23T11:20:31.519261Z",
     "start_time": "2022-05-23T11:20:31.504563Z"
    }
   },
   "outputs": [],
   "source": [
    "# train_ts_list_scaled"
   ]
  },
  {
   "cell_type": "markdown",
   "id": "bf6b2050",
   "metadata": {},
   "source": [
    "## 开始建模"
   ]
  },
  {
   "cell_type": "code",
   "execution_count": 9,
   "id": "0502e4b5",
   "metadata": {
    "ExecuteTime": {
     "end_time": "2022-05-23T11:20:32.474082Z",
     "start_time": "2022-05-23T11:20:31.521262Z"
    }
   },
   "outputs": [
    {
     "name": "stderr",
     "output_type": "stream",
     "text": [
      "[2022-05-23 19:20:32,405] WARNING | darts.models | Support for Facebook Prophet is not available. To enable it, install \"darts\", \"u8darts[prophet]\" or \"u8darts[all]\" (with pip);or \"u8darts-all\" (with conda).\n",
      "2022-05-23 19:20:32 darts.models WARNING: Support for Facebook Prophet is not available. To enable it, install \"darts\", \"u8darts[prophet]\" or \"u8darts[all]\" (with pip);or \"u8darts-all\" (with conda).\n"
     ]
    }
   ],
   "source": [
    "from darts.models import TCNModel,RandomForest,RNNModel,ARIMA\n",
    "pl_trainer_kwargs={\n",
    "     \"accelerator\": \"gpu\",\n",
    "      \"gpus\": 1\n",
    "\n",
    "\n",
    "    }\n",
    "\n",
    "model = RNNModel(model=\"LSTM\",pl_trainer_kwargs=pl_trainer_kwargs,\n",
    "                 input_chunk_length=n_input_chunk,\n",
    "                 training_length=n_input_chunk+n_output_chunk, n_rnn_layers=2\n",
    "                )"
   ]
  },
  {
   "cell_type": "code",
   "execution_count": 10,
   "id": "abe2adbc",
   "metadata": {
    "ExecuteTime": {
     "end_time": "2022-05-23T11:25:43.146318Z",
     "start_time": "2022-05-23T11:20:32.477080Z"
    }
   },
   "outputs": [
    {
     "name": "stderr",
     "output_type": "stream",
     "text": [
      "[2022-05-23 19:20:32,479] INFO | darts.models.forecasting.torch_forecasting_model | Train dataset contains 151008 samples.\n",
      "[2022-05-23 19:20:32,479] INFO | darts.models.forecasting.torch_forecasting_model | Train dataset contains 151008 samples.\n",
      "2022-05-23 19:20:32 darts.models.forecasting.torch_forecasting_model INFO: Train dataset contains 151008 samples.\n",
      "[2022-05-23 19:20:32,482] INFO | darts.models.forecasting.torch_forecasting_model | Time series values are 64-bits; casting model to float64.\n",
      "[2022-05-23 19:20:32,482] INFO | darts.models.forecasting.torch_forecasting_model | Time series values are 64-bits; casting model to float64.\n",
      "2022-05-23 19:20:32 darts.models.forecasting.torch_forecasting_model INFO: Time series values are 64-bits; casting model to float64.\n",
      "[2022-05-23 19:20:32,484] WARNING | darts.models.forecasting.torch_forecasting_model | DeprecationWarning: kwarg `verbose` is deprecated and will be removed in a future Darts version. Instead, control verbosity with PyTorch Lightning Trainer parameters `enable_progress_bar`, `progress_bar_refresh_rate` and `enable_model_summary` in the `pl_trainer_kwargs` dict at model creation.\n",
      "[2022-05-23 19:20:32,484] WARNING | darts.models.forecasting.torch_forecasting_model | DeprecationWarning: kwarg `verbose` is deprecated and will be removed in a future Darts version. Instead, control verbosity with PyTorch Lightning Trainer parameters `enable_progress_bar`, `progress_bar_refresh_rate` and `enable_model_summary` in the `pl_trainer_kwargs` dict at model creation.\n",
      "2022-05-23 19:20:32 darts.models.forecasting.torch_forecasting_model WARNING: DeprecationWarning: kwarg `verbose` is deprecated and will be removed in a future Darts version. Instead, control verbosity with PyTorch Lightning Trainer parameters `enable_progress_bar`, `progress_bar_refresh_rate` and `enable_model_summary` in the `pl_trainer_kwargs` dict at model creation.\n",
      "GPU available: True, used: True\n",
      "TPU available: False, using: 0 TPU cores\n",
      "IPU available: False, using: 0 IPUs\n",
      "HPU available: False, using: 0 HPUs\n",
      "LOCAL_RANK: 0 - CUDA_VISIBLE_DEVICES: [0]\n",
      "\n",
      "  | Name      | Type    | Params\n",
      "--------------------------------------\n",
      "0 | criterion | MSELoss | 0     \n",
      "1 | rnn       | LSTM    | 8.0 K \n",
      "2 | V         | Linear  | 26    \n",
      "--------------------------------------\n",
      "8.0 K     Trainable params\n",
      "0         Non-trainable params\n",
      "8.0 K     Total params\n",
      "0.064     Total estimated model params size (MB)\n"
     ]
    },
    {
     "data": {
      "application/vnd.jupyter.widget-view+json": {
       "model_id": "",
       "version_major": 2,
       "version_minor": 0
      },
      "text/plain": [
       "Sanity Checking: 0it [00:00, ?it/s]"
      ]
     },
     "metadata": {},
     "output_type": "display_data"
    },
    {
     "data": {
      "application/vnd.jupyter.widget-view+json": {
       "model_id": "5258470b95414db18f3e9e78d41b0d50",
       "version_major": 2,
       "version_minor": 0
      },
      "text/plain": [
       "Training: 0it [00:00, ?it/s]"
      ]
     },
     "metadata": {},
     "output_type": "display_data"
    },
    {
     "data": {
      "application/vnd.jupyter.widget-view+json": {
       "model_id": "",
       "version_major": 2,
       "version_minor": 0
      },
      "text/plain": [
       "Validation: 0it [00:00, ?it/s]"
      ]
     },
     "metadata": {},
     "output_type": "display_data"
    },
    {
     "data": {
      "text/plain": [
       "<darts.models.forecasting.rnn_model.RNNModel at 0x17bb3ec7520>"
      ]
     },
     "execution_count": 10,
     "metadata": {},
     "output_type": "execute_result"
    }
   ],
   "source": [
    "# train = scaler_list[0].transform(df_ercot[0].iloc[:-test_iloc])\n",
    "model.fit(train_ts_list_scaled,val_series=valid_ts_list_scaled,verbose=True,epochs=1,trainer=None)\n"
   ]
  },
  {
   "cell_type": "code",
   "execution_count": 11,
   "id": "a221a644",
   "metadata": {
    "ExecuteTime": {
     "end_time": "2022-05-23T11:25:47.073075Z",
     "start_time": "2022-05-23T11:25:43.148317Z"
    }
   },
   "outputs": [
    {
     "name": "stderr",
     "output_type": "stream",
     "text": [
      "LOCAL_RANK: 0 - CUDA_VISIBLE_DEVICES: [0]\n"
     ]
    },
    {
     "data": {
      "application/vnd.jupyter.widget-view+json": {
       "model_id": "9fb3e95436054ef0adcd54c09483f97e",
       "version_major": 2,
       "version_minor": 0
      },
      "text/plain": [
       "Predicting: 4719it [00:00, ?it/s]"
      ]
     },
     "metadata": {},
     "output_type": "display_data"
    },
    {
     "name": "stderr",
     "output_type": "stream",
     "text": [
      "LOCAL_RANK: 0 - CUDA_VISIBLE_DEVICES: [0]\n"
     ]
    },
    {
     "data": {
      "application/vnd.jupyter.widget-view+json": {
       "model_id": "d9319a7a0b724bcbbfe8c92a580cd4a0",
       "version_major": 2,
       "version_minor": 0
      },
      "text/plain": [
       "Predicting: 4719it [00:00, ?it/s]"
      ]
     },
     "metadata": {},
     "output_type": "display_data"
    },
    {
     "name": "stderr",
     "output_type": "stream",
     "text": [
      "LOCAL_RANK: 0 - CUDA_VISIBLE_DEVICES: [0]\n"
     ]
    },
    {
     "data": {
      "application/vnd.jupyter.widget-view+json": {
       "model_id": "d3600c88976243758f54b8fcb0ca776a",
       "version_major": 2,
       "version_minor": 0
      },
      "text/plain": [
       "Predicting: 4719it [00:00, ?it/s]"
      ]
     },
     "metadata": {},
     "output_type": "display_data"
    },
    {
     "name": "stderr",
     "output_type": "stream",
     "text": [
      "LOCAL_RANK: 0 - CUDA_VISIBLE_DEVICES: [0]\n"
     ]
    },
    {
     "data": {
      "application/vnd.jupyter.widget-view+json": {
       "model_id": "9c7f83ac97d54c248e4044c9d39cd8d1",
       "version_major": 2,
       "version_minor": 0
      },
      "text/plain": [
       "Predicting: 4719it [00:00, ?it/s]"
      ]
     },
     "metadata": {},
     "output_type": "display_data"
    },
    {
     "name": "stderr",
     "output_type": "stream",
     "text": [
      "LOCAL_RANK: 0 - CUDA_VISIBLE_DEVICES: [0]\n"
     ]
    },
    {
     "data": {
      "application/vnd.jupyter.widget-view+json": {
       "model_id": "08f3f45741554d439957c1e890bc069e",
       "version_major": 2,
       "version_minor": 0
      },
      "text/plain": [
       "Predicting: 4719it [00:00, ?it/s]"
      ]
     },
     "metadata": {},
     "output_type": "display_data"
    },
    {
     "name": "stderr",
     "output_type": "stream",
     "text": [
      "LOCAL_RANK: 0 - CUDA_VISIBLE_DEVICES: [0]\n"
     ]
    },
    {
     "data": {
      "application/vnd.jupyter.widget-view+json": {
       "model_id": "ccb00224e9c340acbd29bfc1a3a4b938",
       "version_major": 2,
       "version_minor": 0
      },
      "text/plain": [
       "Predicting: 4719it [00:00, ?it/s]"
      ]
     },
     "metadata": {},
     "output_type": "display_data"
    },
    {
     "name": "stderr",
     "output_type": "stream",
     "text": [
      "LOCAL_RANK: 0 - CUDA_VISIBLE_DEVICES: [0]\n"
     ]
    },
    {
     "data": {
      "application/vnd.jupyter.widget-view+json": {
       "model_id": "f5c001b570a34e2f90824b457275d5c0",
       "version_major": 2,
       "version_minor": 0
      },
      "text/plain": [
       "Predicting: 4719it [00:00, ?it/s]"
      ]
     },
     "metadata": {},
     "output_type": "display_data"
    },
    {
     "name": "stderr",
     "output_type": "stream",
     "text": [
      "LOCAL_RANK: 0 - CUDA_VISIBLE_DEVICES: [0]\n"
     ]
    },
    {
     "data": {
      "application/vnd.jupyter.widget-view+json": {
       "model_id": "a6e2c630d9d54337a16bea6fa6af412b",
       "version_major": 2,
       "version_minor": 0
      },
      "text/plain": [
       "Predicting: 4719it [00:00, ?it/s]"
      ]
     },
     "metadata": {},
     "output_type": "display_data"
    },
    {
     "name": "stderr",
     "output_type": "stream",
     "text": [
      "LOCAL_RANK: 0 - CUDA_VISIBLE_DEVICES: [0]\n"
     ]
    },
    {
     "data": {
      "application/vnd.jupyter.widget-view+json": {
       "model_id": "4d58ea0031124bf3be7be68261fb3986",
       "version_major": 2,
       "version_minor": 0
      },
      "text/plain": [
       "Predicting: 4719it [00:00, ?it/s]"
      ]
     },
     "metadata": {},
     "output_type": "display_data"
    },
    {
     "name": "stderr",
     "output_type": "stream",
     "text": [
      "LOCAL_RANK: 0 - CUDA_VISIBLE_DEVICES: [0]\n"
     ]
    },
    {
     "data": {
      "application/vnd.jupyter.widget-view+json": {
       "model_id": "cbd133944f254e68b890faa92eb9ccc2",
       "version_major": 2,
       "version_minor": 0
      },
      "text/plain": [
       "Predicting: 4719it [00:00, ?it/s]"
      ]
     },
     "metadata": {},
     "output_type": "display_data"
    },
    {
     "name": "stderr",
     "output_type": "stream",
     "text": [
      "LOCAL_RANK: 0 - CUDA_VISIBLE_DEVICES: [0]\n"
     ]
    },
    {
     "data": {
      "application/vnd.jupyter.widget-view+json": {
       "model_id": "8f0537486e1842ebaa2837c79de0b3c6",
       "version_major": 2,
       "version_minor": 0
      },
      "text/plain": [
       "Predicting: 4719it [00:00, ?it/s]"
      ]
     },
     "metadata": {},
     "output_type": "display_data"
    },
    {
     "name": "stderr",
     "output_type": "stream",
     "text": [
      "LOCAL_RANK: 0 - CUDA_VISIBLE_DEVICES: [0]\n"
     ]
    },
    {
     "data": {
      "application/vnd.jupyter.widget-view+json": {
       "model_id": "e992de0b12cc4677afebbd8b0f283edb",
       "version_major": 2,
       "version_minor": 0
      },
      "text/plain": [
       "Predicting: 4719it [00:00, ?it/s]"
      ]
     },
     "metadata": {},
     "output_type": "display_data"
    },
    {
     "name": "stderr",
     "output_type": "stream",
     "text": [
      "LOCAL_RANK: 0 - CUDA_VISIBLE_DEVICES: [0]\n"
     ]
    },
    {
     "data": {
      "application/vnd.jupyter.widget-view+json": {
       "model_id": "6f13d112ae4d42bdbd785b4bbe7fa349",
       "version_major": 2,
       "version_minor": 0
      },
      "text/plain": [
       "Predicting: 4719it [00:00, ?it/s]"
      ]
     },
     "metadata": {},
     "output_type": "display_data"
    },
    {
     "name": "stderr",
     "output_type": "stream",
     "text": [
      "LOCAL_RANK: 0 - CUDA_VISIBLE_DEVICES: [0]\n"
     ]
    },
    {
     "data": {
      "application/vnd.jupyter.widget-view+json": {
       "model_id": "9d8cbbc13138465b82b4704154b9b91b",
       "version_major": 2,
       "version_minor": 0
      },
      "text/plain": [
       "Predicting: 4719it [00:00, ?it/s]"
      ]
     },
     "metadata": {},
     "output_type": "display_data"
    },
    {
     "name": "stderr",
     "output_type": "stream",
     "text": [
      "LOCAL_RANK: 0 - CUDA_VISIBLE_DEVICES: [0]\n"
     ]
    },
    {
     "data": {
      "application/vnd.jupyter.widget-view+json": {
       "model_id": "f9fb05cc59c345878ac23531e0834676",
       "version_major": 2,
       "version_minor": 0
      },
      "text/plain": [
       "Predicting: 4719it [00:00, ?it/s]"
      ]
     },
     "metadata": {},
     "output_type": "display_data"
    },
    {
     "name": "stderr",
     "output_type": "stream",
     "text": [
      "LOCAL_RANK: 0 - CUDA_VISIBLE_DEVICES: [0]\n"
     ]
    },
    {
     "data": {
      "application/vnd.jupyter.widget-view+json": {
       "model_id": "010560fdf8bf42eda3c7b57ea37d961c",
       "version_major": 2,
       "version_minor": 0
      },
      "text/plain": [
       "Predicting: 4719it [00:00, ?it/s]"
      ]
     },
     "metadata": {},
     "output_type": "display_data"
    },
    {
     "name": "stderr",
     "output_type": "stream",
     "text": [
      "LOCAL_RANK: 0 - CUDA_VISIBLE_DEVICES: [0]\n"
     ]
    },
    {
     "data": {
      "application/vnd.jupyter.widget-view+json": {
       "model_id": "79029fa5a64047828c535d89ac9c74da",
       "version_major": 2,
       "version_minor": 0
      },
      "text/plain": [
       "Predicting: 4719it [00:00, ?it/s]"
      ]
     },
     "metadata": {},
     "output_type": "display_data"
    },
    {
     "name": "stderr",
     "output_type": "stream",
     "text": [
      "LOCAL_RANK: 0 - CUDA_VISIBLE_DEVICES: [0]\n"
     ]
    },
    {
     "data": {
      "application/vnd.jupyter.widget-view+json": {
       "model_id": "6659bb37911046ccbea7f9ef5cac001e",
       "version_major": 2,
       "version_minor": 0
      },
      "text/plain": [
       "Predicting: 4719it [00:00, ?it/s]"
      ]
     },
     "metadata": {},
     "output_type": "display_data"
    },
    {
     "name": "stderr",
     "output_type": "stream",
     "text": [
      "LOCAL_RANK: 0 - CUDA_VISIBLE_DEVICES: [0]\n"
     ]
    },
    {
     "data": {
      "application/vnd.jupyter.widget-view+json": {
       "model_id": "77c93e656ff446e58a981dd1369321b2",
       "version_major": 2,
       "version_minor": 0
      },
      "text/plain": [
       "Predicting: 4719it [00:00, ?it/s]"
      ]
     },
     "metadata": {},
     "output_type": "display_data"
    },
    {
     "name": "stderr",
     "output_type": "stream",
     "text": [
      "LOCAL_RANK: 0 - CUDA_VISIBLE_DEVICES: [0]\n"
     ]
    },
    {
     "data": {
      "application/vnd.jupyter.widget-view+json": {
       "model_id": "389b0d10b60c4041bfe6485bfc39b118",
       "version_major": 2,
       "version_minor": 0
      },
      "text/plain": [
       "Predicting: 4719it [00:00, ?it/s]"
      ]
     },
     "metadata": {},
     "output_type": "display_data"
    },
    {
     "name": "stderr",
     "output_type": "stream",
     "text": [
      "LOCAL_RANK: 0 - CUDA_VISIBLE_DEVICES: [0]\n"
     ]
    },
    {
     "data": {
      "application/vnd.jupyter.widget-view+json": {
       "model_id": "ffb6f1e0ad1a4fe68e837401fa351735",
       "version_major": 2,
       "version_minor": 0
      },
      "text/plain": [
       "Predicting: 4719it [00:00, ?it/s]"
      ]
     },
     "metadata": {},
     "output_type": "display_data"
    },
    {
     "name": "stderr",
     "output_type": "stream",
     "text": [
      "LOCAL_RANK: 0 - CUDA_VISIBLE_DEVICES: [0]\n"
     ]
    },
    {
     "data": {
      "application/vnd.jupyter.widget-view+json": {
       "model_id": "ae08c05e9e904429903064220e599cb7",
       "version_major": 2,
       "version_minor": 0
      },
      "text/plain": [
       "Predicting: 4719it [00:00, ?it/s]"
      ]
     },
     "metadata": {},
     "output_type": "display_data"
    },
    {
     "name": "stderr",
     "output_type": "stream",
     "text": [
      "LOCAL_RANK: 0 - CUDA_VISIBLE_DEVICES: [0]\n"
     ]
    },
    {
     "data": {
      "application/vnd.jupyter.widget-view+json": {
       "model_id": "78910721a2df492ebd89cb689697c48a",
       "version_major": 2,
       "version_minor": 0
      },
      "text/plain": [
       "Predicting: 4719it [00:00, ?it/s]"
      ]
     },
     "metadata": {},
     "output_type": "display_data"
    },
    {
     "name": "stderr",
     "output_type": "stream",
     "text": [
      "LOCAL_RANK: 0 - CUDA_VISIBLE_DEVICES: [0]\n"
     ]
    },
    {
     "data": {
      "application/vnd.jupyter.widget-view+json": {
       "model_id": "4d6d0ff08e94489a9312e72eb89d488c",
       "version_major": 2,
       "version_minor": 0
      },
      "text/plain": [
       "Predicting: 4719it [00:00, ?it/s]"
      ]
     },
     "metadata": {},
     "output_type": "display_data"
    },
    {
     "name": "stderr",
     "output_type": "stream",
     "text": [
      "LOCAL_RANK: 0 - CUDA_VISIBLE_DEVICES: [0]\n"
     ]
    },
    {
     "data": {
      "application/vnd.jupyter.widget-view+json": {
       "model_id": "06a965d57c8d4300ab74bd402712307c",
       "version_major": 2,
       "version_minor": 0
      },
      "text/plain": [
       "Predicting: 4719it [00:00, ?it/s]"
      ]
     },
     "metadata": {},
     "output_type": "display_data"
    },
    {
     "name": "stderr",
     "output_type": "stream",
     "text": [
      "LOCAL_RANK: 0 - CUDA_VISIBLE_DEVICES: [0]\n"
     ]
    },
    {
     "data": {
      "application/vnd.jupyter.widget-view+json": {
       "model_id": "949f2a81119c46c383c4b48e59bb72be",
       "version_major": 2,
       "version_minor": 0
      },
      "text/plain": [
       "Predicting: 4719it [00:00, ?it/s]"
      ]
     },
     "metadata": {},
     "output_type": "display_data"
    },
    {
     "name": "stderr",
     "output_type": "stream",
     "text": [
      "LOCAL_RANK: 0 - CUDA_VISIBLE_DEVICES: [0]\n"
     ]
    },
    {
     "data": {
      "application/vnd.jupyter.widget-view+json": {
       "model_id": "b60a694c866b43deb336c6cf8d837224",
       "version_major": 2,
       "version_minor": 0
      },
      "text/plain": [
       "Predicting: 4719it [00:00, ?it/s]"
      ]
     },
     "metadata": {},
     "output_type": "display_data"
    },
    {
     "name": "stderr",
     "output_type": "stream",
     "text": [
      "LOCAL_RANK: 0 - CUDA_VISIBLE_DEVICES: [0]\n"
     ]
    },
    {
     "data": {
      "application/vnd.jupyter.widget-view+json": {
       "model_id": "36008a4892684178b9a2afd886e67d51",
       "version_major": 2,
       "version_minor": 0
      },
      "text/plain": [
       "Predicting: 4719it [00:00, ?it/s]"
      ]
     },
     "metadata": {},
     "output_type": "display_data"
    },
    {
     "name": "stderr",
     "output_type": "stream",
     "text": [
      "LOCAL_RANK: 0 - CUDA_VISIBLE_DEVICES: [0]\n"
     ]
    },
    {
     "data": {
      "application/vnd.jupyter.widget-view+json": {
       "model_id": "79e6d34c61dc45848246d7eb28fc4402",
       "version_major": 2,
       "version_minor": 0
      },
      "text/plain": [
       "Predicting: 4719it [00:00, ?it/s]"
      ]
     },
     "metadata": {},
     "output_type": "display_data"
    },
    {
     "name": "stderr",
     "output_type": "stream",
     "text": [
      "LOCAL_RANK: 0 - CUDA_VISIBLE_DEVICES: [0]\n"
     ]
    },
    {
     "data": {
      "application/vnd.jupyter.widget-view+json": {
       "model_id": "84b3f1581b404daaa59b1cc0f5ad2890",
       "version_major": 2,
       "version_minor": 0
      },
      "text/plain": [
       "Predicting: 4719it [00:00, ?it/s]"
      ]
     },
     "metadata": {},
     "output_type": "display_data"
    },
    {
     "name": "stderr",
     "output_type": "stream",
     "text": [
      "LOCAL_RANK: 0 - CUDA_VISIBLE_DEVICES: [0]\n"
     ]
    },
    {
     "data": {
      "application/vnd.jupyter.widget-view+json": {
       "model_id": "9acaab3ec19f448b8c7523176347e423",
       "version_major": 2,
       "version_minor": 0
      },
      "text/plain": [
       "Predicting: 4719it [00:00, ?it/s]"
      ]
     },
     "metadata": {},
     "output_type": "display_data"
    },
    {
     "name": "stderr",
     "output_type": "stream",
     "text": [
      "LOCAL_RANK: 0 - CUDA_VISIBLE_DEVICES: [0]\n"
     ]
    },
    {
     "data": {
      "application/vnd.jupyter.widget-view+json": {
       "model_id": "4604064b62a04b0eb98333d88e72368a",
       "version_major": 2,
       "version_minor": 0
      },
      "text/plain": [
       "Predicting: 4719it [00:00, ?it/s]"
      ]
     },
     "metadata": {},
     "output_type": "display_data"
    },
    {
     "name": "stderr",
     "output_type": "stream",
     "text": [
      "LOCAL_RANK: 0 - CUDA_VISIBLE_DEVICES: [0]\n"
     ]
    },
    {
     "data": {
      "application/vnd.jupyter.widget-view+json": {
       "model_id": "4042483a6ce7476aa19e8d64792280ff",
       "version_major": 2,
       "version_minor": 0
      },
      "text/plain": [
       "Predicting: 4719it [00:00, ?it/s]"
      ]
     },
     "metadata": {},
     "output_type": "display_data"
    },
    {
     "name": "stderr",
     "output_type": "stream",
     "text": [
      "LOCAL_RANK: 0 - CUDA_VISIBLE_DEVICES: [0]\n"
     ]
    },
    {
     "data": {
      "application/vnd.jupyter.widget-view+json": {
       "model_id": "5c5cb21607944d24a48c635e95e8b9be",
       "version_major": 2,
       "version_minor": 0
      },
      "text/plain": [
       "Predicting: 4719it [00:00, ?it/s]"
      ]
     },
     "metadata": {},
     "output_type": "display_data"
    },
    {
     "name": "stderr",
     "output_type": "stream",
     "text": [
      "LOCAL_RANK: 0 - CUDA_VISIBLE_DEVICES: [0]\n"
     ]
    },
    {
     "data": {
      "application/vnd.jupyter.widget-view+json": {
       "model_id": "142938ad6fa74ca5ba0ff937087a0016",
       "version_major": 2,
       "version_minor": 0
      },
      "text/plain": [
       "Predicting: 4719it [00:00, ?it/s]"
      ]
     },
     "metadata": {},
     "output_type": "display_data"
    },
    {
     "name": "stderr",
     "output_type": "stream",
     "text": [
      "LOCAL_RANK: 0 - CUDA_VISIBLE_DEVICES: [0]\n"
     ]
    },
    {
     "data": {
      "application/vnd.jupyter.widget-view+json": {
       "model_id": "c852e5cf12bd4b0ca7154687cff48523",
       "version_major": 2,
       "version_minor": 0
      },
      "text/plain": [
       "Predicting: 4719it [00:00, ?it/s]"
      ]
     },
     "metadata": {},
     "output_type": "display_data"
    },
    {
     "name": "stderr",
     "output_type": "stream",
     "text": [
      "LOCAL_RANK: 0 - CUDA_VISIBLE_DEVICES: [0]\n"
     ]
    },
    {
     "data": {
      "application/vnd.jupyter.widget-view+json": {
       "model_id": "8973094d09cc4c8bb7a0b15818c41510",
       "version_major": 2,
       "version_minor": 0
      },
      "text/plain": [
       "Predicting: 4719it [00:00, ?it/s]"
      ]
     },
     "metadata": {},
     "output_type": "display_data"
    },
    {
     "name": "stderr",
     "output_type": "stream",
     "text": [
      "LOCAL_RANK: 0 - CUDA_VISIBLE_DEVICES: [0]\n"
     ]
    },
    {
     "data": {
      "application/vnd.jupyter.widget-view+json": {
       "model_id": "cbdaac61d5ae477aafce0f368945addd",
       "version_major": 2,
       "version_minor": 0
      },
      "text/plain": [
       "Predicting: 4719it [00:00, ?it/s]"
      ]
     },
     "metadata": {},
     "output_type": "display_data"
    },
    {
     "name": "stderr",
     "output_type": "stream",
     "text": [
      "LOCAL_RANK: 0 - CUDA_VISIBLE_DEVICES: [0]\n"
     ]
    },
    {
     "data": {
      "application/vnd.jupyter.widget-view+json": {
       "model_id": "506adf3c90b0425a8f451775aad166d8",
       "version_major": 2,
       "version_minor": 0
      },
      "text/plain": [
       "Predicting: 4719it [00:00, ?it/s]"
      ]
     },
     "metadata": {},
     "output_type": "display_data"
    },
    {
     "name": "stderr",
     "output_type": "stream",
     "text": [
      "LOCAL_RANK: 0 - CUDA_VISIBLE_DEVICES: [0]\n"
     ]
    },
    {
     "data": {
      "application/vnd.jupyter.widget-view+json": {
       "model_id": "ef90bc61b9984ed7a1ce7d18a4813646",
       "version_major": 2,
       "version_minor": 0
      },
      "text/plain": [
       "Predicting: 4719it [00:00, ?it/s]"
      ]
     },
     "metadata": {},
     "output_type": "display_data"
    },
    {
     "name": "stderr",
     "output_type": "stream",
     "text": [
      "LOCAL_RANK: 0 - CUDA_VISIBLE_DEVICES: [0]\n"
     ]
    },
    {
     "data": {
      "application/vnd.jupyter.widget-view+json": {
       "model_id": "09c8176ca9304a19a99cc1cdb63882da",
       "version_major": 2,
       "version_minor": 0
      },
      "text/plain": [
       "Predicting: 4719it [00:00, ?it/s]"
      ]
     },
     "metadata": {},
     "output_type": "display_data"
    },
    {
     "name": "stderr",
     "output_type": "stream",
     "text": [
      "LOCAL_RANK: 0 - CUDA_VISIBLE_DEVICES: [0]\n"
     ]
    },
    {
     "data": {
      "application/vnd.jupyter.widget-view+json": {
       "model_id": "1313a61358744a098237d07ddff7802f",
       "version_major": 2,
       "version_minor": 0
      },
      "text/plain": [
       "Predicting: 4719it [00:00, ?it/s]"
      ]
     },
     "metadata": {},
     "output_type": "display_data"
    },
    {
     "name": "stderr",
     "output_type": "stream",
     "text": [
      "LOCAL_RANK: 0 - CUDA_VISIBLE_DEVICES: [0]\n"
     ]
    },
    {
     "data": {
      "application/vnd.jupyter.widget-view+json": {
       "model_id": "c80c98ad155645bea8fa29e966fb3d51",
       "version_major": 2,
       "version_minor": 0
      },
      "text/plain": [
       "Predicting: 4719it [00:00, ?it/s]"
      ]
     },
     "metadata": {},
     "output_type": "display_data"
    },
    {
     "name": "stderr",
     "output_type": "stream",
     "text": [
      "LOCAL_RANK: 0 - CUDA_VISIBLE_DEVICES: [0]\n"
     ]
    },
    {
     "data": {
      "application/vnd.jupyter.widget-view+json": {
       "model_id": "324deda8af354aafaa59beaaceecaa6b",
       "version_major": 2,
       "version_minor": 0
      },
      "text/plain": [
       "Predicting: 4719it [00:00, ?it/s]"
      ]
     },
     "metadata": {},
     "output_type": "display_data"
    },
    {
     "name": "stderr",
     "output_type": "stream",
     "text": [
      "LOCAL_RANK: 0 - CUDA_VISIBLE_DEVICES: [0]\n"
     ]
    },
    {
     "data": {
      "application/vnd.jupyter.widget-view+json": {
       "model_id": "3fdafd7438464d53a101177d923bc461",
       "version_major": 2,
       "version_minor": 0
      },
      "text/plain": [
       "Predicting: 4719it [00:00, ?it/s]"
      ]
     },
     "metadata": {},
     "output_type": "display_data"
    },
    {
     "name": "stderr",
     "output_type": "stream",
     "text": [
      "LOCAL_RANK: 0 - CUDA_VISIBLE_DEVICES: [0]\n"
     ]
    },
    {
     "data": {
      "application/vnd.jupyter.widget-view+json": {
       "model_id": "8eb63f98cb15469296be8bcfe3eb5778",
       "version_major": 2,
       "version_minor": 0
      },
      "text/plain": [
       "Predicting: 4719it [00:00, ?it/s]"
      ]
     },
     "metadata": {},
     "output_type": "display_data"
    },
    {
     "name": "stderr",
     "output_type": "stream",
     "text": [
      "LOCAL_RANK: 0 - CUDA_VISIBLE_DEVICES: [0]\n"
     ]
    },
    {
     "data": {
      "application/vnd.jupyter.widget-view+json": {
       "model_id": "04c363c001ca485aa5689d2cbe8c6587",
       "version_major": 2,
       "version_minor": 0
      },
      "text/plain": [
       "Predicting: 4719it [00:00, ?it/s]"
      ]
     },
     "metadata": {},
     "output_type": "display_data"
    },
    {
     "name": "stderr",
     "output_type": "stream",
     "text": [
      "LOCAL_RANK: 0 - CUDA_VISIBLE_DEVICES: [0]\n"
     ]
    },
    {
     "data": {
      "application/vnd.jupyter.widget-view+json": {
       "model_id": "52f302b632fb4c388a110ed7e6e90768",
       "version_major": 2,
       "version_minor": 0
      },
      "text/plain": [
       "Predicting: 4719it [00:00, ?it/s]"
      ]
     },
     "metadata": {},
     "output_type": "display_data"
    },
    {
     "name": "stderr",
     "output_type": "stream",
     "text": [
      "LOCAL_RANK: 0 - CUDA_VISIBLE_DEVICES: [0]\n"
     ]
    },
    {
     "data": {
      "application/vnd.jupyter.widget-view+json": {
       "model_id": "f8774622906243bfad07338ab00e6146",
       "version_major": 2,
       "version_minor": 0
      },
      "text/plain": [
       "Predicting: 4719it [00:00, ?it/s]"
      ]
     },
     "metadata": {},
     "output_type": "display_data"
    },
    {
     "name": "stderr",
     "output_type": "stream",
     "text": [
      "LOCAL_RANK: 0 - CUDA_VISIBLE_DEVICES: [0]\n"
     ]
    },
    {
     "data": {
      "application/vnd.jupyter.widget-view+json": {
       "model_id": "292e2ec8a17f46b585c49f3120f95560",
       "version_major": 2,
       "version_minor": 0
      },
      "text/plain": [
       "Predicting: 4719it [00:00, ?it/s]"
      ]
     },
     "metadata": {},
     "output_type": "display_data"
    },
    {
     "name": "stderr",
     "output_type": "stream",
     "text": [
      "LOCAL_RANK: 0 - CUDA_VISIBLE_DEVICES: [0]\n"
     ]
    },
    {
     "data": {
      "application/vnd.jupyter.widget-view+json": {
       "model_id": "7dacd3eb806e48cfbf506544c3267fec",
       "version_major": 2,
       "version_minor": 0
      },
      "text/plain": [
       "Predicting: 4719it [00:00, ?it/s]"
      ]
     },
     "metadata": {},
     "output_type": "display_data"
    },
    {
     "name": "stderr",
     "output_type": "stream",
     "text": [
      "LOCAL_RANK: 0 - CUDA_VISIBLE_DEVICES: [0]\n"
     ]
    },
    {
     "data": {
      "application/vnd.jupyter.widget-view+json": {
       "model_id": "dae3868348784ebb92e80168186489be",
       "version_major": 2,
       "version_minor": 0
      },
      "text/plain": [
       "Predicting: 4719it [00:00, ?it/s]"
      ]
     },
     "metadata": {},
     "output_type": "display_data"
    },
    {
     "name": "stderr",
     "output_type": "stream",
     "text": [
      "LOCAL_RANK: 0 - CUDA_VISIBLE_DEVICES: [0]\n"
     ]
    },
    {
     "data": {
      "application/vnd.jupyter.widget-view+json": {
       "model_id": "021fca6b38934d57a1b89685bdf873ec",
       "version_major": 2,
       "version_minor": 0
      },
      "text/plain": [
       "Predicting: 4719it [00:00, ?it/s]"
      ]
     },
     "metadata": {},
     "output_type": "display_data"
    },
    {
     "name": "stderr",
     "output_type": "stream",
     "text": [
      "LOCAL_RANK: 0 - CUDA_VISIBLE_DEVICES: [0]\n"
     ]
    },
    {
     "data": {
      "application/vnd.jupyter.widget-view+json": {
       "model_id": "2487c499499e4f5db3d4d13d22a5b634",
       "version_major": 2,
       "version_minor": 0
      },
      "text/plain": [
       "Predicting: 4719it [00:00, ?it/s]"
      ]
     },
     "metadata": {},
     "output_type": "display_data"
    },
    {
     "name": "stderr",
     "output_type": "stream",
     "text": [
      "LOCAL_RANK: 0 - CUDA_VISIBLE_DEVICES: [0]\n"
     ]
    },
    {
     "data": {
      "application/vnd.jupyter.widget-view+json": {
       "model_id": "64be5ac7acac4146b444b3bbbb3d16bf",
       "version_major": 2,
       "version_minor": 0
      },
      "text/plain": [
       "Predicting: 4719it [00:00, ?it/s]"
      ]
     },
     "metadata": {},
     "output_type": "display_data"
    },
    {
     "name": "stderr",
     "output_type": "stream",
     "text": [
      "LOCAL_RANK: 0 - CUDA_VISIBLE_DEVICES: [0]\n"
     ]
    },
    {
     "data": {
      "application/vnd.jupyter.widget-view+json": {
       "model_id": "585e60c5570e40059cd849b6f8c90454",
       "version_major": 2,
       "version_minor": 0
      },
      "text/plain": [
       "Predicting: 4719it [00:00, ?it/s]"
      ]
     },
     "metadata": {},
     "output_type": "display_data"
    },
    {
     "name": "stderr",
     "output_type": "stream",
     "text": [
      "LOCAL_RANK: 0 - CUDA_VISIBLE_DEVICES: [0]\n"
     ]
    },
    {
     "data": {
      "application/vnd.jupyter.widget-view+json": {
       "model_id": "5a38795cd46b454e8814302833c0aba5",
       "version_major": 2,
       "version_minor": 0
      },
      "text/plain": [
       "Predicting: 4719it [00:00, ?it/s]"
      ]
     },
     "metadata": {},
     "output_type": "display_data"
    },
    {
     "name": "stderr",
     "output_type": "stream",
     "text": [
      "LOCAL_RANK: 0 - CUDA_VISIBLE_DEVICES: [0]\n"
     ]
    },
    {
     "data": {
      "application/vnd.jupyter.widget-view+json": {
       "model_id": "ae86220faecf4d9ebce5bfc2f24c7e42",
       "version_major": 2,
       "version_minor": 0
      },
      "text/plain": [
       "Predicting: 4719it [00:00, ?it/s]"
      ]
     },
     "metadata": {},
     "output_type": "display_data"
    },
    {
     "name": "stderr",
     "output_type": "stream",
     "text": [
      "LOCAL_RANK: 0 - CUDA_VISIBLE_DEVICES: [0]\n"
     ]
    },
    {
     "data": {
      "application/vnd.jupyter.widget-view+json": {
       "model_id": "c8353d69170646a6a2a7cf87e077e99a",
       "version_major": 2,
       "version_minor": 0
      },
      "text/plain": [
       "Predicting: 4719it [00:00, ?it/s]"
      ]
     },
     "metadata": {},
     "output_type": "display_data"
    },
    {
     "name": "stderr",
     "output_type": "stream",
     "text": [
      "LOCAL_RANK: 0 - CUDA_VISIBLE_DEVICES: [0]\n"
     ]
    },
    {
     "data": {
      "application/vnd.jupyter.widget-view+json": {
       "model_id": "0787f5a5529c40c68c16cb21fdd21fc3",
       "version_major": 2,
       "version_minor": 0
      },
      "text/plain": [
       "Predicting: 4719it [00:00, ?it/s]"
      ]
     },
     "metadata": {},
     "output_type": "display_data"
    }
   ],
   "source": [
    "pred = model.historical_forecasts( series=test_ts_list_scaled,verbose=False,retrain=False,\n",
    "                                  start=n_input_chunk,forecast_horizon=n_output_chunk,stride=n_output_chunk,\n",
    "                                  overlap_end=True,last_points_only =False)\n",
    "pred_df = pd.concat([pred[s].pd_series() for s in range(len(pred))])"
   ]
  },
  {
   "cell_type": "code",
   "execution_count": 12,
   "id": "4ac483a2",
   "metadata": {
    "ExecuteTime": {
     "end_time": "2022-05-23T11:25:47.104918Z",
     "start_time": "2022-05-23T11:25:47.074075Z"
    }
   },
   "outputs": [],
   "source": [
    "pred_df = pd.concat([pred[s].pd_series() for s in range(len(pred))])"
   ]
  },
  {
   "cell_type": "code",
   "execution_count": 13,
   "id": "44436758",
   "metadata": {
    "ExecuteTime": {
     "end_time": "2022-05-23T11:25:47.120932Z",
     "start_time": "2022-05-23T11:25:47.106923Z"
    }
   },
   "outputs": [],
   "source": [
    "test_df = pd.concat([pred_df,test_ts_list_scaled.pd_series()],axis=1).iloc[n_input_chunk:,:]\n",
    "test_df.columns = [f'yhat',f'y']\n",
    "# test_all_df = pd.concat([test_all_df,test_df],axis=1)"
   ]
  },
  {
   "cell_type": "code",
   "execution_count": 14,
   "id": "8f04af8c",
   "metadata": {
    "ExecuteTime": {
     "end_time": "2022-05-23T11:25:47.136936Z",
     "start_time": "2022-05-23T11:25:47.121932Z"
    }
   },
   "outputs": [
    {
     "data": {
      "text/html": [
       "<div>\n",
       "<style scoped>\n",
       "    .dataframe tbody tr th:only-of-type {\n",
       "        vertical-align: middle;\n",
       "    }\n",
       "\n",
       "    .dataframe tbody tr th {\n",
       "        vertical-align: top;\n",
       "    }\n",
       "\n",
       "    .dataframe thead th {\n",
       "        text-align: right;\n",
       "    }\n",
       "</style>\n",
       "<table border=\"1\" class=\"dataframe\">\n",
       "  <thead>\n",
       "    <tr style=\"text-align: right;\">\n",
       "      <th></th>\n",
       "      <th>yhat</th>\n",
       "      <th>y</th>\n",
       "    </tr>\n",
       "    <tr>\n",
       "      <th>ds</th>\n",
       "      <th></th>\n",
       "      <th></th>\n",
       "    </tr>\n",
       "  </thead>\n",
       "  <tbody>\n",
       "    <tr>\n",
       "      <th>2021-07-03 01:00:00</th>\n",
       "      <td>0.519772</td>\n",
       "      <td>0.521479</td>\n",
       "    </tr>\n",
       "    <tr>\n",
       "      <th>2021-07-03 02:00:00</th>\n",
       "      <td>0.539343</td>\n",
       "      <td>0.532748</td>\n",
       "    </tr>\n",
       "    <tr>\n",
       "      <th>2021-07-03 03:00:00</th>\n",
       "      <td>0.566737</td>\n",
       "      <td>0.557094</td>\n",
       "    </tr>\n",
       "    <tr>\n",
       "      <th>2021-07-03 04:00:00</th>\n",
       "      <td>0.600759</td>\n",
       "      <td>0.590521</td>\n",
       "    </tr>\n",
       "    <tr>\n",
       "      <th>2021-07-03 05:00:00</th>\n",
       "      <td>0.639945</td>\n",
       "      <td>0.630311</td>\n",
       "    </tr>\n",
       "    <tr>\n",
       "      <th>...</th>\n",
       "      <td>...</td>\n",
       "      <td>...</td>\n",
       "    </tr>\n",
       "    <tr>\n",
       "      <th>2021-08-31 20:00:00</th>\n",
       "      <td>0.549038</td>\n",
       "      <td>0.543128</td>\n",
       "    </tr>\n",
       "    <tr>\n",
       "      <th>2021-08-31 21:00:00</th>\n",
       "      <td>0.529968</td>\n",
       "      <td>0.525342</td>\n",
       "    </tr>\n",
       "    <tr>\n",
       "      <th>2021-08-31 22:00:00</th>\n",
       "      <td>0.517822</td>\n",
       "      <td>0.513021</td>\n",
       "    </tr>\n",
       "    <tr>\n",
       "      <th>2021-08-31 23:00:00</th>\n",
       "      <td>0.513249</td>\n",
       "      <td>0.508057</td>\n",
       "    </tr>\n",
       "    <tr>\n",
       "      <th>2021-09-01 00:00:00</th>\n",
       "      <td>0.516862</td>\n",
       "      <td>0.514787</td>\n",
       "    </tr>\n",
       "  </tbody>\n",
       "</table>\n",
       "<p>1440 rows × 2 columns</p>\n",
       "</div>"
      ],
      "text/plain": [
       "                         yhat         y\n",
       "ds                                     \n",
       "2021-07-03 01:00:00  0.519772  0.521479\n",
       "2021-07-03 02:00:00  0.539343  0.532748\n",
       "2021-07-03 03:00:00  0.566737  0.557094\n",
       "2021-07-03 04:00:00  0.600759  0.590521\n",
       "2021-07-03 05:00:00  0.639945  0.630311\n",
       "...                       ...       ...\n",
       "2021-08-31 20:00:00  0.549038  0.543128\n",
       "2021-08-31 21:00:00  0.529968  0.525342\n",
       "2021-08-31 22:00:00  0.517822  0.513021\n",
       "2021-08-31 23:00:00  0.513249  0.508057\n",
       "2021-09-01 00:00:00  0.516862  0.514787\n",
       "\n",
       "[1440 rows x 2 columns]"
      ]
     },
     "execution_count": 14,
     "metadata": {},
     "output_type": "execute_result"
    }
   ],
   "source": [
    "test_df"
   ]
  },
  {
   "cell_type": "code",
   "execution_count": 15,
   "id": "d6d1792f",
   "metadata": {
    "ExecuteTime": {
     "end_time": "2022-05-23T11:25:48.445215Z",
     "start_time": "2022-05-23T11:25:47.137936Z"
    }
   },
   "outputs": [
    {
     "data": {
      "text/plain": [
       "<matplotlib.legend.Legend at 0x17bcda53b80>"
      ]
     },
     "execution_count": 15,
     "metadata": {},
     "output_type": "execute_result"
    },
    {
     "data": {
      "image/png": "[encoded data removed]",
      "text/plain": [
       "<Figure size 1440x864 with 1 Axes>"
      ]
     },
     "metadata": {
      "needs_background": "light"
     },
     "output_type": "display_data"
    }
   ],
   "source": [
    "plt.figure(figsize=(20,12))\n",
    "plt.plot(test_df.index,test_df.yhat,label='yhat')\n",
    "plt.plot(test_df.index,test_df.y,label='origin')\n",
    "plt.legend()"
   ]
  },
  {
   "cell_type": "code",
   "execution_count": 16,
   "id": "d82f50cf",
   "metadata": {
    "ExecuteTime": {
     "end_time": "2022-05-23T11:25:48.460572Z",
     "start_time": "2022-05-23T11:25:48.447215Z"
    }
   },
   "outputs": [
    {
     "name": "stdout",
     "output_type": "stream",
     "text": [
      "WEST\n",
      "MSE= 0.0010791485466432938\n",
      "MAE= 0.023881894207792312\n",
      "MAPE= 0.03633812655347903\n"
     ]
    }
   ],
   "source": [
    "from sklearn.metrics import mean_squared_error,mean_absolute_error,mean_absolute_percentage_error\n",
    "MSE = mean_squared_error(test_df.y, test_df.yhat)\n",
    "MAE = mean_absolute_error(test_df.y, test_df.yhat)\n",
    "MAPE = mean_absolute_percentage_error(test_df.y, test_df.yhat)\n",
    "print(df_ercot.columns[diqu])\n",
    "print(\"MSE=\",MSE)\n",
    "print(\"MAE=\",MAE)\n",
    "print(\"MAPE=\",MAPE)"
   ]
  },
  {
   "cell_type": "code",
   "execution_count": 17,
   "id": "9e0d79dc",
   "metadata": {
    "ExecuteTime": {
     "end_time": "2022-05-23T11:25:48.476576Z",
     "start_time": "2022-05-23T11:25:48.462573Z"
    }
   },
   "outputs": [],
   "source": [
    "# data = pd.read_csv(\"./result/result.csv\",index_col=0)\n",
    "# # data_new = pd.concat([data,test_df.reset_index(drop=True)['yhat']],axis=1)\n",
    "# # data_new.rename(columns={\"yhat\":'LSTM'},inplace=True)\n",
    "# data"
   ]
  },
  {
   "cell_type": "code",
   "execution_count": 18,
   "id": "6e50a686",
   "metadata": {
    "ExecuteTime": {
     "end_time": "2022-05-23T11:25:48.517585Z",
     "start_time": "2022-05-23T11:25:48.478576Z"
    }
   },
   "outputs": [],
   "source": [
    "# data_new"
   ]
  },
  {
   "cell_type": "code",
   "execution_count": 19,
   "id": "5cd1ceda",
   "metadata": {
    "ExecuteTime": {
     "end_time": "2022-05-23T11:25:48.556594Z",
     "start_time": "2022-05-23T11:25:48.551593Z"
    }
   },
   "outputs": [],
   "source": [
    "# data_new.to_csv(\"./result/result.csv\")"
   ]
  },
  {
   "cell_type": "code",
   "execution_count": null,
   "id": "aafc2e76",
   "metadata": {},
   "outputs": [],
   "source": []
  }
 ],
 "metadata": {
  "kernelspec": {
   "display_name": "Python 3 (ipykernel)",
   "language": "python",
   "name": "python3"
  },
  "language_info": {
   "codemirror_mode": {
    "name": "ipython",
    "version": 3
   },
   "file_extension": ".py",
   "mimetype": "text/x-python",
   "name": "python",
   "nbconvert_exporter": "python",
   "pygments_lexer": "ipython3",
   "version": "3.9.12"
  },
  "toc": {
   "base_numbering": 1,
   "nav_menu": {},
   "number_sections": true,
   "sideBar": true,
   "skip_h1_title": false,
   "title_cell": "Table of Contents",
   "title_sidebar": "Contents",
   "toc_cell": false,
   "toc_position": {},
   "toc_section_display": true,
   "toc_window_display": false
  }
 },
 "nbformat": 4,
 "nbformat_minor": 5
}

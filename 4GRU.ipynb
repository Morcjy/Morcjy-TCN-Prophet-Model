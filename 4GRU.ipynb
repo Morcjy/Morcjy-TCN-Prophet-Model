{
 "cells": [
  {
   "cell_type": "code",
   "execution_count": 1,
   "id": "f2d61ae6",
   "metadata": {
    "ExecuteTime": {
     "end_time": "2022-05-23T03:57:14.616205Z",
     "start_time": "2022-05-23T03:57:12.052345Z"
    }
   },
   "outputs": [],
   "source": [
    "import pandas as pd\n",
    "import numpy as np\n",
    "import matplotlib.pyplot as plt\n",
    "from darts import TimeSeries\n",
    "\n",
    "from pytorch_lightning.callbacks.early_stopping import EarlyStopping\n",
    "\n",
    "from sklearn.preprocessing import MinMaxScaler\n",
    "from darts.dataprocessing.transformers import Scaler"
   ]
  },
  {
   "cell_type": "code",
   "execution_count": 2,
   "id": "75b4e912",
   "metadata": {
    "ExecuteTime": {
     "end_time": "2022-05-23T03:57:14.838260Z",
     "start_time": "2022-05-23T03:57:14.617210Z"
    }
   },
   "outputs": [
    {
     "data": {
      "text/html": [
       "<div>\n",
       "<style scoped>\n",
       "    .dataframe tbody tr th:only-of-type {\n",
       "        vertical-align: middle;\n",
       "    }\n",
       "\n",
       "    .dataframe tbody tr th {\n",
       "        vertical-align: top;\n",
       "    }\n",
       "\n",
       "    .dataframe thead th {\n",
       "        text-align: right;\n",
       "    }\n",
       "</style>\n",
       "<table border=\"1\" class=\"dataframe\">\n",
       "  <thead>\n",
       "    <tr style=\"text-align: right;\">\n",
       "      <th></th>\n",
       "      <th>ds</th>\n",
       "      <th>COAST</th>\n",
       "      <th>EAST</th>\n",
       "      <th>FAR_WEST</th>\n",
       "      <th>NORTH</th>\n",
       "      <th>NORTH_C</th>\n",
       "      <th>SOUTHERN</th>\n",
       "      <th>SOUTH_C</th>\n",
       "      <th>WEST</th>\n",
       "    </tr>\n",
       "  </thead>\n",
       "  <tbody>\n",
       "    <tr>\n",
       "      <th>0</th>\n",
       "      <td>2004-01-01 01:00:00</td>\n",
       "      <td>7225.09</td>\n",
       "      <td>877.79</td>\n",
       "      <td>1044.89</td>\n",
       "      <td>745.79</td>\n",
       "      <td>7124.21</td>\n",
       "      <td>1660.45</td>\n",
       "      <td>3639.12</td>\n",
       "      <td>654.61</td>\n",
       "    </tr>\n",
       "    <tr>\n",
       "      <th>1</th>\n",
       "      <td>2004-01-01 02:00:00</td>\n",
       "      <td>6994.25</td>\n",
       "      <td>850.75</td>\n",
       "      <td>1032.04</td>\n",
       "      <td>721.34</td>\n",
       "      <td>6854.58</td>\n",
       "      <td>1603.52</td>\n",
       "      <td>3495.16</td>\n",
       "      <td>639.88</td>\n",
       "    </tr>\n",
       "    <tr>\n",
       "      <th>2</th>\n",
       "      <td>2004-01-01 03:00:00</td>\n",
       "      <td>6717.42</td>\n",
       "      <td>831.63</td>\n",
       "      <td>1021.10</td>\n",
       "      <td>699.70</td>\n",
       "      <td>6639.48</td>\n",
       "      <td>1527.99</td>\n",
       "      <td>3322.70</td>\n",
       "      <td>623.42</td>\n",
       "    </tr>\n",
       "    <tr>\n",
       "      <th>3</th>\n",
       "      <td>2004-01-01 04:00:00</td>\n",
       "      <td>6554.27</td>\n",
       "      <td>823.56</td>\n",
       "      <td>1015.41</td>\n",
       "      <td>691.84</td>\n",
       "      <td>6492.39</td>\n",
       "      <td>1473.89</td>\n",
       "      <td>3201.72</td>\n",
       "      <td>613.49</td>\n",
       "    </tr>\n",
       "    <tr>\n",
       "      <th>4</th>\n",
       "      <td>2004-01-01 05:00:00</td>\n",
       "      <td>6511.19</td>\n",
       "      <td>823.38</td>\n",
       "      <td>1009.74</td>\n",
       "      <td>686.76</td>\n",
       "      <td>6452.26</td>\n",
       "      <td>1462.76</td>\n",
       "      <td>3163.74</td>\n",
       "      <td>613.32</td>\n",
       "    </tr>\n",
       "    <tr>\n",
       "      <th>...</th>\n",
       "      <td>...</td>\n",
       "      <td>...</td>\n",
       "      <td>...</td>\n",
       "      <td>...</td>\n",
       "      <td>...</td>\n",
       "      <td>...</td>\n",
       "      <td>...</td>\n",
       "      <td>...</td>\n",
       "      <td>...</td>\n",
       "    </tr>\n",
       "    <tr>\n",
       "      <th>154849</th>\n",
       "      <td>2021-08-31 20:00:00</td>\n",
       "      <td>14477.26</td>\n",
       "      <td>1594.07</td>\n",
       "      <td>4307.99</td>\n",
       "      <td>832.71</td>\n",
       "      <td>13920.14</td>\n",
       "      <td>3666.45</td>\n",
       "      <td>7113.79</td>\n",
       "      <td>1150.02</td>\n",
       "    </tr>\n",
       "    <tr>\n",
       "      <th>154850</th>\n",
       "      <td>2021-08-31 21:00:00</td>\n",
       "      <td>14044.85</td>\n",
       "      <td>1565.64</td>\n",
       "      <td>4252.85</td>\n",
       "      <td>799.24</td>\n",
       "      <td>13308.33</td>\n",
       "      <td>3503.66</td>\n",
       "      <td>6805.93</td>\n",
       "      <td>1112.36</td>\n",
       "    </tr>\n",
       "    <tr>\n",
       "      <th>154851</th>\n",
       "      <td>2021-08-31 22:00:00</td>\n",
       "      <td>13796.10</td>\n",
       "      <td>1519.51</td>\n",
       "      <td>4213.14</td>\n",
       "      <td>777.39</td>\n",
       "      <td>12938.13</td>\n",
       "      <td>3396.58</td>\n",
       "      <td>6611.26</td>\n",
       "      <td>1086.27</td>\n",
       "    </tr>\n",
       "    <tr>\n",
       "      <th>154852</th>\n",
       "      <td>2021-08-31 23:00:00</td>\n",
       "      <td>13746.95</td>\n",
       "      <td>1498.90</td>\n",
       "      <td>4188.78</td>\n",
       "      <td>768.89</td>\n",
       "      <td>12876.06</td>\n",
       "      <td>3340.30</td>\n",
       "      <td>6589.14</td>\n",
       "      <td>1075.76</td>\n",
       "    </tr>\n",
       "    <tr>\n",
       "      <th>154853</th>\n",
       "      <td>2021-09-01 00:00:00</td>\n",
       "      <td>14035.90</td>\n",
       "      <td>1542.56</td>\n",
       "      <td>4216.02</td>\n",
       "      <td>787.35</td>\n",
       "      <td>13245.11</td>\n",
       "      <td>3387.29</td>\n",
       "      <td>6753.29</td>\n",
       "      <td>1090.01</td>\n",
       "    </tr>\n",
       "  </tbody>\n",
       "</table>\n",
       "<p>154854 rows × 9 columns</p>\n",
       "</div>"
      ],
      "text/plain": [
       "                        ds     COAST     EAST  FAR_WEST   NORTH   NORTH_C  \\\n",
       "0      2004-01-01 01:00:00   7225.09   877.79   1044.89  745.79   7124.21   \n",
       "1      2004-01-01 02:00:00   6994.25   850.75   1032.04  721.34   6854.58   \n",
       "2      2004-01-01 03:00:00   6717.42   831.63   1021.10  699.70   6639.48   \n",
       "3      2004-01-01 04:00:00   6554.27   823.56   1015.41  691.84   6492.39   \n",
       "4      2004-01-01 05:00:00   6511.19   823.38   1009.74  686.76   6452.26   \n",
       "...                    ...       ...      ...       ...     ...       ...   \n",
       "154849 2021-08-31 20:00:00  14477.26  1594.07   4307.99  832.71  13920.14   \n",
       "154850 2021-08-31 21:00:00  14044.85  1565.64   4252.85  799.24  13308.33   \n",
       "154851 2021-08-31 22:00:00  13796.10  1519.51   4213.14  777.39  12938.13   \n",
       "154852 2021-08-31 23:00:00  13746.95  1498.90   4188.78  768.89  12876.06   \n",
       "154853 2021-09-01 00:00:00  14035.90  1542.56   4216.02  787.35  13245.11   \n",
       "\n",
       "        SOUTHERN  SOUTH_C     WEST  \n",
       "0        1660.45  3639.12   654.61  \n",
       "1        1603.52  3495.16   639.88  \n",
       "2        1527.99  3322.70   623.42  \n",
       "3        1473.89  3201.72   613.49  \n",
       "4        1462.76  3163.74   613.32  \n",
       "...          ...      ...      ...  \n",
       "154849   3666.45  7113.79  1150.02  \n",
       "154850   3503.66  6805.93  1112.36  \n",
       "154851   3396.58  6611.26  1086.27  \n",
       "154852   3340.30  6589.14  1075.76  \n",
       "154853   3387.29  6753.29  1090.01  \n",
       "\n",
       "[154854 rows x 9 columns]"
      ]
     },
     "execution_count": 2,
     "metadata": {},
     "output_type": "execute_result"
    }
   ],
   "source": [
    "df_ercot = pd.read_csv(\"load_ercot_regions.csv\")\n",
    "df_ercot['ds']= pd.to_datetime(df_ercot['ds'])\n",
    "df_ercot"
   ]
  },
  {
   "cell_type": "code",
   "execution_count": 3,
   "id": "df471802",
   "metadata": {
    "ExecuteTime": {
     "end_time": "2022-05-23T03:57:14.885529Z",
     "start_time": "2022-05-23T03:57:14.840261Z"
    }
   },
   "outputs": [
    {
     "data": {
      "text/html": [
       "<div>\n",
       "<style scoped>\n",
       "    .dataframe tbody tr th:only-of-type {\n",
       "        vertical-align: middle;\n",
       "    }\n",
       "\n",
       "    .dataframe tbody tr th {\n",
       "        vertical-align: top;\n",
       "    }\n",
       "\n",
       "    .dataframe thead th {\n",
       "        text-align: right;\n",
       "    }\n",
       "</style>\n",
       "<table border=\"1\" class=\"dataframe\">\n",
       "  <thead>\n",
       "    <tr style=\"text-align: right;\">\n",
       "      <th></th>\n",
       "      <th>COAST</th>\n",
       "      <th>EAST</th>\n",
       "      <th>FAR_WEST</th>\n",
       "      <th>NORTH</th>\n",
       "      <th>NORTH_C</th>\n",
       "      <th>SOUTHERN</th>\n",
       "      <th>SOUTH_C</th>\n",
       "      <th>WEST</th>\n",
       "    </tr>\n",
       "    <tr>\n",
       "      <th>ds</th>\n",
       "      <th></th>\n",
       "      <th></th>\n",
       "      <th></th>\n",
       "      <th></th>\n",
       "      <th></th>\n",
       "      <th></th>\n",
       "      <th></th>\n",
       "      <th></th>\n",
       "    </tr>\n",
       "  </thead>\n",
       "  <tbody>\n",
       "    <tr>\n",
       "      <th>2004-01-01 01:00:00</th>\n",
       "      <td>7225.09</td>\n",
       "      <td>877.79</td>\n",
       "      <td>1044.89</td>\n",
       "      <td>745.79</td>\n",
       "      <td>7124.21</td>\n",
       "      <td>1660.45</td>\n",
       "      <td>3639.12</td>\n",
       "      <td>654.61</td>\n",
       "    </tr>\n",
       "    <tr>\n",
       "      <th>2004-01-01 02:00:00</th>\n",
       "      <td>6994.25</td>\n",
       "      <td>850.75</td>\n",
       "      <td>1032.04</td>\n",
       "      <td>721.34</td>\n",
       "      <td>6854.58</td>\n",
       "      <td>1603.52</td>\n",
       "      <td>3495.16</td>\n",
       "      <td>639.88</td>\n",
       "    </tr>\n",
       "    <tr>\n",
       "      <th>2004-01-01 03:00:00</th>\n",
       "      <td>6717.42</td>\n",
       "      <td>831.63</td>\n",
       "      <td>1021.10</td>\n",
       "      <td>699.70</td>\n",
       "      <td>6639.48</td>\n",
       "      <td>1527.99</td>\n",
       "      <td>3322.70</td>\n",
       "      <td>623.42</td>\n",
       "    </tr>\n",
       "    <tr>\n",
       "      <th>2004-01-01 04:00:00</th>\n",
       "      <td>6554.27</td>\n",
       "      <td>823.56</td>\n",
       "      <td>1015.41</td>\n",
       "      <td>691.84</td>\n",
       "      <td>6492.39</td>\n",
       "      <td>1473.89</td>\n",
       "      <td>3201.72</td>\n",
       "      <td>613.49</td>\n",
       "    </tr>\n",
       "    <tr>\n",
       "      <th>2004-01-01 05:00:00</th>\n",
       "      <td>6511.19</td>\n",
       "      <td>823.38</td>\n",
       "      <td>1009.74</td>\n",
       "      <td>686.76</td>\n",
       "      <td>6452.26</td>\n",
       "      <td>1462.76</td>\n",
       "      <td>3163.74</td>\n",
       "      <td>613.32</td>\n",
       "    </tr>\n",
       "    <tr>\n",
       "      <th>...</th>\n",
       "      <td>...</td>\n",
       "      <td>...</td>\n",
       "      <td>...</td>\n",
       "      <td>...</td>\n",
       "      <td>...</td>\n",
       "      <td>...</td>\n",
       "      <td>...</td>\n",
       "      <td>...</td>\n",
       "    </tr>\n",
       "    <tr>\n",
       "      <th>2021-08-31 20:00:00</th>\n",
       "      <td>14477.26</td>\n",
       "      <td>1594.07</td>\n",
       "      <td>4307.99</td>\n",
       "      <td>832.71</td>\n",
       "      <td>13920.14</td>\n",
       "      <td>3666.45</td>\n",
       "      <td>7113.79</td>\n",
       "      <td>1150.02</td>\n",
       "    </tr>\n",
       "    <tr>\n",
       "      <th>2021-08-31 21:00:00</th>\n",
       "      <td>14044.85</td>\n",
       "      <td>1565.64</td>\n",
       "      <td>4252.85</td>\n",
       "      <td>799.24</td>\n",
       "      <td>13308.33</td>\n",
       "      <td>3503.66</td>\n",
       "      <td>6805.93</td>\n",
       "      <td>1112.36</td>\n",
       "    </tr>\n",
       "    <tr>\n",
       "      <th>2021-08-31 22:00:00</th>\n",
       "      <td>13796.10</td>\n",
       "      <td>1519.51</td>\n",
       "      <td>4213.14</td>\n",
       "      <td>777.39</td>\n",
       "      <td>12938.13</td>\n",
       "      <td>3396.58</td>\n",
       "      <td>6611.26</td>\n",
       "      <td>1086.27</td>\n",
       "    </tr>\n",
       "    <tr>\n",
       "      <th>2021-08-31 23:00:00</th>\n",
       "      <td>13746.95</td>\n",
       "      <td>1498.90</td>\n",
       "      <td>4188.78</td>\n",
       "      <td>768.89</td>\n",
       "      <td>12876.06</td>\n",
       "      <td>3340.30</td>\n",
       "      <td>6589.14</td>\n",
       "      <td>1075.76</td>\n",
       "    </tr>\n",
       "    <tr>\n",
       "      <th>2021-09-01 00:00:00</th>\n",
       "      <td>14035.90</td>\n",
       "      <td>1542.56</td>\n",
       "      <td>4216.02</td>\n",
       "      <td>787.35</td>\n",
       "      <td>13245.11</td>\n",
       "      <td>3387.29</td>\n",
       "      <td>6753.29</td>\n",
       "      <td>1090.01</td>\n",
       "    </tr>\n",
       "  </tbody>\n",
       "</table>\n",
       "<p>154872 rows × 8 columns</p>\n",
       "</div>"
      ],
      "text/plain": [
       "                        COAST     EAST  FAR_WEST   NORTH   NORTH_C  SOUTHERN  \\\n",
       "ds                                                                             \n",
       "2004-01-01 01:00:00   7225.09   877.79   1044.89  745.79   7124.21   1660.45   \n",
       "2004-01-01 02:00:00   6994.25   850.75   1032.04  721.34   6854.58   1603.52   \n",
       "2004-01-01 03:00:00   6717.42   831.63   1021.10  699.70   6639.48   1527.99   \n",
       "2004-01-01 04:00:00   6554.27   823.56   1015.41  691.84   6492.39   1473.89   \n",
       "2004-01-01 05:00:00   6511.19   823.38   1009.74  686.76   6452.26   1462.76   \n",
       "...                       ...      ...       ...     ...       ...       ...   \n",
       "2021-08-31 20:00:00  14477.26  1594.07   4307.99  832.71  13920.14   3666.45   \n",
       "2021-08-31 21:00:00  14044.85  1565.64   4252.85  799.24  13308.33   3503.66   \n",
       "2021-08-31 22:00:00  13796.10  1519.51   4213.14  777.39  12938.13   3396.58   \n",
       "2021-08-31 23:00:00  13746.95  1498.90   4188.78  768.89  12876.06   3340.30   \n",
       "2021-09-01 00:00:00  14035.90  1542.56   4216.02  787.35  13245.11   3387.29   \n",
       "\n",
       "                     SOUTH_C     WEST  \n",
       "ds                                     \n",
       "2004-01-01 01:00:00  3639.12   654.61  \n",
       "2004-01-01 02:00:00  3495.16   639.88  \n",
       "2004-01-01 03:00:00  3322.70   623.42  \n",
       "2004-01-01 04:00:00  3201.72   613.49  \n",
       "2004-01-01 05:00:00  3163.74   613.32  \n",
       "...                      ...      ...  \n",
       "2021-08-31 20:00:00  7113.79  1150.02  \n",
       "2021-08-31 21:00:00  6805.93  1112.36  \n",
       "2021-08-31 22:00:00  6611.26  1086.27  \n",
       "2021-08-31 23:00:00  6589.14  1075.76  \n",
       "2021-09-01 00:00:00  6753.29  1090.01  \n",
       "\n",
       "[154872 rows x 8 columns]"
      ]
     },
     "execution_count": 3,
     "metadata": {},
     "output_type": "execute_result"
    }
   ],
   "source": [
    "df_ercot.set_index('ds',inplace=True)\n",
    "df_ercot=df_ercot.asfreq('1H')\n",
    "df_ercot"
   ]
  },
  {
   "cell_type": "code",
   "execution_count": 4,
   "id": "1d4e8a62",
   "metadata": {
    "ExecuteTime": {
     "end_time": "2022-05-23T03:57:14.901533Z",
     "start_time": "2022-05-23T03:57:14.888530Z"
    }
   },
   "outputs": [],
   "source": [
    "# df_ercot = df_ercot.iloc[-10000:,:]"
   ]
  },
  {
   "cell_type": "code",
   "execution_count": 5,
   "id": "2696a8cf",
   "metadata": {
    "ExecuteTime": {
     "end_time": "2022-05-23T03:57:15.025569Z",
     "start_time": "2022-05-23T03:57:14.904533Z"
    }
   },
   "outputs": [],
   "source": [
    "n_unit_size = 24\n",
    "n_input_chunk = n_unit_size*20\n",
    "n_output_chunk = n_unit_size*1\n",
    "n_valid =  n_unit_size*60\n",
    "n_test = n_unit_size*60\n",
    "valid_iloc =n_input_chunk+n_valid+n_test\n",
    "test_iloc = n_input_chunk+n_test\n",
    "\n",
    "train_ts_list = [TimeSeries.from_series(df_ercot[col].iloc[:-valid_iloc],\n",
    "                                        fill_missing_dates=False,fillna_value=0) for col in df_ercot.columns]\n",
    "valid_ts_list = [TimeSeries.from_series(df_ercot[col].iloc[-valid_iloc:-test_iloc],\n",
    "                                        fill_missing_dates=False,fillna_value=0) for col in df_ercot.columns]\n",
    "test_ts_list = [TimeSeries.from_series(df_ercot[col].iloc[-test_iloc:],\n",
    "                                       fill_missing_dates=False,fillna_value=0) for col in df_ercot.columns]"
   ]
  },
  {
   "cell_type": "code",
   "execution_count": 6,
   "id": "10270257",
   "metadata": {
    "ExecuteTime": {
     "end_time": "2022-05-23T03:57:15.040848Z",
     "start_time": "2022-05-23T03:57:15.026574Z"
    }
   },
   "outputs": [],
   "source": [
    "# train_ts_list"
   ]
  },
  {
   "cell_type": "code",
   "execution_count": null,
   "id": "17ed0786",
   "metadata": {
    "ExecuteTime": {
     "end_time": "2022-05-23T03:15:13.726221Z",
     "start_time": "2022-05-23T03:15:13.655687Z"
    }
   },
   "outputs": [],
   "source": []
  },
  {
   "cell_type": "markdown",
   "id": "3564bd73",
   "metadata": {},
   "source": [
    "## 对不同地区进行建模"
   ]
  },
  {
   "cell_type": "code",
   "execution_count": 7,
   "id": "215fe7d3",
   "metadata": {
    "ExecuteTime": {
     "end_time": "2022-05-23T03:57:15.120873Z",
     "start_time": "2022-05-23T03:57:15.041849Z"
    }
   },
   "outputs": [],
   "source": [
    "diqu = 7  #一共八个地区，分别为0-7\n",
    "\n",
    "scaler = MinMaxScaler()\n",
    "scaler_list = [Scaler(scaler) for col in df_ercot.columns]\n",
    "train_ts_list_scaled = [s.fit_transform(t) for s,t in zip(scaler_list,train_ts_list)]\n",
    "valid_ts_list_scaled = [s.transform(v) for s,v in zip(scaler_list,valid_ts_list)]\n",
    "test_ts_list_scaled = [s.transform(v) for s,v in zip(scaler_list,test_ts_list)]\n",
    "\n",
    "\n",
    "train_ts_list_scaled = train_ts_list_scaled[diqu]\n",
    "valid_ts_list_scaled = valid_ts_list_scaled[diqu]\n",
    "test_ts_list_scaled = test_ts_list_scaled[diqu]"
   ]
  },
  {
   "cell_type": "code",
   "execution_count": 8,
   "id": "be37eae9",
   "metadata": {
    "ExecuteTime": {
     "end_time": "2022-05-23T03:57:15.136883Z",
     "start_time": "2022-05-23T03:57:15.121876Z"
    }
   },
   "outputs": [],
   "source": [
    "# train_ts_list_scaled"
   ]
  },
  {
   "cell_type": "markdown",
   "id": "bf6b2050",
   "metadata": {},
   "source": [
    "## 开始建模"
   ]
  },
  {
   "cell_type": "code",
   "execution_count": 9,
   "id": "0502e4b5",
   "metadata": {
    "ExecuteTime": {
     "end_time": "2022-05-23T03:57:16.091386Z",
     "start_time": "2022-05-23T03:57:15.137883Z"
    }
   },
   "outputs": [
    {
     "name": "stderr",
     "output_type": "stream",
     "text": [
      "[2022-05-23 11:57:15,997] WARNING | darts.models | Support for Facebook Prophet is not available. To enable it, install \"darts\", \"u8darts[prophet]\" or \"u8darts[all]\" (with pip);or \"u8darts-all\" (with conda).\n",
      "2022-05-23 11:57:15 darts.models WARNING: Support for Facebook Prophet is not available. To enable it, install \"darts\", \"u8darts[prophet]\" or \"u8darts[all]\" (with pip);or \"u8darts-all\" (with conda).\n"
     ]
    }
   ],
   "source": [
    "from darts.models import TCNModel,RandomForest,RNNModel,ARIMA\n",
    "\n",
    "\n",
    "pl_trainer_kwargs={\n",
    "     \"accelerator\": \"gpu\",\n",
    "      \"gpus\": 1\n",
    "\n",
    "\n",
    "    }\n",
    "model = RNNModel(model=\"GRU\",pl_trainer_kwargs=pl_trainer_kwargs,\n",
    "                 input_chunk_length=n_input_chunk,\n",
    "                 training_length=n_input_chunk+n_output_chunk, n_rnn_layers=2\n",
    "                )"
   ]
  },
  {
   "cell_type": "code",
   "execution_count": 10,
   "id": "abe2adbc",
   "metadata": {
    "ExecuteTime": {
     "end_time": "2022-05-23T04:01:59.760110Z",
     "start_time": "2022-05-23T03:57:16.094394Z"
    }
   },
   "outputs": [
    {
     "name": "stderr",
     "output_type": "stream",
     "text": [
      "[2022-05-23 11:57:16,096] INFO | darts.models.forecasting.torch_forecasting_model | Train dataset contains 151008 samples.\n",
      "[2022-05-23 11:57:16,096] INFO | darts.models.forecasting.torch_forecasting_model | Train dataset contains 151008 samples.\n",
      "2022-05-23 11:57:16 darts.models.forecasting.torch_forecasting_model INFO: Train dataset contains 151008 samples.\n",
      "[2022-05-23 11:57:16,099] INFO | darts.models.forecasting.torch_forecasting_model | Time series values are 64-bits; casting model to float64.\n",
      "[2022-05-23 11:57:16,099] INFO | darts.models.forecasting.torch_forecasting_model | Time series values are 64-bits; casting model to float64.\n",
      "2022-05-23 11:57:16 darts.models.forecasting.torch_forecasting_model INFO: Time series values are 64-bits; casting model to float64.\n",
      "[2022-05-23 11:57:16,101] WARNING | darts.models.forecasting.torch_forecasting_model | DeprecationWarning: kwarg `verbose` is deprecated and will be removed in a future Darts version. Instead, control verbosity with PyTorch Lightning Trainer parameters `enable_progress_bar`, `progress_bar_refresh_rate` and `enable_model_summary` in the `pl_trainer_kwargs` dict at model creation.\n",
      "[2022-05-23 11:57:16,101] WARNING | darts.models.forecasting.torch_forecasting_model | DeprecationWarning: kwarg `verbose` is deprecated and will be removed in a future Darts version. Instead, control verbosity with PyTorch Lightning Trainer parameters `enable_progress_bar`, `progress_bar_refresh_rate` and `enable_model_summary` in the `pl_trainer_kwargs` dict at model creation.\n",
      "2022-05-23 11:57:16 darts.models.forecasting.torch_forecasting_model WARNING: DeprecationWarning: kwarg `verbose` is deprecated and will be removed in a future Darts version. Instead, control verbosity with PyTorch Lightning Trainer parameters `enable_progress_bar`, `progress_bar_refresh_rate` and `enable_model_summary` in the `pl_trainer_kwargs` dict at model creation.\n",
      "GPU available: True, used: True\n",
      "TPU available: False, using: 0 TPU cores\n",
      "IPU available: False, using: 0 IPUs\n",
      "HPU available: False, using: 0 HPUs\n",
      "LOCAL_RANK: 0 - CUDA_VISIBLE_DEVICES: [0]\n",
      "\n",
      "  | Name      | Type    | Params\n",
      "--------------------------------------\n",
      "0 | criterion | MSELoss | 0     \n",
      "1 | rnn       | GRU     | 6.0 K \n",
      "2 | V         | Linear  | 26    \n",
      "--------------------------------------\n",
      "6.0 K     Trainable params\n",
      "0         Non-trainable params\n",
      "6.0 K     Total params\n",
      "0.048     Total estimated model params size (MB)\n"
     ]
    },
    {
     "data": {
      "application/vnd.jupyter.widget-view+json": {
       "model_id": "",
       "version_major": 2,
       "version_minor": 0
      },
      "text/plain": [
       "Sanity Checking: 0it [00:00, ?it/s]"
      ]
     },
     "metadata": {},
     "output_type": "display_data"
    },
    {
     "data": {
      "application/vnd.jupyter.widget-view+json": {
       "model_id": "40e2d9afd7be473385b483741110a7f0",
       "version_major": 2,
       "version_minor": 0
      },
      "text/plain": [
       "Training: 0it [00:00, ?it/s]"
      ]
     },
     "metadata": {},
     "output_type": "display_data"
    },
    {
     "data": {
      "application/vnd.jupyter.widget-view+json": {
       "model_id": "",
       "version_major": 2,
       "version_minor": 0
      },
      "text/plain": [
       "Validation: 0it [00:00, ?it/s]"
      ]
     },
     "metadata": {},
     "output_type": "display_data"
    },
    {
     "data": {
      "text/plain": [
       "<darts.models.forecasting.rnn_model.RNNModel at 0x280b4256760>"
      ]
     },
     "execution_count": 10,
     "metadata": {},
     "output_type": "execute_result"
    }
   ],
   "source": [
    "# train = scaler_list[0].transform(df_ercot[0].iloc[:-test_iloc])\n",
    "model.fit(train_ts_list_scaled,val_series=valid_ts_list_scaled,verbose=True,epochs=1,trainer=None)\n"
   ]
  },
  {
   "cell_type": "code",
   "execution_count": 11,
   "id": "a221a644",
   "metadata": {
    "ExecuteTime": {
     "end_time": "2022-05-23T04:02:03.737942Z",
     "start_time": "2022-05-23T04:01:59.761110Z"
    }
   },
   "outputs": [
    {
     "name": "stderr",
     "output_type": "stream",
     "text": [
      "LOCAL_RANK: 0 - CUDA_VISIBLE_DEVICES: [0]\n"
     ]
    },
    {
     "data": {
      "application/vnd.jupyter.widget-view+json": {
       "model_id": "321777125a3d4f62bd7152fd79605997",
       "version_major": 2,
       "version_minor": 0
      },
      "text/plain": [
       "Predicting: 4719it [00:00, ?it/s]"
      ]
     },
     "metadata": {},
     "output_type": "display_data"
    },
    {
     "name": "stderr",
     "output_type": "stream",
     "text": [
      "LOCAL_RANK: 0 - CUDA_VISIBLE_DEVICES: [0]\n"
     ]
    },
    {
     "data": {
      "application/vnd.jupyter.widget-view+json": {
       "model_id": "14d35b16655145e999e116ab289bee6c",
       "version_major": 2,
       "version_minor": 0
      },
      "text/plain": [
       "Predicting: 4719it [00:00, ?it/s]"
      ]
     },
     "metadata": {},
     "output_type": "display_data"
    },
    {
     "name": "stderr",
     "output_type": "stream",
     "text": [
      "LOCAL_RANK: 0 - CUDA_VISIBLE_DEVICES: [0]\n"
     ]
    },
    {
     "data": {
      "application/vnd.jupyter.widget-view+json": {
       "model_id": "9b5208531aa649b096fae8c9c8e939c7",
       "version_major": 2,
       "version_minor": 0
      },
      "text/plain": [
       "Predicting: 4719it [00:00, ?it/s]"
      ]
     },
     "metadata": {},
     "output_type": "display_data"
    },
    {
     "name": "stderr",
     "output_type": "stream",
     "text": [
      "LOCAL_RANK: 0 - CUDA_VISIBLE_DEVICES: [0]\n"
     ]
    },
    {
     "data": {
      "application/vnd.jupyter.widget-view+json": {
       "model_id": "dadf57e05ed94477901fafa02f0b4db9",
       "version_major": 2,
       "version_minor": 0
      },
      "text/plain": [
       "Predicting: 4719it [00:00, ?it/s]"
      ]
     },
     "metadata": {},
     "output_type": "display_data"
    },
    {
     "name": "stderr",
     "output_type": "stream",
     "text": [
      "LOCAL_RANK: 0 - CUDA_VISIBLE_DEVICES: [0]\n"
     ]
    },
    {
     "data": {
      "application/vnd.jupyter.widget-view+json": {
       "model_id": "2da582867b5f4e6d9b0ce5e8590f2097",
       "version_major": 2,
       "version_minor": 0
      },
      "text/plain": [
       "Predicting: 4719it [00:00, ?it/s]"
      ]
     },
     "metadata": {},
     "output_type": "display_data"
    },
    {
     "name": "stderr",
     "output_type": "stream",
     "text": [
      "LOCAL_RANK: 0 - CUDA_VISIBLE_DEVICES: [0]\n"
     ]
    },
    {
     "data": {
      "application/vnd.jupyter.widget-view+json": {
       "model_id": "96bf8bdfee0f4ec084fb8898ad0d3eb1",
       "version_major": 2,
       "version_minor": 0
      },
      "text/plain": [
       "Predicting: 4719it [00:00, ?it/s]"
      ]
     },
     "metadata": {},
     "output_type": "display_data"
    },
    {
     "name": "stderr",
     "output_type": "stream",
     "text": [
      "LOCAL_RANK: 0 - CUDA_VISIBLE_DEVICES: [0]\n"
     ]
    },
    {
     "data": {
      "application/vnd.jupyter.widget-view+json": {
       "model_id": "0c7143c330e34e17b3e918006383fe6d",
       "version_major": 2,
       "version_minor": 0
      },
      "text/plain": [
       "Predicting: 4719it [00:00, ?it/s]"
      ]
     },
     "metadata": {},
     "output_type": "display_data"
    },
    {
     "name": "stderr",
     "output_type": "stream",
     "text": [
      "LOCAL_RANK: 0 - CUDA_VISIBLE_DEVICES: [0]\n"
     ]
    },
    {
     "data": {
      "application/vnd.jupyter.widget-view+json": {
       "model_id": "80ea65fb8c1b492786784063dbbc21ca",
       "version_major": 2,
       "version_minor": 0
      },
      "text/plain": [
       "Predicting: 4719it [00:00, ?it/s]"
      ]
     },
     "metadata": {},
     "output_type": "display_data"
    },
    {
     "name": "stderr",
     "output_type": "stream",
     "text": [
      "LOCAL_RANK: 0 - CUDA_VISIBLE_DEVICES: [0]\n"
     ]
    },
    {
     "data": {
      "application/vnd.jupyter.widget-view+json": {
       "model_id": "609f3373138347c2a70159a0aec2d36a",
       "version_major": 2,
       "version_minor": 0
      },
      "text/plain": [
       "Predicting: 4719it [00:00, ?it/s]"
      ]
     },
     "metadata": {},
     "output_type": "display_data"
    },
    {
     "name": "stderr",
     "output_type": "stream",
     "text": [
      "LOCAL_RANK: 0 - CUDA_VISIBLE_DEVICES: [0]\n"
     ]
    },
    {
     "data": {
      "application/vnd.jupyter.widget-view+json": {
       "model_id": "2b8ef487454840a68b20faac31869db3",
       "version_major": 2,
       "version_minor": 0
      },
      "text/plain": [
       "Predicting: 4719it [00:00, ?it/s]"
      ]
     },
     "metadata": {},
     "output_type": "display_data"
    },
    {
     "name": "stderr",
     "output_type": "stream",
     "text": [
      "LOCAL_RANK: 0 - CUDA_VISIBLE_DEVICES: [0]\n"
     ]
    },
    {
     "data": {
      "application/vnd.jupyter.widget-view+json": {
       "model_id": "fe643aac2b9b4bffbd876ed371ced590",
       "version_major": 2,
       "version_minor": 0
      },
      "text/plain": [
       "Predicting: 4719it [00:00, ?it/s]"
      ]
     },
     "metadata": {},
     "output_type": "display_data"
    },
    {
     "name": "stderr",
     "output_type": "stream",
     "text": [
      "LOCAL_RANK: 0 - CUDA_VISIBLE_DEVICES: [0]\n"
     ]
    },
    {
     "data": {
      "application/vnd.jupyter.widget-view+json": {
       "model_id": "3b1cef5bdab64cf0875099d15e3c31e5",
       "version_major": 2,
       "version_minor": 0
      },
      "text/plain": [
       "Predicting: 4719it [00:00, ?it/s]"
      ]
     },
     "metadata": {},
     "output_type": "display_data"
    },
    {
     "name": "stderr",
     "output_type": "stream",
     "text": [
      "LOCAL_RANK: 0 - CUDA_VISIBLE_DEVICES: [0]\n"
     ]
    },
    {
     "data": {
      "application/vnd.jupyter.widget-view+json": {
       "model_id": "9179c65da1144b10835273d0b65d33a4",
       "version_major": 2,
       "version_minor": 0
      },
      "text/plain": [
       "Predicting: 4719it [00:00, ?it/s]"
      ]
     },
     "metadata": {},
     "output_type": "display_data"
    },
    {
     "name": "stderr",
     "output_type": "stream",
     "text": [
      "LOCAL_RANK: 0 - CUDA_VISIBLE_DEVICES: [0]\n"
     ]
    },
    {
     "data": {
      "application/vnd.jupyter.widget-view+json": {
       "model_id": "ba8e4e3e9fba4c9780dc66853dac3b8d",
       "version_major": 2,
       "version_minor": 0
      },
      "text/plain": [
       "Predicting: 4719it [00:00, ?it/s]"
      ]
     },
     "metadata": {},
     "output_type": "display_data"
    },
    {
     "name": "stderr",
     "output_type": "stream",
     "text": [
      "LOCAL_RANK: 0 - CUDA_VISIBLE_DEVICES: [0]\n"
     ]
    },
    {
     "data": {
      "application/vnd.jupyter.widget-view+json": {
       "model_id": "584c6a82b7bb4b2e90be1b5a27a6eac0",
       "version_major": 2,
       "version_minor": 0
      },
      "text/plain": [
       "Predicting: 4719it [00:00, ?it/s]"
      ]
     },
     "metadata": {},
     "output_type": "display_data"
    },
    {
     "name": "stderr",
     "output_type": "stream",
     "text": [
      "LOCAL_RANK: 0 - CUDA_VISIBLE_DEVICES: [0]\n"
     ]
    },
    {
     "data": {
      "application/vnd.jupyter.widget-view+json": {
       "model_id": "c4dff452ce6d490f85c6a653947fc68f",
       "version_major": 2,
       "version_minor": 0
      },
      "text/plain": [
       "Predicting: 4719it [00:00, ?it/s]"
      ]
     },
     "metadata": {},
     "output_type": "display_data"
    },
    {
     "name": "stderr",
     "output_type": "stream",
     "text": [
      "LOCAL_RANK: 0 - CUDA_VISIBLE_DEVICES: [0]\n"
     ]
    },
    {
     "data": {
      "application/vnd.jupyter.widget-view+json": {
       "model_id": "51089e0b8fd94822a9ee7cadeef8b1e9",
       "version_major": 2,
       "version_minor": 0
      },
      "text/plain": [
       "Predicting: 4719it [00:00, ?it/s]"
      ]
     },
     "metadata": {},
     "output_type": "display_data"
    },
    {
     "name": "stderr",
     "output_type": "stream",
     "text": [
      "LOCAL_RANK: 0 - CUDA_VISIBLE_DEVICES: [0]\n"
     ]
    },
    {
     "data": {
      "application/vnd.jupyter.widget-view+json": {
       "model_id": "f3db583ef6e7440d92d6f8b954514c8e",
       "version_major": 2,
       "version_minor": 0
      },
      "text/plain": [
       "Predicting: 4719it [00:00, ?it/s]"
      ]
     },
     "metadata": {},
     "output_type": "display_data"
    },
    {
     "name": "stderr",
     "output_type": "stream",
     "text": [
      "LOCAL_RANK: 0 - CUDA_VISIBLE_DEVICES: [0]\n"
     ]
    },
    {
     "data": {
      "application/vnd.jupyter.widget-view+json": {
       "model_id": "16b8c7846b9e40019b8a91882932108f",
       "version_major": 2,
       "version_minor": 0
      },
      "text/plain": [
       "Predicting: 4719it [00:00, ?it/s]"
      ]
     },
     "metadata": {},
     "output_type": "display_data"
    },
    {
     "name": "stderr",
     "output_type": "stream",
     "text": [
      "LOCAL_RANK: 0 - CUDA_VISIBLE_DEVICES: [0]\n"
     ]
    },
    {
     "data": {
      "application/vnd.jupyter.widget-view+json": {
       "model_id": "741ee5d7eda9497497e89469d3c21e50",
       "version_major": 2,
       "version_minor": 0
      },
      "text/plain": [
       "Predicting: 4719it [00:00, ?it/s]"
      ]
     },
     "metadata": {},
     "output_type": "display_data"
    },
    {
     "name": "stderr",
     "output_type": "stream",
     "text": [
      "LOCAL_RANK: 0 - CUDA_VISIBLE_DEVICES: [0]\n"
     ]
    },
    {
     "data": {
      "application/vnd.jupyter.widget-view+json": {
       "model_id": "441c5c842bb346d09028532d68fbb739",
       "version_major": 2,
       "version_minor": 0
      },
      "text/plain": [
       "Predicting: 4719it [00:00, ?it/s]"
      ]
     },
     "metadata": {},
     "output_type": "display_data"
    },
    {
     "name": "stderr",
     "output_type": "stream",
     "text": [
      "LOCAL_RANK: 0 - CUDA_VISIBLE_DEVICES: [0]\n"
     ]
    },
    {
     "data": {
      "application/vnd.jupyter.widget-view+json": {
       "model_id": "f8f383a551074e44b341a1fd14eeaf24",
       "version_major": 2,
       "version_minor": 0
      },
      "text/plain": [
       "Predicting: 4719it [00:00, ?it/s]"
      ]
     },
     "metadata": {},
     "output_type": "display_data"
    },
    {
     "name": "stderr",
     "output_type": "stream",
     "text": [
      "LOCAL_RANK: 0 - CUDA_VISIBLE_DEVICES: [0]\n"
     ]
    },
    {
     "data": {
      "application/vnd.jupyter.widget-view+json": {
       "model_id": "44b1679bca3a4edbbdc585ee7fcb0c70",
       "version_major": 2,
       "version_minor": 0
      },
      "text/plain": [
       "Predicting: 4719it [00:00, ?it/s]"
      ]
     },
     "metadata": {},
     "output_type": "display_data"
    },
    {
     "name": "stderr",
     "output_type": "stream",
     "text": [
      "LOCAL_RANK: 0 - CUDA_VISIBLE_DEVICES: [0]\n"
     ]
    },
    {
     "data": {
      "application/vnd.jupyter.widget-view+json": {
       "model_id": "8ff1e587a1b745b8a378d228852788a9",
       "version_major": 2,
       "version_minor": 0
      },
      "text/plain": [
       "Predicting: 4719it [00:00, ?it/s]"
      ]
     },
     "metadata": {},
     "output_type": "display_data"
    },
    {
     "name": "stderr",
     "output_type": "stream",
     "text": [
      "LOCAL_RANK: 0 - CUDA_VISIBLE_DEVICES: [0]\n"
     ]
    },
    {
     "data": {
      "application/vnd.jupyter.widget-view+json": {
       "model_id": "e9ffd3c39b1a4967be2ebcfee2112853",
       "version_major": 2,
       "version_minor": 0
      },
      "text/plain": [
       "Predicting: 4719it [00:00, ?it/s]"
      ]
     },
     "metadata": {},
     "output_type": "display_data"
    },
    {
     "name": "stderr",
     "output_type": "stream",
     "text": [
      "LOCAL_RANK: 0 - CUDA_VISIBLE_DEVICES: [0]\n"
     ]
    },
    {
     "data": {
      "application/vnd.jupyter.widget-view+json": {
       "model_id": "b2d5616bbb3646a8adec4e086110662a",
       "version_major": 2,
       "version_minor": 0
      },
      "text/plain": [
       "Predicting: 4719it [00:00, ?it/s]"
      ]
     },
     "metadata": {},
     "output_type": "display_data"
    },
    {
     "name": "stderr",
     "output_type": "stream",
     "text": [
      "LOCAL_RANK: 0 - CUDA_VISIBLE_DEVICES: [0]\n"
     ]
    },
    {
     "data": {
      "application/vnd.jupyter.widget-view+json": {
       "model_id": "500202be3eac46a2a161d9f866f2dd96",
       "version_major": 2,
       "version_minor": 0
      },
      "text/plain": [
       "Predicting: 4719it [00:00, ?it/s]"
      ]
     },
     "metadata": {},
     "output_type": "display_data"
    },
    {
     "name": "stderr",
     "output_type": "stream",
     "text": [
      "LOCAL_RANK: 0 - CUDA_VISIBLE_DEVICES: [0]\n"
     ]
    },
    {
     "data": {
      "application/vnd.jupyter.widget-view+json": {
       "model_id": "7ddfde574f5e432ebfe534c13a1d5407",
       "version_major": 2,
       "version_minor": 0
      },
      "text/plain": [
       "Predicting: 4719it [00:00, ?it/s]"
      ]
     },
     "metadata": {},
     "output_type": "display_data"
    },
    {
     "name": "stderr",
     "output_type": "stream",
     "text": [
      "LOCAL_RANK: 0 - CUDA_VISIBLE_DEVICES: [0]\n"
     ]
    },
    {
     "data": {
      "application/vnd.jupyter.widget-view+json": {
       "model_id": "0b4cbb9f6a4d405fa19fd0135441fabd",
       "version_major": 2,
       "version_minor": 0
      },
      "text/plain": [
       "Predicting: 4719it [00:00, ?it/s]"
      ]
     },
     "metadata": {},
     "output_type": "display_data"
    },
    {
     "name": "stderr",
     "output_type": "stream",
     "text": [
      "LOCAL_RANK: 0 - CUDA_VISIBLE_DEVICES: [0]\n"
     ]
    },
    {
     "data": {
      "application/vnd.jupyter.widget-view+json": {
       "model_id": "feeea75b5d4c46c286fe9a56516f67e7",
       "version_major": 2,
       "version_minor": 0
      },
      "text/plain": [
       "Predicting: 4719it [00:00, ?it/s]"
      ]
     },
     "metadata": {},
     "output_type": "display_data"
    },
    {
     "name": "stderr",
     "output_type": "stream",
     "text": [
      "LOCAL_RANK: 0 - CUDA_VISIBLE_DEVICES: [0]\n"
     ]
    },
    {
     "data": {
      "application/vnd.jupyter.widget-view+json": {
       "model_id": "faa6ad1db76e4a65b157968df6b4d64d",
       "version_major": 2,
       "version_minor": 0
      },
      "text/plain": [
       "Predicting: 4719it [00:00, ?it/s]"
      ]
     },
     "metadata": {},
     "output_type": "display_data"
    },
    {
     "name": "stderr",
     "output_type": "stream",
     "text": [
      "LOCAL_RANK: 0 - CUDA_VISIBLE_DEVICES: [0]\n"
     ]
    },
    {
     "data": {
      "application/vnd.jupyter.widget-view+json": {
       "model_id": "37b438b3dca940d5814440eaee14306a",
       "version_major": 2,
       "version_minor": 0
      },
      "text/plain": [
       "Predicting: 4719it [00:00, ?it/s]"
      ]
     },
     "metadata": {},
     "output_type": "display_data"
    },
    {
     "name": "stderr",
     "output_type": "stream",
     "text": [
      "LOCAL_RANK: 0 - CUDA_VISIBLE_DEVICES: [0]\n"
     ]
    },
    {
     "data": {
      "application/vnd.jupyter.widget-view+json": {
       "model_id": "288687ebbc8c43d08a4e210064277618",
       "version_major": 2,
       "version_minor": 0
      },
      "text/plain": [
       "Predicting: 4719it [00:00, ?it/s]"
      ]
     },
     "metadata": {},
     "output_type": "display_data"
    },
    {
     "name": "stderr",
     "output_type": "stream",
     "text": [
      "LOCAL_RANK: 0 - CUDA_VISIBLE_DEVICES: [0]\n"
     ]
    },
    {
     "data": {
      "application/vnd.jupyter.widget-view+json": {
       "model_id": "2f3fd8ddb27e4e93b92281b93a73e9d4",
       "version_major": 2,
       "version_minor": 0
      },
      "text/plain": [
       "Predicting: 4719it [00:00, ?it/s]"
      ]
     },
     "metadata": {},
     "output_type": "display_data"
    },
    {
     "name": "stderr",
     "output_type": "stream",
     "text": [
      "LOCAL_RANK: 0 - CUDA_VISIBLE_DEVICES: [0]\n"
     ]
    },
    {
     "data": {
      "application/vnd.jupyter.widget-view+json": {
       "model_id": "ce757d04d9664e9db8bf813afd621171",
       "version_major": 2,
       "version_minor": 0
      },
      "text/plain": [
       "Predicting: 4719it [00:00, ?it/s]"
      ]
     },
     "metadata": {},
     "output_type": "display_data"
    },
    {
     "name": "stderr",
     "output_type": "stream",
     "text": [
      "LOCAL_RANK: 0 - CUDA_VISIBLE_DEVICES: [0]\n"
     ]
    },
    {
     "data": {
      "application/vnd.jupyter.widget-view+json": {
       "model_id": "407534e53c454edc9523af922f63de9d",
       "version_major": 2,
       "version_minor": 0
      },
      "text/plain": [
       "Predicting: 4719it [00:00, ?it/s]"
      ]
     },
     "metadata": {},
     "output_type": "display_data"
    },
    {
     "name": "stderr",
     "output_type": "stream",
     "text": [
      "LOCAL_RANK: 0 - CUDA_VISIBLE_DEVICES: [0]\n"
     ]
    },
    {
     "data": {
      "application/vnd.jupyter.widget-view+json": {
       "model_id": "ed2102dee33c4372a68c4a1ac0c1d17e",
       "version_major": 2,
       "version_minor": 0
      },
      "text/plain": [
       "Predicting: 4719it [00:00, ?it/s]"
      ]
     },
     "metadata": {},
     "output_type": "display_data"
    },
    {
     "name": "stderr",
     "output_type": "stream",
     "text": [
      "LOCAL_RANK: 0 - CUDA_VISIBLE_DEVICES: [0]\n"
     ]
    },
    {
     "data": {
      "application/vnd.jupyter.widget-view+json": {
       "model_id": "5477d89096aa449bb5d58d2243cda5c3",
       "version_major": 2,
       "version_minor": 0
      },
      "text/plain": [
       "Predicting: 4719it [00:00, ?it/s]"
      ]
     },
     "metadata": {},
     "output_type": "display_data"
    },
    {
     "name": "stderr",
     "output_type": "stream",
     "text": [
      "LOCAL_RANK: 0 - CUDA_VISIBLE_DEVICES: [0]\n"
     ]
    },
    {
     "data": {
      "application/vnd.jupyter.widget-view+json": {
       "model_id": "424aff71fe864ef48a64dd6d9ca50ea8",
       "version_major": 2,
       "version_minor": 0
      },
      "text/plain": [
       "Predicting: 4719it [00:00, ?it/s]"
      ]
     },
     "metadata": {},
     "output_type": "display_data"
    },
    {
     "name": "stderr",
     "output_type": "stream",
     "text": [
      "LOCAL_RANK: 0 - CUDA_VISIBLE_DEVICES: [0]\n"
     ]
    },
    {
     "data": {
      "application/vnd.jupyter.widget-view+json": {
       "model_id": "5bc21a8534aa42aab1c5b36f94f5ba92",
       "version_major": 2,
       "version_minor": 0
      },
      "text/plain": [
       "Predicting: 4719it [00:00, ?it/s]"
      ]
     },
     "metadata": {},
     "output_type": "display_data"
    },
    {
     "name": "stderr",
     "output_type": "stream",
     "text": [
      "LOCAL_RANK: 0 - CUDA_VISIBLE_DEVICES: [0]\n"
     ]
    },
    {
     "data": {
      "application/vnd.jupyter.widget-view+json": {
       "model_id": "95b68240e2bd44378a3e81b51e67ec0b",
       "version_major": 2,
       "version_minor": 0
      },
      "text/plain": [
       "Predicting: 4719it [00:00, ?it/s]"
      ]
     },
     "metadata": {},
     "output_type": "display_data"
    },
    {
     "name": "stderr",
     "output_type": "stream",
     "text": [
      "LOCAL_RANK: 0 - CUDA_VISIBLE_DEVICES: [0]\n"
     ]
    },
    {
     "data": {
      "application/vnd.jupyter.widget-view+json": {
       "model_id": "ea354f47dac441b6b6b5e7dd33a6d78a",
       "version_major": 2,
       "version_minor": 0
      },
      "text/plain": [
       "Predicting: 4719it [00:00, ?it/s]"
      ]
     },
     "metadata": {},
     "output_type": "display_data"
    },
    {
     "name": "stderr",
     "output_type": "stream",
     "text": [
      "LOCAL_RANK: 0 - CUDA_VISIBLE_DEVICES: [0]\n"
     ]
    },
    {
     "data": {
      "application/vnd.jupyter.widget-view+json": {
       "model_id": "71eaef256aae4973a38905a20f96213e",
       "version_major": 2,
       "version_minor": 0
      },
      "text/plain": [
       "Predicting: 4719it [00:00, ?it/s]"
      ]
     },
     "metadata": {},
     "output_type": "display_data"
    },
    {
     "name": "stderr",
     "output_type": "stream",
     "text": [
      "LOCAL_RANK: 0 - CUDA_VISIBLE_DEVICES: [0]\n"
     ]
    },
    {
     "data": {
      "application/vnd.jupyter.widget-view+json": {
       "model_id": "c1e613f885954c79866b6a33d205fcdf",
       "version_major": 2,
       "version_minor": 0
      },
      "text/plain": [
       "Predicting: 4719it [00:00, ?it/s]"
      ]
     },
     "metadata": {},
     "output_type": "display_data"
    },
    {
     "name": "stderr",
     "output_type": "stream",
     "text": [
      "LOCAL_RANK: 0 - CUDA_VISIBLE_DEVICES: [0]\n"
     ]
    },
    {
     "data": {
      "application/vnd.jupyter.widget-view+json": {
       "model_id": "ece90d0d8771436cae915a6aff784b30",
       "version_major": 2,
       "version_minor": 0
      },
      "text/plain": [
       "Predicting: 4719it [00:00, ?it/s]"
      ]
     },
     "metadata": {},
     "output_type": "display_data"
    },
    {
     "name": "stderr",
     "output_type": "stream",
     "text": [
      "LOCAL_RANK: 0 - CUDA_VISIBLE_DEVICES: [0]\n"
     ]
    },
    {
     "data": {
      "application/vnd.jupyter.widget-view+json": {
       "model_id": "1e7f5df104814e90b003a791c1d7b679",
       "version_major": 2,
       "version_minor": 0
      },
      "text/plain": [
       "Predicting: 4719it [00:00, ?it/s]"
      ]
     },
     "metadata": {},
     "output_type": "display_data"
    },
    {
     "name": "stderr",
     "output_type": "stream",
     "text": [
      "LOCAL_RANK: 0 - CUDA_VISIBLE_DEVICES: [0]\n"
     ]
    },
    {
     "data": {
      "application/vnd.jupyter.widget-view+json": {
       "model_id": "c1b8980dafd643778e13cdf9ef13be1e",
       "version_major": 2,
       "version_minor": 0
      },
      "text/plain": [
       "Predicting: 4719it [00:00, ?it/s]"
      ]
     },
     "metadata": {},
     "output_type": "display_data"
    },
    {
     "name": "stderr",
     "output_type": "stream",
     "text": [
      "LOCAL_RANK: 0 - CUDA_VISIBLE_DEVICES: [0]\n"
     ]
    },
    {
     "data": {
      "application/vnd.jupyter.widget-view+json": {
       "model_id": "1cbb78a8cd024d8998b027c32a4a66ab",
       "version_major": 2,
       "version_minor": 0
      },
      "text/plain": [
       "Predicting: 4719it [00:00, ?it/s]"
      ]
     },
     "metadata": {},
     "output_type": "display_data"
    },
    {
     "name": "stderr",
     "output_type": "stream",
     "text": [
      "LOCAL_RANK: 0 - CUDA_VISIBLE_DEVICES: [0]\n"
     ]
    },
    {
     "data": {
      "application/vnd.jupyter.widget-view+json": {
       "model_id": "ff7808153bac4b129d0d04787036d5c3",
       "version_major": 2,
       "version_minor": 0
      },
      "text/plain": [
       "Predicting: 4719it [00:00, ?it/s]"
      ]
     },
     "metadata": {},
     "output_type": "display_data"
    },
    {
     "name": "stderr",
     "output_type": "stream",
     "text": [
      "LOCAL_RANK: 0 - CUDA_VISIBLE_DEVICES: [0]\n"
     ]
    },
    {
     "data": {
      "application/vnd.jupyter.widget-view+json": {
       "model_id": "147128255daa45b6a1644ce511f6609a",
       "version_major": 2,
       "version_minor": 0
      },
      "text/plain": [
       "Predicting: 4719it [00:00, ?it/s]"
      ]
     },
     "metadata": {},
     "output_type": "display_data"
    },
    {
     "name": "stderr",
     "output_type": "stream",
     "text": [
      "LOCAL_RANK: 0 - CUDA_VISIBLE_DEVICES: [0]\n"
     ]
    },
    {
     "data": {
      "application/vnd.jupyter.widget-view+json": {
       "model_id": "bf287937c430443290bbe7d6254d5a22",
       "version_major": 2,
       "version_minor": 0
      },
      "text/plain": [
       "Predicting: 4719it [00:00, ?it/s]"
      ]
     },
     "metadata": {},
     "output_type": "display_data"
    },
    {
     "name": "stderr",
     "output_type": "stream",
     "text": [
      "LOCAL_RANK: 0 - CUDA_VISIBLE_DEVICES: [0]\n"
     ]
    },
    {
     "data": {
      "application/vnd.jupyter.widget-view+json": {
       "model_id": "677ddab3487441928b415bb8e35b7c6e",
       "version_major": 2,
       "version_minor": 0
      },
      "text/plain": [
       "Predicting: 4719it [00:00, ?it/s]"
      ]
     },
     "metadata": {},
     "output_type": "display_data"
    },
    {
     "name": "stderr",
     "output_type": "stream",
     "text": [
      "LOCAL_RANK: 0 - CUDA_VISIBLE_DEVICES: [0]\n"
     ]
    },
    {
     "data": {
      "application/vnd.jupyter.widget-view+json": {
       "model_id": "98f5432d66bb40e68e79bbea045f570a",
       "version_major": 2,
       "version_minor": 0
      },
      "text/plain": [
       "Predicting: 4719it [00:00, ?it/s]"
      ]
     },
     "metadata": {},
     "output_type": "display_data"
    },
    {
     "name": "stderr",
     "output_type": "stream",
     "text": [
      "LOCAL_RANK: 0 - CUDA_VISIBLE_DEVICES: [0]\n"
     ]
    },
    {
     "data": {
      "application/vnd.jupyter.widget-view+json": {
       "model_id": "905e9f652d4147f8b7250b76be078edc",
       "version_major": 2,
       "version_minor": 0
      },
      "text/plain": [
       "Predicting: 4719it [00:00, ?it/s]"
      ]
     },
     "metadata": {},
     "output_type": "display_data"
    },
    {
     "name": "stderr",
     "output_type": "stream",
     "text": [
      "LOCAL_RANK: 0 - CUDA_VISIBLE_DEVICES: [0]\n"
     ]
    },
    {
     "data": {
      "application/vnd.jupyter.widget-view+json": {
       "model_id": "1df723f151d841a4856168dc09847627",
       "version_major": 2,
       "version_minor": 0
      },
      "text/plain": [
       "Predicting: 4719it [00:00, ?it/s]"
      ]
     },
     "metadata": {},
     "output_type": "display_data"
    },
    {
     "name": "stderr",
     "output_type": "stream",
     "text": [
      "LOCAL_RANK: 0 - CUDA_VISIBLE_DEVICES: [0]\n"
     ]
    },
    {
     "data": {
      "application/vnd.jupyter.widget-view+json": {
       "model_id": "2f36275660d944eb848ea18dd26f1602",
       "version_major": 2,
       "version_minor": 0
      },
      "text/plain": [
       "Predicting: 4719it [00:00, ?it/s]"
      ]
     },
     "metadata": {},
     "output_type": "display_data"
    },
    {
     "name": "stderr",
     "output_type": "stream",
     "text": [
      "LOCAL_RANK: 0 - CUDA_VISIBLE_DEVICES: [0]\n"
     ]
    },
    {
     "data": {
      "application/vnd.jupyter.widget-view+json": {
       "model_id": "160c466fd08a47269c7eb65bae14f3c4",
       "version_major": 2,
       "version_minor": 0
      },
      "text/plain": [
       "Predicting: 4719it [00:00, ?it/s]"
      ]
     },
     "metadata": {},
     "output_type": "display_data"
    },
    {
     "name": "stderr",
     "output_type": "stream",
     "text": [
      "LOCAL_RANK: 0 - CUDA_VISIBLE_DEVICES: [0]\n"
     ]
    },
    {
     "data": {
      "application/vnd.jupyter.widget-view+json": {
       "model_id": "b0536425dec54228940ea8aff7660022",
       "version_major": 2,
       "version_minor": 0
      },
      "text/plain": [
       "Predicting: 4719it [00:00, ?it/s]"
      ]
     },
     "metadata": {},
     "output_type": "display_data"
    },
    {
     "name": "stderr",
     "output_type": "stream",
     "text": [
      "LOCAL_RANK: 0 - CUDA_VISIBLE_DEVICES: [0]\n"
     ]
    },
    {
     "data": {
      "application/vnd.jupyter.widget-view+json": {
       "model_id": "d14c7776a37f4efc931c93f6cd910836",
       "version_major": 2,
       "version_minor": 0
      },
      "text/plain": [
       "Predicting: 4719it [00:00, ?it/s]"
      ]
     },
     "metadata": {},
     "output_type": "display_data"
    },
    {
     "name": "stderr",
     "output_type": "stream",
     "text": [
      "LOCAL_RANK: 0 - CUDA_VISIBLE_DEVICES: [0]\n"
     ]
    },
    {
     "data": {
      "application/vnd.jupyter.widget-view+json": {
       "model_id": "a5102b4ed51d40179a9e0319e261dd23",
       "version_major": 2,
       "version_minor": 0
      },
      "text/plain": [
       "Predicting: 4719it [00:00, ?it/s]"
      ]
     },
     "metadata": {},
     "output_type": "display_data"
    }
   ],
   "source": [
    "pred = model.historical_forecasts( series=test_ts_list_scaled,verbose=False,retrain=False,\n",
    "                                  start=n_input_chunk,forecast_horizon=n_output_chunk,stride=n_output_chunk,\n",
    "                                  overlap_end=True,last_points_only =False)\n",
    "pred_df = pd.concat([pred[s].pd_series() for s in range(len(pred))])\n"
   ]
  },
  {
   "cell_type": "code",
   "execution_count": 12,
   "id": "4ac483a2",
   "metadata": {
    "ExecuteTime": {
     "end_time": "2022-05-23T04:02:03.769958Z",
     "start_time": "2022-05-23T04:02:03.738942Z"
    }
   },
   "outputs": [],
   "source": [
    "pred_df = pd.concat([pred[s].pd_series() for s in range(len(pred))])"
   ]
  },
  {
   "cell_type": "code",
   "execution_count": 13,
   "id": "44436758",
   "metadata": {
    "ExecuteTime": {
     "end_time": "2022-05-23T04:02:03.785964Z",
     "start_time": "2022-05-23T04:02:03.770959Z"
    }
   },
   "outputs": [],
   "source": [
    "test_df = pd.concat([pred_df,test_ts_list_scaled.pd_series()],axis=1).iloc[n_input_chunk:,:]\n",
    "test_df.columns = [f'yhat',f'y']\n",
    "# test_all_df = pd.concat([test_all_df,test_df],axis=1)"
   ]
  },
  {
   "cell_type": "code",
   "execution_count": 14,
   "id": "8f04af8c",
   "metadata": {
    "ExecuteTime": {
     "end_time": "2022-05-23T04:02:03.801968Z",
     "start_time": "2022-05-23T04:02:03.787965Z"
    }
   },
   "outputs": [
    {
     "data": {
      "text/html": [
       "<div>\n",
       "<style scoped>\n",
       "    .dataframe tbody tr th:only-of-type {\n",
       "        vertical-align: middle;\n",
       "    }\n",
       "\n",
       "    .dataframe tbody tr th {\n",
       "        vertical-align: top;\n",
       "    }\n",
       "\n",
       "    .dataframe thead th {\n",
       "        text-align: right;\n",
       "    }\n",
       "</style>\n",
       "<table border=\"1\" class=\"dataframe\">\n",
       "  <thead>\n",
       "    <tr style=\"text-align: right;\">\n",
       "      <th></th>\n",
       "      <th>yhat</th>\n",
       "      <th>y</th>\n",
       "    </tr>\n",
       "    <tr>\n",
       "      <th>ds</th>\n",
       "      <th></th>\n",
       "      <th></th>\n",
       "    </tr>\n",
       "  </thead>\n",
       "  <tbody>\n",
       "    <tr>\n",
       "      <th>2021-07-03 01:00:00</th>\n",
       "      <td>0.521028</td>\n",
       "      <td>0.521479</td>\n",
       "    </tr>\n",
       "    <tr>\n",
       "      <th>2021-07-03 02:00:00</th>\n",
       "      <td>0.540571</td>\n",
       "      <td>0.532748</td>\n",
       "    </tr>\n",
       "    <tr>\n",
       "      <th>2021-07-03 03:00:00</th>\n",
       "      <td>0.565339</td>\n",
       "      <td>0.557094</td>\n",
       "    </tr>\n",
       "    <tr>\n",
       "      <th>2021-07-03 04:00:00</th>\n",
       "      <td>0.593498</td>\n",
       "      <td>0.590521</td>\n",
       "    </tr>\n",
       "    <tr>\n",
       "      <th>2021-07-03 05:00:00</th>\n",
       "      <td>0.622899</td>\n",
       "      <td>0.630311</td>\n",
       "    </tr>\n",
       "    <tr>\n",
       "      <th>...</th>\n",
       "      <td>...</td>\n",
       "      <td>...</td>\n",
       "    </tr>\n",
       "    <tr>\n",
       "      <th>2021-08-31 20:00:00</th>\n",
       "      <td>0.517820</td>\n",
       "      <td>0.543128</td>\n",
       "    </tr>\n",
       "    <tr>\n",
       "      <th>2021-08-31 21:00:00</th>\n",
       "      <td>0.514906</td>\n",
       "      <td>0.525342</td>\n",
       "    </tr>\n",
       "    <tr>\n",
       "      <th>2021-08-31 22:00:00</th>\n",
       "      <td>0.516366</td>\n",
       "      <td>0.513021</td>\n",
       "    </tr>\n",
       "    <tr>\n",
       "      <th>2021-08-31 23:00:00</th>\n",
       "      <td>0.521680</td>\n",
       "      <td>0.508057</td>\n",
       "    </tr>\n",
       "    <tr>\n",
       "      <th>2021-09-01 00:00:00</th>\n",
       "      <td>0.530088</td>\n",
       "      <td>0.514787</td>\n",
       "    </tr>\n",
       "  </tbody>\n",
       "</table>\n",
       "<p>1440 rows × 2 columns</p>\n",
       "</div>"
      ],
      "text/plain": [
       "                         yhat         y\n",
       "ds                                     \n",
       "2021-07-03 01:00:00  0.521028  0.521479\n",
       "2021-07-03 02:00:00  0.540571  0.532748\n",
       "2021-07-03 03:00:00  0.565339  0.557094\n",
       "2021-07-03 04:00:00  0.593498  0.590521\n",
       "2021-07-03 05:00:00  0.622899  0.630311\n",
       "...                       ...       ...\n",
       "2021-08-31 20:00:00  0.517820  0.543128\n",
       "2021-08-31 21:00:00  0.514906  0.525342\n",
       "2021-08-31 22:00:00  0.516366  0.513021\n",
       "2021-08-31 23:00:00  0.521680  0.508057\n",
       "2021-09-01 00:00:00  0.530088  0.514787\n",
       "\n",
       "[1440 rows x 2 columns]"
      ]
     },
     "execution_count": 14,
     "metadata": {},
     "output_type": "execute_result"
    }
   ],
   "source": [
    "test_df"
   ]
  },
  {
   "cell_type": "code",
   "execution_count": 15,
   "id": "d6d1792f",
   "metadata": {
    "ExecuteTime": {
     "end_time": "2022-05-23T04:02:05.073146Z",
     "start_time": "2022-05-23T04:02:03.802968Z"
    }
   },
   "outputs": [
    {
     "data": {
      "text/plain": [
       "<matplotlib.legend.Legend at 0x280f13d2a60>"
      ]
     },
     "execution_count": 15,
     "metadata": {},
     "output_type": "execute_result"
    },
    {
     "data": {
      "image/png": "[encoded data removed]",
      "text/plain": [
       "<Figure size 1440x864 with 1 Axes>"
      ]
     },
     "metadata": {
      "needs_background": "light"
     },
     "output_type": "display_data"
    }
   ],
   "source": [
    "plt.figure(figsize=(20,12))\n",
    "plt.plot(test_df.index,test_df.yhat,label='yhat')\n",
    "plt.plot(test_df.index,test_df.y,label='origin')\n",
    "plt.legend()"
   ]
  },
  {
   "cell_type": "code",
   "execution_count": 16,
   "id": "d82f50cf",
   "metadata": {
    "ExecuteTime": {
     "end_time": "2022-05-23T04:02:05.088982Z",
     "start_time": "2022-05-23T04:02:05.075147Z"
    }
   },
   "outputs": [
    {
     "name": "stdout",
     "output_type": "stream",
     "text": [
      "WEST\n",
      "MSE= 0.005376992012119803\n",
      "MAE= 0.05451171940145647\n",
      "MAPE= 0.07612547452963456\n"
     ]
    }
   ],
   "source": [
    "from sklearn.metrics import mean_squared_error,mean_absolute_error,mean_absolute_percentage_error\n",
    "MSE = mean_squared_error(test_df.y, test_df.yhat)\n",
    "MAE = mean_absolute_error(test_df.y, test_df.yhat)\n",
    "MAPE = mean_absolute_percentage_error(test_df.y, test_df.yhat)\n",
    "print(df_ercot.columns[diqu])\n",
    "print(\"MSE=\",MSE)\n",
    "print(\"MAE=\",MAE)\n",
    "print(\"MAPE=\",MAPE)"
   ]
  },
  {
   "cell_type": "code",
   "execution_count": 17,
   "id": "9e0d79dc",
   "metadata": {
    "ExecuteTime": {
     "end_time": "2022-05-23T04:02:05.103985Z",
     "start_time": "2022-05-23T04:02:05.090982Z"
    }
   },
   "outputs": [],
   "source": [
    "# data = pd.read_csv(\"../其他模型/result/result.csv\",index_col=0)\n",
    "# data"
   ]
  },
  {
   "cell_type": "code",
   "execution_count": 18,
   "id": "f5774fc8",
   "metadata": {
    "ExecuteTime": {
     "end_time": "2022-05-23T04:02:05.119989Z",
     "start_time": "2022-05-23T04:02:05.105986Z"
    }
   },
   "outputs": [],
   "source": [
    "# data_new = pd.concat([data,test_df.reset_index(drop=True)['yhat']],axis=1)\n",
    "# data_new.rename(columns={\"yhat\":'GRU'},inplace=True)\n",
    "# data_new"
   ]
  },
  {
   "cell_type": "code",
   "execution_count": 19,
   "id": "ef0b6b3e",
   "metadata": {
    "ExecuteTime": {
     "end_time": "2022-05-23T04:02:05.135992Z",
     "start_time": "2022-05-23T04:02:05.121989Z"
    }
   },
   "outputs": [],
   "source": [
    "# data_new.to_csv(\"./result/result.csv\")"
   ]
  },
  {
   "cell_type": "code",
   "execution_count": null,
   "id": "c8cc37c5",
   "metadata": {},
   "outputs": [],
   "source": []
  }
 ],
 "metadata": {
  "kernelspec": {
   "display_name": "Python 3 (ipykernel)",
   "language": "python",
   "name": "python3"
  },
  "language_info": {
   "codemirror_mode": {
    "name": "ipython",
    "version": 3
   },
   "file_extension": ".py",
   "mimetype": "text/x-python",
   "name": "python",
   "nbconvert_exporter": "python",
   "pygments_lexer": "ipython3",
   "version": "3.9.12"
  },
  "toc": {
   "base_numbering": 1,
   "nav_menu": {},
   "number_sections": true,
   "sideBar": true,
   "skip_h1_title": false,
   "title_cell": "Table of Contents",
   "title_sidebar": "Contents",
   "toc_cell": false,
   "toc_position": {},
   "toc_section_display": true,
   "toc_window_display": false
  }
 },
 "nbformat": 4,
 "nbformat_minor": 5
}

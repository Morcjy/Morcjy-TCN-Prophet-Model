{
 "cells": [
  {
   "cell_type": "code",
   "execution_count": 1,
   "id": "f2d61ae6",
   "metadata": {
    "ExecuteTime": {
     "end_time": "2022-05-23T11:00:27.408776Z",
     "start_time": "2022-05-23T11:00:23.827511Z"
    }
   },
   "outputs": [],
   "source": [
    "import pandas as pd\n",
    "import numpy as np\n",
    "import matplotlib.pyplot as plt\n",
    "from darts import TimeSeries\n",
    "\n",
    "from pytorch_lightning.callbacks.early_stopping import EarlyStopping\n",
    "\n",
    "from sklearn.preprocessing import MinMaxScaler\n",
    "from darts.dataprocessing.transformers import Scaler"
   ]
  },
  {
   "cell_type": "code",
   "execution_count": 2,
   "id": "75b4e912",
   "metadata": {
    "ExecuteTime": {
     "end_time": "2022-05-23T11:00:27.711062Z",
     "start_time": "2022-05-23T11:00:27.409777Z"
    }
   },
   "outputs": [
    {
     "data": {
      "text/html": [
       "<div>\n",
       "<style scoped>\n",
       "    .dataframe tbody tr th:only-of-type {\n",
       "        vertical-align: middle;\n",
       "    }\n",
       "\n",
       "    .dataframe tbody tr th {\n",
       "        vertical-align: top;\n",
       "    }\n",
       "\n",
       "    .dataframe thead th {\n",
       "        text-align: right;\n",
       "    }\n",
       "</style>\n",
       "<table border=\"1\" class=\"dataframe\">\n",
       "  <thead>\n",
       "    <tr style=\"text-align: right;\">\n",
       "      <th></th>\n",
       "      <th>ds</th>\n",
       "      <th>COAST</th>\n",
       "      <th>EAST</th>\n",
       "      <th>FAR_WEST</th>\n",
       "      <th>NORTH</th>\n",
       "      <th>NORTH_C</th>\n",
       "      <th>SOUTHERN</th>\n",
       "      <th>SOUTH_C</th>\n",
       "      <th>WEST</th>\n",
       "    </tr>\n",
       "  </thead>\n",
       "  <tbody>\n",
       "    <tr>\n",
       "      <th>0</th>\n",
       "      <td>2004-01-01 01:00:00</td>\n",
       "      <td>7225.09</td>\n",
       "      <td>877.79</td>\n",
       "      <td>1044.89</td>\n",
       "      <td>745.79</td>\n",
       "      <td>7124.21</td>\n",
       "      <td>1660.45</td>\n",
       "      <td>3639.12</td>\n",
       "      <td>654.61</td>\n",
       "    </tr>\n",
       "    <tr>\n",
       "      <th>1</th>\n",
       "      <td>2004-01-01 02:00:00</td>\n",
       "      <td>6994.25</td>\n",
       "      <td>850.75</td>\n",
       "      <td>1032.04</td>\n",
       "      <td>721.34</td>\n",
       "      <td>6854.58</td>\n",
       "      <td>1603.52</td>\n",
       "      <td>3495.16</td>\n",
       "      <td>639.88</td>\n",
       "    </tr>\n",
       "    <tr>\n",
       "      <th>2</th>\n",
       "      <td>2004-01-01 03:00:00</td>\n",
       "      <td>6717.42</td>\n",
       "      <td>831.63</td>\n",
       "      <td>1021.10</td>\n",
       "      <td>699.70</td>\n",
       "      <td>6639.48</td>\n",
       "      <td>1527.99</td>\n",
       "      <td>3322.70</td>\n",
       "      <td>623.42</td>\n",
       "    </tr>\n",
       "    <tr>\n",
       "      <th>3</th>\n",
       "      <td>2004-01-01 04:00:00</td>\n",
       "      <td>6554.27</td>\n",
       "      <td>823.56</td>\n",
       "      <td>1015.41</td>\n",
       "      <td>691.84</td>\n",
       "      <td>6492.39</td>\n",
       "      <td>1473.89</td>\n",
       "      <td>3201.72</td>\n",
       "      <td>613.49</td>\n",
       "    </tr>\n",
       "    <tr>\n",
       "      <th>4</th>\n",
       "      <td>2004-01-01 05:00:00</td>\n",
       "      <td>6511.19</td>\n",
       "      <td>823.38</td>\n",
       "      <td>1009.74</td>\n",
       "      <td>686.76</td>\n",
       "      <td>6452.26</td>\n",
       "      <td>1462.76</td>\n",
       "      <td>3163.74</td>\n",
       "      <td>613.32</td>\n",
       "    </tr>\n",
       "    <tr>\n",
       "      <th>...</th>\n",
       "      <td>...</td>\n",
       "      <td>...</td>\n",
       "      <td>...</td>\n",
       "      <td>...</td>\n",
       "      <td>...</td>\n",
       "      <td>...</td>\n",
       "      <td>...</td>\n",
       "      <td>...</td>\n",
       "      <td>...</td>\n",
       "    </tr>\n",
       "    <tr>\n",
       "      <th>154849</th>\n",
       "      <td>2021-08-31 20:00:00</td>\n",
       "      <td>14477.26</td>\n",
       "      <td>1594.07</td>\n",
       "      <td>4307.99</td>\n",
       "      <td>832.71</td>\n",
       "      <td>13920.14</td>\n",
       "      <td>3666.45</td>\n",
       "      <td>7113.79</td>\n",
       "      <td>1150.02</td>\n",
       "    </tr>\n",
       "    <tr>\n",
       "      <th>154850</th>\n",
       "      <td>2021-08-31 21:00:00</td>\n",
       "      <td>14044.85</td>\n",
       "      <td>1565.64</td>\n",
       "      <td>4252.85</td>\n",
       "      <td>799.24</td>\n",
       "      <td>13308.33</td>\n",
       "      <td>3503.66</td>\n",
       "      <td>6805.93</td>\n",
       "      <td>1112.36</td>\n",
       "    </tr>\n",
       "    <tr>\n",
       "      <th>154851</th>\n",
       "      <td>2021-08-31 22:00:00</td>\n",
       "      <td>13796.10</td>\n",
       "      <td>1519.51</td>\n",
       "      <td>4213.14</td>\n",
       "      <td>777.39</td>\n",
       "      <td>12938.13</td>\n",
       "      <td>3396.58</td>\n",
       "      <td>6611.26</td>\n",
       "      <td>1086.27</td>\n",
       "    </tr>\n",
       "    <tr>\n",
       "      <th>154852</th>\n",
       "      <td>2021-08-31 23:00:00</td>\n",
       "      <td>13746.95</td>\n",
       "      <td>1498.90</td>\n",
       "      <td>4188.78</td>\n",
       "      <td>768.89</td>\n",
       "      <td>12876.06</td>\n",
       "      <td>3340.30</td>\n",
       "      <td>6589.14</td>\n",
       "      <td>1075.76</td>\n",
       "    </tr>\n",
       "    <tr>\n",
       "      <th>154853</th>\n",
       "      <td>2021-09-01 00:00:00</td>\n",
       "      <td>14035.90</td>\n",
       "      <td>1542.56</td>\n",
       "      <td>4216.02</td>\n",
       "      <td>787.35</td>\n",
       "      <td>13245.11</td>\n",
       "      <td>3387.29</td>\n",
       "      <td>6753.29</td>\n",
       "      <td>1090.01</td>\n",
       "    </tr>\n",
       "  </tbody>\n",
       "</table>\n",
       "<p>154854 rows × 9 columns</p>\n",
       "</div>"
      ],
      "text/plain": [
       "                        ds     COAST     EAST  FAR_WEST   NORTH   NORTH_C  \\\n",
       "0      2004-01-01 01:00:00   7225.09   877.79   1044.89  745.79   7124.21   \n",
       "1      2004-01-01 02:00:00   6994.25   850.75   1032.04  721.34   6854.58   \n",
       "2      2004-01-01 03:00:00   6717.42   831.63   1021.10  699.70   6639.48   \n",
       "3      2004-01-01 04:00:00   6554.27   823.56   1015.41  691.84   6492.39   \n",
       "4      2004-01-01 05:00:00   6511.19   823.38   1009.74  686.76   6452.26   \n",
       "...                    ...       ...      ...       ...     ...       ...   \n",
       "154849 2021-08-31 20:00:00  14477.26  1594.07   4307.99  832.71  13920.14   \n",
       "154850 2021-08-31 21:00:00  14044.85  1565.64   4252.85  799.24  13308.33   \n",
       "154851 2021-08-31 22:00:00  13796.10  1519.51   4213.14  777.39  12938.13   \n",
       "154852 2021-08-31 23:00:00  13746.95  1498.90   4188.78  768.89  12876.06   \n",
       "154853 2021-09-01 00:00:00  14035.90  1542.56   4216.02  787.35  13245.11   \n",
       "\n",
       "        SOUTHERN  SOUTH_C     WEST  \n",
       "0        1660.45  3639.12   654.61  \n",
       "1        1603.52  3495.16   639.88  \n",
       "2        1527.99  3322.70   623.42  \n",
       "3        1473.89  3201.72   613.49  \n",
       "4        1462.76  3163.74   613.32  \n",
       "...          ...      ...      ...  \n",
       "154849   3666.45  7113.79  1150.02  \n",
       "154850   3503.66  6805.93  1112.36  \n",
       "154851   3396.58  6611.26  1086.27  \n",
       "154852   3340.30  6589.14  1075.76  \n",
       "154853   3387.29  6753.29  1090.01  \n",
       "\n",
       "[154854 rows x 9 columns]"
      ]
     },
     "execution_count": 2,
     "metadata": {},
     "output_type": "execute_result"
    }
   ],
   "source": [
    "df_ercot = pd.read_csv(\"load_ercot_regions.csv\")\n",
    "df_ercot['ds']= pd.to_datetime(df_ercot['ds'])\n",
    "df_ercot"
   ]
  },
  {
   "cell_type": "code",
   "execution_count": 3,
   "id": "df471802",
   "metadata": {
    "ExecuteTime": {
     "end_time": "2022-05-23T11:00:27.759073Z",
     "start_time": "2022-05-23T11:00:27.713063Z"
    }
   },
   "outputs": [
    {
     "data": {
      "text/html": [
       "<div>\n",
       "<style scoped>\n",
       "    .dataframe tbody tr th:only-of-type {\n",
       "        vertical-align: middle;\n",
       "    }\n",
       "\n",
       "    .dataframe tbody tr th {\n",
       "        vertical-align: top;\n",
       "    }\n",
       "\n",
       "    .dataframe thead th {\n",
       "        text-align: right;\n",
       "    }\n",
       "</style>\n",
       "<table border=\"1\" class=\"dataframe\">\n",
       "  <thead>\n",
       "    <tr style=\"text-align: right;\">\n",
       "      <th></th>\n",
       "      <th>COAST</th>\n",
       "      <th>EAST</th>\n",
       "      <th>FAR_WEST</th>\n",
       "      <th>NORTH</th>\n",
       "      <th>NORTH_C</th>\n",
       "      <th>SOUTHERN</th>\n",
       "      <th>SOUTH_C</th>\n",
       "      <th>WEST</th>\n",
       "    </tr>\n",
       "    <tr>\n",
       "      <th>ds</th>\n",
       "      <th></th>\n",
       "      <th></th>\n",
       "      <th></th>\n",
       "      <th></th>\n",
       "      <th></th>\n",
       "      <th></th>\n",
       "      <th></th>\n",
       "      <th></th>\n",
       "    </tr>\n",
       "  </thead>\n",
       "  <tbody>\n",
       "    <tr>\n",
       "      <th>2004-01-01 01:00:00</th>\n",
       "      <td>7225.09</td>\n",
       "      <td>877.79</td>\n",
       "      <td>1044.89</td>\n",
       "      <td>745.79</td>\n",
       "      <td>7124.21</td>\n",
       "      <td>1660.45</td>\n",
       "      <td>3639.12</td>\n",
       "      <td>654.61</td>\n",
       "    </tr>\n",
       "    <tr>\n",
       "      <th>2004-01-01 02:00:00</th>\n",
       "      <td>6994.25</td>\n",
       "      <td>850.75</td>\n",
       "      <td>1032.04</td>\n",
       "      <td>721.34</td>\n",
       "      <td>6854.58</td>\n",
       "      <td>1603.52</td>\n",
       "      <td>3495.16</td>\n",
       "      <td>639.88</td>\n",
       "    </tr>\n",
       "    <tr>\n",
       "      <th>2004-01-01 03:00:00</th>\n",
       "      <td>6717.42</td>\n",
       "      <td>831.63</td>\n",
       "      <td>1021.10</td>\n",
       "      <td>699.70</td>\n",
       "      <td>6639.48</td>\n",
       "      <td>1527.99</td>\n",
       "      <td>3322.70</td>\n",
       "      <td>623.42</td>\n",
       "    </tr>\n",
       "    <tr>\n",
       "      <th>2004-01-01 04:00:00</th>\n",
       "      <td>6554.27</td>\n",
       "      <td>823.56</td>\n",
       "      <td>1015.41</td>\n",
       "      <td>691.84</td>\n",
       "      <td>6492.39</td>\n",
       "      <td>1473.89</td>\n",
       "      <td>3201.72</td>\n",
       "      <td>613.49</td>\n",
       "    </tr>\n",
       "    <tr>\n",
       "      <th>2004-01-01 05:00:00</th>\n",
       "      <td>6511.19</td>\n",
       "      <td>823.38</td>\n",
       "      <td>1009.74</td>\n",
       "      <td>686.76</td>\n",
       "      <td>6452.26</td>\n",
       "      <td>1462.76</td>\n",
       "      <td>3163.74</td>\n",
       "      <td>613.32</td>\n",
       "    </tr>\n",
       "    <tr>\n",
       "      <th>...</th>\n",
       "      <td>...</td>\n",
       "      <td>...</td>\n",
       "      <td>...</td>\n",
       "      <td>...</td>\n",
       "      <td>...</td>\n",
       "      <td>...</td>\n",
       "      <td>...</td>\n",
       "      <td>...</td>\n",
       "    </tr>\n",
       "    <tr>\n",
       "      <th>2021-08-31 20:00:00</th>\n",
       "      <td>14477.26</td>\n",
       "      <td>1594.07</td>\n",
       "      <td>4307.99</td>\n",
       "      <td>832.71</td>\n",
       "      <td>13920.14</td>\n",
       "      <td>3666.45</td>\n",
       "      <td>7113.79</td>\n",
       "      <td>1150.02</td>\n",
       "    </tr>\n",
       "    <tr>\n",
       "      <th>2021-08-31 21:00:00</th>\n",
       "      <td>14044.85</td>\n",
       "      <td>1565.64</td>\n",
       "      <td>4252.85</td>\n",
       "      <td>799.24</td>\n",
       "      <td>13308.33</td>\n",
       "      <td>3503.66</td>\n",
       "      <td>6805.93</td>\n",
       "      <td>1112.36</td>\n",
       "    </tr>\n",
       "    <tr>\n",
       "      <th>2021-08-31 22:00:00</th>\n",
       "      <td>13796.10</td>\n",
       "      <td>1519.51</td>\n",
       "      <td>4213.14</td>\n",
       "      <td>777.39</td>\n",
       "      <td>12938.13</td>\n",
       "      <td>3396.58</td>\n",
       "      <td>6611.26</td>\n",
       "      <td>1086.27</td>\n",
       "    </tr>\n",
       "    <tr>\n",
       "      <th>2021-08-31 23:00:00</th>\n",
       "      <td>13746.95</td>\n",
       "      <td>1498.90</td>\n",
       "      <td>4188.78</td>\n",
       "      <td>768.89</td>\n",
       "      <td>12876.06</td>\n",
       "      <td>3340.30</td>\n",
       "      <td>6589.14</td>\n",
       "      <td>1075.76</td>\n",
       "    </tr>\n",
       "    <tr>\n",
       "      <th>2021-09-01 00:00:00</th>\n",
       "      <td>14035.90</td>\n",
       "      <td>1542.56</td>\n",
       "      <td>4216.02</td>\n",
       "      <td>787.35</td>\n",
       "      <td>13245.11</td>\n",
       "      <td>3387.29</td>\n",
       "      <td>6753.29</td>\n",
       "      <td>1090.01</td>\n",
       "    </tr>\n",
       "  </tbody>\n",
       "</table>\n",
       "<p>154872 rows × 8 columns</p>\n",
       "</div>"
      ],
      "text/plain": [
       "                        COAST     EAST  FAR_WEST   NORTH   NORTH_C  SOUTHERN  \\\n",
       "ds                                                                             \n",
       "2004-01-01 01:00:00   7225.09   877.79   1044.89  745.79   7124.21   1660.45   \n",
       "2004-01-01 02:00:00   6994.25   850.75   1032.04  721.34   6854.58   1603.52   \n",
       "2004-01-01 03:00:00   6717.42   831.63   1021.10  699.70   6639.48   1527.99   \n",
       "2004-01-01 04:00:00   6554.27   823.56   1015.41  691.84   6492.39   1473.89   \n",
       "2004-01-01 05:00:00   6511.19   823.38   1009.74  686.76   6452.26   1462.76   \n",
       "...                       ...      ...       ...     ...       ...       ...   \n",
       "2021-08-31 20:00:00  14477.26  1594.07   4307.99  832.71  13920.14   3666.45   \n",
       "2021-08-31 21:00:00  14044.85  1565.64   4252.85  799.24  13308.33   3503.66   \n",
       "2021-08-31 22:00:00  13796.10  1519.51   4213.14  777.39  12938.13   3396.58   \n",
       "2021-08-31 23:00:00  13746.95  1498.90   4188.78  768.89  12876.06   3340.30   \n",
       "2021-09-01 00:00:00  14035.90  1542.56   4216.02  787.35  13245.11   3387.29   \n",
       "\n",
       "                     SOUTH_C     WEST  \n",
       "ds                                     \n",
       "2004-01-01 01:00:00  3639.12   654.61  \n",
       "2004-01-01 02:00:00  3495.16   639.88  \n",
       "2004-01-01 03:00:00  3322.70   623.42  \n",
       "2004-01-01 04:00:00  3201.72   613.49  \n",
       "2004-01-01 05:00:00  3163.74   613.32  \n",
       "...                      ...      ...  \n",
       "2021-08-31 20:00:00  7113.79  1150.02  \n",
       "2021-08-31 21:00:00  6805.93  1112.36  \n",
       "2021-08-31 22:00:00  6611.26  1086.27  \n",
       "2021-08-31 23:00:00  6589.14  1075.76  \n",
       "2021-09-01 00:00:00  6753.29  1090.01  \n",
       "\n",
       "[154872 rows x 8 columns]"
      ]
     },
     "execution_count": 3,
     "metadata": {},
     "output_type": "execute_result"
    }
   ],
   "source": [
    "df_ercot.set_index('ds',inplace=True)\n",
    "df_ercot=df_ercot.asfreq('1H')\n",
    "df_ercot"
   ]
  },
  {
   "cell_type": "code",
   "execution_count": 4,
   "id": "2696a8cf",
   "metadata": {
    "ExecuteTime": {
     "end_time": "2022-05-23T11:00:27.917109Z",
     "start_time": "2022-05-23T11:00:27.762074Z"
    }
   },
   "outputs": [],
   "source": [
    "n_unit_size = 24\n",
    "n_input_chunk = n_unit_size*20\n",
    "n_output_chunk = n_unit_size*1\n",
    "n_valid =  n_unit_size*60\n",
    "n_test = n_unit_size*60\n",
    "valid_iloc =n_input_chunk+n_valid+n_test\n",
    "test_iloc = n_input_chunk+n_test\n",
    "\n",
    "train_ts_list = [TimeSeries.from_series(df_ercot[col].iloc[:-valid_iloc],\n",
    "                                        fill_missing_dates=False,fillna_value=0) for col in df_ercot.columns]\n",
    "valid_ts_list = [TimeSeries.from_series(df_ercot[col].iloc[-valid_iloc:-test_iloc],\n",
    "                                        fill_missing_dates=False,fillna_value=0) for col in df_ercot.columns]\n",
    "test_ts_list = [TimeSeries.from_series(df_ercot[col].iloc[-test_iloc:],\n",
    "                                       fill_missing_dates=False,fillna_value=0) for col in df_ercot.columns]"
   ]
  },
  {
   "cell_type": "code",
   "execution_count": 5,
   "id": "10270257",
   "metadata": {
    "ExecuteTime": {
     "end_time": "2022-05-23T11:00:27.933112Z",
     "start_time": "2022-05-23T11:00:27.924110Z"
    }
   },
   "outputs": [],
   "source": [
    "# train_ts_list"
   ]
  },
  {
   "cell_type": "code",
   "execution_count": null,
   "id": "17ed0786",
   "metadata": {
    "ExecuteTime": {
     "end_time": "2022-05-20T11:41:46.305666Z",
     "start_time": "2022-05-20T11:41:46.229648Z"
    }
   },
   "outputs": [],
   "source": []
  },
  {
   "cell_type": "markdown",
   "id": "3564bd73",
   "metadata": {},
   "source": [
    "## 对不同地区进行建模"
   ]
  },
  {
   "cell_type": "code",
   "execution_count": 6,
   "id": "215fe7d3",
   "metadata": {
    "ExecuteTime": {
     "end_time": "2022-05-23T11:00:28.029134Z",
     "start_time": "2022-05-23T11:00:27.936113Z"
    }
   },
   "outputs": [],
   "source": [
    "diqu = 7\n",
    "\n",
    "\n",
    "scaler = MinMaxScaler()\n",
    "scaler_list = [Scaler(scaler) for col in df_ercot.columns]\n",
    "train_ts_list_scaled = [s.fit_transform(t) for s,t in zip(scaler_list,train_ts_list)]\n",
    "valid_ts_list_scaled = [s.transform(v) for s,v in zip(scaler_list,valid_ts_list)]\n",
    "test_ts_list_scaled = [s.transform(v) for s,v in zip(scaler_list,test_ts_list)]\n",
    "\n",
    "train_ts_list_scaled = train_ts_list_scaled[diqu]\n",
    "valid_ts_list_scaled = valid_ts_list_scaled[diqu]\n",
    "test_ts_list_scaled = test_ts_list_scaled[diqu]"
   ]
  },
  {
   "cell_type": "code",
   "execution_count": 7,
   "id": "be37eae9",
   "metadata": {
    "ExecuteTime": {
     "end_time": "2022-05-23T11:00:28.045138Z",
     "start_time": "2022-05-23T11:00:28.030135Z"
    }
   },
   "outputs": [],
   "source": [
    "# train_ts_list_scaled"
   ]
  },
  {
   "cell_type": "markdown",
   "id": "bf6b2050",
   "metadata": {},
   "source": [
    "## 开始建模"
   ]
  },
  {
   "cell_type": "code",
   "execution_count": 8,
   "id": "0502e4b5",
   "metadata": {
    "ExecuteTime": {
     "end_time": "2022-05-23T11:00:29.351435Z",
     "start_time": "2022-05-23T11:00:28.047138Z"
    }
   },
   "outputs": [
    {
     "name": "stderr",
     "output_type": "stream",
     "text": [
      "[2022-05-23 19:00:29,264] WARNING | darts.models | Support for Facebook Prophet is not available. To enable it, install \"darts\", \"u8darts[prophet]\" or \"u8darts[all]\" (with pip);or \"u8darts-all\" (with conda).\n",
      "2022-05-23 19:00:29 darts.models WARNING: Support for Facebook Prophet is not available. To enable it, install \"darts\", \"u8darts[prophet]\" or \"u8darts[all]\" (with pip);or \"u8darts-all\" (with conda).\n"
     ]
    }
   ],
   "source": [
    "from darts.models import TCNModel,RandomForest,RNNModel\n",
    "pl_trainer_kwargs={\n",
    "     \"accelerator\": \"gpu\",\n",
    "      \"gpus\": 1\n",
    "\n",
    "\n",
    "    }\n",
    "\n",
    "model = RNNModel(model=\"RNN\",pl_trainer_kwargs=pl_trainer_kwargs,\n",
    "                 input_chunk_length=n_input_chunk,\n",
    "                 training_length=n_input_chunk+n_output_chunk, n_rnn_layers=2\n",
    "                )"
   ]
  },
  {
   "cell_type": "code",
   "execution_count": 9,
   "id": "abe2adbc",
   "metadata": {
    "ExecuteTime": {
     "end_time": "2022-05-23T11:08:33.013576Z",
     "start_time": "2022-05-23T11:00:29.353435Z"
    }
   },
   "outputs": [
    {
     "name": "stderr",
     "output_type": "stream",
     "text": [
      "[2022-05-23 19:00:29,355] INFO | darts.models.forecasting.torch_forecasting_model | Train dataset contains 151008 samples.\n",
      "[2022-05-23 19:00:29,355] INFO | darts.models.forecasting.torch_forecasting_model | Train dataset contains 151008 samples.\n",
      "2022-05-23 19:00:29 darts.models.forecasting.torch_forecasting_model INFO: Train dataset contains 151008 samples.\n",
      "[2022-05-23 19:00:29,359] INFO | darts.models.forecasting.torch_forecasting_model | Time series values are 64-bits; casting model to float64.\n",
      "[2022-05-23 19:00:29,359] INFO | darts.models.forecasting.torch_forecasting_model | Time series values are 64-bits; casting model to float64.\n",
      "2022-05-23 19:00:29 darts.models.forecasting.torch_forecasting_model INFO: Time series values are 64-bits; casting model to float64.\n",
      "[2022-05-23 19:00:29,361] WARNING | darts.models.forecasting.torch_forecasting_model | DeprecationWarning: kwarg `verbose` is deprecated and will be removed in a future Darts version. Instead, control verbosity with PyTorch Lightning Trainer parameters `enable_progress_bar`, `progress_bar_refresh_rate` and `enable_model_summary` in the `pl_trainer_kwargs` dict at model creation.\n",
      "[2022-05-23 19:00:29,361] WARNING | darts.models.forecasting.torch_forecasting_model | DeprecationWarning: kwarg `verbose` is deprecated and will be removed in a future Darts version. Instead, control verbosity with PyTorch Lightning Trainer parameters `enable_progress_bar`, `progress_bar_refresh_rate` and `enable_model_summary` in the `pl_trainer_kwargs` dict at model creation.\n",
      "2022-05-23 19:00:29 darts.models.forecasting.torch_forecasting_model WARNING: DeprecationWarning: kwarg `verbose` is deprecated and will be removed in a future Darts version. Instead, control verbosity with PyTorch Lightning Trainer parameters `enable_progress_bar`, `progress_bar_refresh_rate` and `enable_model_summary` in the `pl_trainer_kwargs` dict at model creation.\n",
      "GPU available: True, used: True\n",
      "TPU available: False, using: 0 TPU cores\n",
      "IPU available: False, using: 0 IPUs\n",
      "HPU available: False, using: 0 HPUs\n",
      "LOCAL_RANK: 0 - CUDA_VISIBLE_DEVICES: [0]\n",
      "\n",
      "  | Name      | Type    | Params\n",
      "--------------------------------------\n",
      "0 | criterion | MSELoss | 0     \n",
      "1 | rnn       | RNN     | 2.0 K \n",
      "2 | V         | Linear  | 26    \n",
      "--------------------------------------\n",
      "2.0 K     Trainable params\n",
      "0         Non-trainable params\n",
      "2.0 K     Total params\n",
      "0.016     Total estimated model params size (MB)\n"
     ]
    },
    {
     "data": {
      "application/vnd.jupyter.widget-view+json": {
       "model_id": "",
       "version_major": 2,
       "version_minor": 0
      },
      "text/plain": [
       "Sanity Checking: 0it [00:00, ?it/s]"
      ]
     },
     "metadata": {},
     "output_type": "display_data"
    },
    {
     "data": {
      "application/vnd.jupyter.widget-view+json": {
       "model_id": "c771a155339d445c8b0a1bac8b32848c",
       "version_major": 2,
       "version_minor": 0
      },
      "text/plain": [
       "Training: 0it [00:00, ?it/s]"
      ]
     },
     "metadata": {},
     "output_type": "display_data"
    },
    {
     "data": {
      "application/vnd.jupyter.widget-view+json": {
       "model_id": "",
       "version_major": 2,
       "version_minor": 0
      },
      "text/plain": [
       "Validation: 0it [00:00, ?it/s]"
      ]
     },
     "metadata": {},
     "output_type": "display_data"
    },
    {
     "data": {
      "text/plain": [
       "<darts.models.forecasting.rnn_model.RNNModel at 0x234c11fb730>"
      ]
     },
     "execution_count": 9,
     "metadata": {},
     "output_type": "execute_result"
    }
   ],
   "source": [
    "model.fit(train_ts_list_scaled,val_series=valid_ts_list_scaled,verbose=True,epochs=1,trainer=None)"
   ]
  },
  {
   "cell_type": "code",
   "execution_count": 10,
   "id": "a221a644",
   "metadata": {
    "ExecuteTime": {
     "end_time": "2022-05-23T11:08:39.468577Z",
     "start_time": "2022-05-23T11:08:33.016577Z"
    }
   },
   "outputs": [
    {
     "name": "stderr",
     "output_type": "stream",
     "text": [
      "LOCAL_RANK: 0 - CUDA_VISIBLE_DEVICES: [0]\n"
     ]
    },
    {
     "data": {
      "application/vnd.jupyter.widget-view+json": {
       "model_id": "19ed00380f3c46db9de485c2ecce2234",
       "version_major": 2,
       "version_minor": 0
      },
      "text/plain": [
       "Predicting: 4719it [00:00, ?it/s]"
      ]
     },
     "metadata": {},
     "output_type": "display_data"
    },
    {
     "name": "stderr",
     "output_type": "stream",
     "text": [
      "LOCAL_RANK: 0 - CUDA_VISIBLE_DEVICES: [0]\n"
     ]
    },
    {
     "data": {
      "application/vnd.jupyter.widget-view+json": {
       "model_id": "649d31cbcf084dea858d0138a3590fba",
       "version_major": 2,
       "version_minor": 0
      },
      "text/plain": [
       "Predicting: 4719it [00:00, ?it/s]"
      ]
     },
     "metadata": {},
     "output_type": "display_data"
    },
    {
     "name": "stderr",
     "output_type": "stream",
     "text": [
      "LOCAL_RANK: 0 - CUDA_VISIBLE_DEVICES: [0]\n"
     ]
    },
    {
     "data": {
      "application/vnd.jupyter.widget-view+json": {
       "model_id": "8dc3760a9023455aaa391d37371f5b41",
       "version_major": 2,
       "version_minor": 0
      },
      "text/plain": [
       "Predicting: 4719it [00:00, ?it/s]"
      ]
     },
     "metadata": {},
     "output_type": "display_data"
    },
    {
     "name": "stderr",
     "output_type": "stream",
     "text": [
      "LOCAL_RANK: 0 - CUDA_VISIBLE_DEVICES: [0]\n"
     ]
    },
    {
     "data": {
      "application/vnd.jupyter.widget-view+json": {
       "model_id": "f0df8d6d65f64e8d972334881994b974",
       "version_major": 2,
       "version_minor": 0
      },
      "text/plain": [
       "Predicting: 4719it [00:00, ?it/s]"
      ]
     },
     "metadata": {},
     "output_type": "display_data"
    },
    {
     "name": "stderr",
     "output_type": "stream",
     "text": [
      "LOCAL_RANK: 0 - CUDA_VISIBLE_DEVICES: [0]\n"
     ]
    },
    {
     "data": {
      "application/vnd.jupyter.widget-view+json": {
       "model_id": "89acd8a7879045538f9d3ceff7859570",
       "version_major": 2,
       "version_minor": 0
      },
      "text/plain": [
       "Predicting: 4719it [00:00, ?it/s]"
      ]
     },
     "metadata": {},
     "output_type": "display_data"
    },
    {
     "name": "stderr",
     "output_type": "stream",
     "text": [
      "LOCAL_RANK: 0 - CUDA_VISIBLE_DEVICES: [0]\n"
     ]
    },
    {
     "data": {
      "application/vnd.jupyter.widget-view+json": {
       "model_id": "6e283f2f0a814d4db53d3af2225fbbc1",
       "version_major": 2,
       "version_minor": 0
      },
      "text/plain": [
       "Predicting: 4719it [00:00, ?it/s]"
      ]
     },
     "metadata": {},
     "output_type": "display_data"
    },
    {
     "name": "stderr",
     "output_type": "stream",
     "text": [
      "LOCAL_RANK: 0 - CUDA_VISIBLE_DEVICES: [0]\n"
     ]
    },
    {
     "data": {
      "application/vnd.jupyter.widget-view+json": {
       "model_id": "553e946fa9bf43449bf8673ace2baf9c",
       "version_major": 2,
       "version_minor": 0
      },
      "text/plain": [
       "Predicting: 4719it [00:00, ?it/s]"
      ]
     },
     "metadata": {},
     "output_type": "display_data"
    },
    {
     "name": "stderr",
     "output_type": "stream",
     "text": [
      "LOCAL_RANK: 0 - CUDA_VISIBLE_DEVICES: [0]\n"
     ]
    },
    {
     "data": {
      "application/vnd.jupyter.widget-view+json": {
       "model_id": "627d215b82284cd889e8de291dca9107",
       "version_major": 2,
       "version_minor": 0
      },
      "text/plain": [
       "Predicting: 4719it [00:00, ?it/s]"
      ]
     },
     "metadata": {},
     "output_type": "display_data"
    },
    {
     "name": "stderr",
     "output_type": "stream",
     "text": [
      "LOCAL_RANK: 0 - CUDA_VISIBLE_DEVICES: [0]\n"
     ]
    },
    {
     "data": {
      "application/vnd.jupyter.widget-view+json": {
       "model_id": "02fbd80701074368a7119ca192ed288e",
       "version_major": 2,
       "version_minor": 0
      },
      "text/plain": [
       "Predicting: 4719it [00:00, ?it/s]"
      ]
     },
     "metadata": {},
     "output_type": "display_data"
    },
    {
     "name": "stderr",
     "output_type": "stream",
     "text": [
      "LOCAL_RANK: 0 - CUDA_VISIBLE_DEVICES: [0]\n"
     ]
    },
    {
     "data": {
      "application/vnd.jupyter.widget-view+json": {
       "model_id": "f22323673b5942ca9b103a07ddd29631",
       "version_major": 2,
       "version_minor": 0
      },
      "text/plain": [
       "Predicting: 4719it [00:00, ?it/s]"
      ]
     },
     "metadata": {},
     "output_type": "display_data"
    },
    {
     "name": "stderr",
     "output_type": "stream",
     "text": [
      "LOCAL_RANK: 0 - CUDA_VISIBLE_DEVICES: [0]\n"
     ]
    },
    {
     "data": {
      "application/vnd.jupyter.widget-view+json": {
       "model_id": "111af065b301418e83af21f042bc948b",
       "version_major": 2,
       "version_minor": 0
      },
      "text/plain": [
       "Predicting: 4719it [00:00, ?it/s]"
      ]
     },
     "metadata": {},
     "output_type": "display_data"
    },
    {
     "name": "stderr",
     "output_type": "stream",
     "text": [
      "LOCAL_RANK: 0 - CUDA_VISIBLE_DEVICES: [0]\n"
     ]
    },
    {
     "data": {
      "application/vnd.jupyter.widget-view+json": {
       "model_id": "2e2702a269104f74a5b164b1cd9ba0f9",
       "version_major": 2,
       "version_minor": 0
      },
      "text/plain": [
       "Predicting: 4719it [00:00, ?it/s]"
      ]
     },
     "metadata": {},
     "output_type": "display_data"
    },
    {
     "name": "stderr",
     "output_type": "stream",
     "text": [
      "LOCAL_RANK: 0 - CUDA_VISIBLE_DEVICES: [0]\n"
     ]
    },
    {
     "data": {
      "application/vnd.jupyter.widget-view+json": {
       "model_id": "1e9e9c86143a43b285a30df93308e941",
       "version_major": 2,
       "version_minor": 0
      },
      "text/plain": [
       "Predicting: 4719it [00:00, ?it/s]"
      ]
     },
     "metadata": {},
     "output_type": "display_data"
    },
    {
     "name": "stderr",
     "output_type": "stream",
     "text": [
      "LOCAL_RANK: 0 - CUDA_VISIBLE_DEVICES: [0]\n"
     ]
    },
    {
     "data": {
      "application/vnd.jupyter.widget-view+json": {
       "model_id": "0b39fc2b625943318bed6e7117412cf4",
       "version_major": 2,
       "version_minor": 0
      },
      "text/plain": [
       "Predicting: 4719it [00:00, ?it/s]"
      ]
     },
     "metadata": {},
     "output_type": "display_data"
    },
    {
     "name": "stderr",
     "output_type": "stream",
     "text": [
      "LOCAL_RANK: 0 - CUDA_VISIBLE_DEVICES: [0]\n"
     ]
    },
    {
     "data": {
      "application/vnd.jupyter.widget-view+json": {
       "model_id": "c767a8f620f340d3a79a60e658ce0584",
       "version_major": 2,
       "version_minor": 0
      },
      "text/plain": [
       "Predicting: 4719it [00:00, ?it/s]"
      ]
     },
     "metadata": {},
     "output_type": "display_data"
    },
    {
     "name": "stderr",
     "output_type": "stream",
     "text": [
      "LOCAL_RANK: 0 - CUDA_VISIBLE_DEVICES: [0]\n"
     ]
    },
    {
     "data": {
      "application/vnd.jupyter.widget-view+json": {
       "model_id": "1e166f5dace142d6bba274991e8d9863",
       "version_major": 2,
       "version_minor": 0
      },
      "text/plain": [
       "Predicting: 4719it [00:00, ?it/s]"
      ]
     },
     "metadata": {},
     "output_type": "display_data"
    },
    {
     "name": "stderr",
     "output_type": "stream",
     "text": [
      "LOCAL_RANK: 0 - CUDA_VISIBLE_DEVICES: [0]\n"
     ]
    },
    {
     "data": {
      "application/vnd.jupyter.widget-view+json": {
       "model_id": "545f7cef0e444326844757933800f522",
       "version_major": 2,
       "version_minor": 0
      },
      "text/plain": [
       "Predicting: 4719it [00:00, ?it/s]"
      ]
     },
     "metadata": {},
     "output_type": "display_data"
    },
    {
     "name": "stderr",
     "output_type": "stream",
     "text": [
      "LOCAL_RANK: 0 - CUDA_VISIBLE_DEVICES: [0]\n"
     ]
    },
    {
     "data": {
      "application/vnd.jupyter.widget-view+json": {
       "model_id": "873ece8716cb49e5991c90afc247a307",
       "version_major": 2,
       "version_minor": 0
      },
      "text/plain": [
       "Predicting: 4719it [00:00, ?it/s]"
      ]
     },
     "metadata": {},
     "output_type": "display_data"
    },
    {
     "name": "stderr",
     "output_type": "stream",
     "text": [
      "LOCAL_RANK: 0 - CUDA_VISIBLE_DEVICES: [0]\n"
     ]
    },
    {
     "data": {
      "application/vnd.jupyter.widget-view+json": {
       "model_id": "dc40aeb46d8c4a018dccbff55aaf266f",
       "version_major": 2,
       "version_minor": 0
      },
      "text/plain": [
       "Predicting: 4719it [00:00, ?it/s]"
      ]
     },
     "metadata": {},
     "output_type": "display_data"
    },
    {
     "name": "stderr",
     "output_type": "stream",
     "text": [
      "LOCAL_RANK: 0 - CUDA_VISIBLE_DEVICES: [0]\n"
     ]
    },
    {
     "data": {
      "application/vnd.jupyter.widget-view+json": {
       "model_id": "518436bbd2b64a3fb6143088f3806809",
       "version_major": 2,
       "version_minor": 0
      },
      "text/plain": [
       "Predicting: 4719it [00:00, ?it/s]"
      ]
     },
     "metadata": {},
     "output_type": "display_data"
    },
    {
     "name": "stderr",
     "output_type": "stream",
     "text": [
      "LOCAL_RANK: 0 - CUDA_VISIBLE_DEVICES: [0]\n"
     ]
    },
    {
     "data": {
      "application/vnd.jupyter.widget-view+json": {
       "model_id": "c6e58cc311f542e9b5ee3096b72aafec",
       "version_major": 2,
       "version_minor": 0
      },
      "text/plain": [
       "Predicting: 4719it [00:00, ?it/s]"
      ]
     },
     "metadata": {},
     "output_type": "display_data"
    },
    {
     "name": "stderr",
     "output_type": "stream",
     "text": [
      "LOCAL_RANK: 0 - CUDA_VISIBLE_DEVICES: [0]\n"
     ]
    },
    {
     "data": {
      "application/vnd.jupyter.widget-view+json": {
       "model_id": "2f41be77f1d040659c5409ae1c61c72d",
       "version_major": 2,
       "version_minor": 0
      },
      "text/plain": [
       "Predicting: 4719it [00:00, ?it/s]"
      ]
     },
     "metadata": {},
     "output_type": "display_data"
    },
    {
     "name": "stderr",
     "output_type": "stream",
     "text": [
      "LOCAL_RANK: 0 - CUDA_VISIBLE_DEVICES: [0]\n"
     ]
    },
    {
     "data": {
      "application/vnd.jupyter.widget-view+json": {
       "model_id": "2b3bb80aae6e4b8bb4fe963432a8e078",
       "version_major": 2,
       "version_minor": 0
      },
      "text/plain": [
       "Predicting: 4719it [00:00, ?it/s]"
      ]
     },
     "metadata": {},
     "output_type": "display_data"
    },
    {
     "name": "stderr",
     "output_type": "stream",
     "text": [
      "LOCAL_RANK: 0 - CUDA_VISIBLE_DEVICES: [0]\n"
     ]
    },
    {
     "data": {
      "application/vnd.jupyter.widget-view+json": {
       "model_id": "8903b04bb52c41bb957a7ef86fffa2f8",
       "version_major": 2,
       "version_minor": 0
      },
      "text/plain": [
       "Predicting: 4719it [00:00, ?it/s]"
      ]
     },
     "metadata": {},
     "output_type": "display_data"
    },
    {
     "name": "stderr",
     "output_type": "stream",
     "text": [
      "LOCAL_RANK: 0 - CUDA_VISIBLE_DEVICES: [0]\n"
     ]
    },
    {
     "data": {
      "application/vnd.jupyter.widget-view+json": {
       "model_id": "ac946aa0390642aca1f215ed0fe99e7d",
       "version_major": 2,
       "version_minor": 0
      },
      "text/plain": [
       "Predicting: 4719it [00:00, ?it/s]"
      ]
     },
     "metadata": {},
     "output_type": "display_data"
    },
    {
     "name": "stderr",
     "output_type": "stream",
     "text": [
      "LOCAL_RANK: 0 - CUDA_VISIBLE_DEVICES: [0]\n"
     ]
    },
    {
     "data": {
      "application/vnd.jupyter.widget-view+json": {
       "model_id": "a2f09337de184b7a86b339fa0ca12a20",
       "version_major": 2,
       "version_minor": 0
      },
      "text/plain": [
       "Predicting: 4719it [00:00, ?it/s]"
      ]
     },
     "metadata": {},
     "output_type": "display_data"
    },
    {
     "name": "stderr",
     "output_type": "stream",
     "text": [
      "LOCAL_RANK: 0 - CUDA_VISIBLE_DEVICES: [0]\n"
     ]
    },
    {
     "data": {
      "application/vnd.jupyter.widget-view+json": {
       "model_id": "4993b90fbe3a488192442a2df7a10fa5",
       "version_major": 2,
       "version_minor": 0
      },
      "text/plain": [
       "Predicting: 4719it [00:00, ?it/s]"
      ]
     },
     "metadata": {},
     "output_type": "display_data"
    },
    {
     "name": "stderr",
     "output_type": "stream",
     "text": [
      "LOCAL_RANK: 0 - CUDA_VISIBLE_DEVICES: [0]\n"
     ]
    },
    {
     "data": {
      "application/vnd.jupyter.widget-view+json": {
       "model_id": "6e58cf45c8884413878b6a1dd458fb32",
       "version_major": 2,
       "version_minor": 0
      },
      "text/plain": [
       "Predicting: 4719it [00:00, ?it/s]"
      ]
     },
     "metadata": {},
     "output_type": "display_data"
    },
    {
     "name": "stderr",
     "output_type": "stream",
     "text": [
      "LOCAL_RANK: 0 - CUDA_VISIBLE_DEVICES: [0]\n"
     ]
    },
    {
     "data": {
      "application/vnd.jupyter.widget-view+json": {
       "model_id": "d6ca877155d94040b8a5fa64734c43f6",
       "version_major": 2,
       "version_minor": 0
      },
      "text/plain": [
       "Predicting: 4719it [00:00, ?it/s]"
      ]
     },
     "metadata": {},
     "output_type": "display_data"
    },
    {
     "name": "stderr",
     "output_type": "stream",
     "text": [
      "LOCAL_RANK: 0 - CUDA_VISIBLE_DEVICES: [0]\n"
     ]
    },
    {
     "data": {
      "application/vnd.jupyter.widget-view+json": {
       "model_id": "cae6c71a2a79417fa332139c3aebeefc",
       "version_major": 2,
       "version_minor": 0
      },
      "text/plain": [
       "Predicting: 4719it [00:00, ?it/s]"
      ]
     },
     "metadata": {},
     "output_type": "display_data"
    },
    {
     "name": "stderr",
     "output_type": "stream",
     "text": [
      "LOCAL_RANK: 0 - CUDA_VISIBLE_DEVICES: [0]\n"
     ]
    },
    {
     "data": {
      "application/vnd.jupyter.widget-view+json": {
       "model_id": "804487c46cc94d1f84ded2afe4f6c285",
       "version_major": 2,
       "version_minor": 0
      },
      "text/plain": [
       "Predicting: 4719it [00:00, ?it/s]"
      ]
     },
     "metadata": {},
     "output_type": "display_data"
    },
    {
     "name": "stderr",
     "output_type": "stream",
     "text": [
      "LOCAL_RANK: 0 - CUDA_VISIBLE_DEVICES: [0]\n"
     ]
    },
    {
     "data": {
      "application/vnd.jupyter.widget-view+json": {
       "model_id": "006bdca4545a4f6090db5cdfd0c8a9df",
       "version_major": 2,
       "version_minor": 0
      },
      "text/plain": [
       "Predicting: 4719it [00:00, ?it/s]"
      ]
     },
     "metadata": {},
     "output_type": "display_data"
    },
    {
     "name": "stderr",
     "output_type": "stream",
     "text": [
      "LOCAL_RANK: 0 - CUDA_VISIBLE_DEVICES: [0]\n"
     ]
    },
    {
     "data": {
      "application/vnd.jupyter.widget-view+json": {
       "model_id": "07f108f40e684319a639ddbb9f77db2b",
       "version_major": 2,
       "version_minor": 0
      },
      "text/plain": [
       "Predicting: 4719it [00:00, ?it/s]"
      ]
     },
     "metadata": {},
     "output_type": "display_data"
    },
    {
     "name": "stderr",
     "output_type": "stream",
     "text": [
      "LOCAL_RANK: 0 - CUDA_VISIBLE_DEVICES: [0]\n"
     ]
    },
    {
     "data": {
      "application/vnd.jupyter.widget-view+json": {
       "model_id": "825774cf4f2749a3b829b57877ba44df",
       "version_major": 2,
       "version_minor": 0
      },
      "text/plain": [
       "Predicting: 4719it [00:00, ?it/s]"
      ]
     },
     "metadata": {},
     "output_type": "display_data"
    },
    {
     "name": "stderr",
     "output_type": "stream",
     "text": [
      "LOCAL_RANK: 0 - CUDA_VISIBLE_DEVICES: [0]\n"
     ]
    },
    {
     "data": {
      "application/vnd.jupyter.widget-view+json": {
       "model_id": "00112b21aaf44203846d5be1cfdda55f",
       "version_major": 2,
       "version_minor": 0
      },
      "text/plain": [
       "Predicting: 4719it [00:00, ?it/s]"
      ]
     },
     "metadata": {},
     "output_type": "display_data"
    },
    {
     "name": "stderr",
     "output_type": "stream",
     "text": [
      "LOCAL_RANK: 0 - CUDA_VISIBLE_DEVICES: [0]\n"
     ]
    },
    {
     "data": {
      "application/vnd.jupyter.widget-view+json": {
       "model_id": "62e0ab5d2a36418196d0d11823bfac3f",
       "version_major": 2,
       "version_minor": 0
      },
      "text/plain": [
       "Predicting: 4719it [00:00, ?it/s]"
      ]
     },
     "metadata": {},
     "output_type": "display_data"
    },
    {
     "name": "stderr",
     "output_type": "stream",
     "text": [
      "LOCAL_RANK: 0 - CUDA_VISIBLE_DEVICES: [0]\n"
     ]
    },
    {
     "data": {
      "application/vnd.jupyter.widget-view+json": {
       "model_id": "2b610d9a20814ec5b9e9719718797e9b",
       "version_major": 2,
       "version_minor": 0
      },
      "text/plain": [
       "Predicting: 4719it [00:00, ?it/s]"
      ]
     },
     "metadata": {},
     "output_type": "display_data"
    },
    {
     "name": "stderr",
     "output_type": "stream",
     "text": [
      "LOCAL_RANK: 0 - CUDA_VISIBLE_DEVICES: [0]\n"
     ]
    },
    {
     "data": {
      "application/vnd.jupyter.widget-view+json": {
       "model_id": "83c5d1a3ea0e46a6956e63bdeb6a162b",
       "version_major": 2,
       "version_minor": 0
      },
      "text/plain": [
       "Predicting: 4719it [00:00, ?it/s]"
      ]
     },
     "metadata": {},
     "output_type": "display_data"
    },
    {
     "name": "stderr",
     "output_type": "stream",
     "text": [
      "LOCAL_RANK: 0 - CUDA_VISIBLE_DEVICES: [0]\n"
     ]
    },
    {
     "data": {
      "application/vnd.jupyter.widget-view+json": {
       "model_id": "bf37fef259a24c838159a57067ab1ce8",
       "version_major": 2,
       "version_minor": 0
      },
      "text/plain": [
       "Predicting: 4719it [00:00, ?it/s]"
      ]
     },
     "metadata": {},
     "output_type": "display_data"
    },
    {
     "name": "stderr",
     "output_type": "stream",
     "text": [
      "LOCAL_RANK: 0 - CUDA_VISIBLE_DEVICES: [0]\n"
     ]
    },
    {
     "data": {
      "application/vnd.jupyter.widget-view+json": {
       "model_id": "cc75946cc30b41dd9cdd0dac80e42748",
       "version_major": 2,
       "version_minor": 0
      },
      "text/plain": [
       "Predicting: 4719it [00:00, ?it/s]"
      ]
     },
     "metadata": {},
     "output_type": "display_data"
    },
    {
     "name": "stderr",
     "output_type": "stream",
     "text": [
      "LOCAL_RANK: 0 - CUDA_VISIBLE_DEVICES: [0]\n"
     ]
    },
    {
     "data": {
      "application/vnd.jupyter.widget-view+json": {
       "model_id": "56378c63c2e14eb7a0057f1ce4400692",
       "version_major": 2,
       "version_minor": 0
      },
      "text/plain": [
       "Predicting: 4719it [00:00, ?it/s]"
      ]
     },
     "metadata": {},
     "output_type": "display_data"
    },
    {
     "name": "stderr",
     "output_type": "stream",
     "text": [
      "LOCAL_RANK: 0 - CUDA_VISIBLE_DEVICES: [0]\n"
     ]
    },
    {
     "data": {
      "application/vnd.jupyter.widget-view+json": {
       "model_id": "32f71bca5f3f44afa60261922b666402",
       "version_major": 2,
       "version_minor": 0
      },
      "text/plain": [
       "Predicting: 4719it [00:00, ?it/s]"
      ]
     },
     "metadata": {},
     "output_type": "display_data"
    },
    {
     "name": "stderr",
     "output_type": "stream",
     "text": [
      "LOCAL_RANK: 0 - CUDA_VISIBLE_DEVICES: [0]\n"
     ]
    },
    {
     "data": {
      "application/vnd.jupyter.widget-view+json": {
       "model_id": "9bd1e08d7a1a4d1ab84c67e940f10ac4",
       "version_major": 2,
       "version_minor": 0
      },
      "text/plain": [
       "Predicting: 4719it [00:00, ?it/s]"
      ]
     },
     "metadata": {},
     "output_type": "display_data"
    },
    {
     "name": "stderr",
     "output_type": "stream",
     "text": [
      "LOCAL_RANK: 0 - CUDA_VISIBLE_DEVICES: [0]\n"
     ]
    },
    {
     "data": {
      "application/vnd.jupyter.widget-view+json": {
       "model_id": "b11abde87aeb4f408646f1560bd942df",
       "version_major": 2,
       "version_minor": 0
      },
      "text/plain": [
       "Predicting: 4719it [00:00, ?it/s]"
      ]
     },
     "metadata": {},
     "output_type": "display_data"
    },
    {
     "name": "stderr",
     "output_type": "stream",
     "text": [
      "LOCAL_RANK: 0 - CUDA_VISIBLE_DEVICES: [0]\n"
     ]
    },
    {
     "data": {
      "application/vnd.jupyter.widget-view+json": {
       "model_id": "e53b41372fcd4825a399075163ded172",
       "version_major": 2,
       "version_minor": 0
      },
      "text/plain": [
       "Predicting: 4719it [00:00, ?it/s]"
      ]
     },
     "metadata": {},
     "output_type": "display_data"
    },
    {
     "name": "stderr",
     "output_type": "stream",
     "text": [
      "LOCAL_RANK: 0 - CUDA_VISIBLE_DEVICES: [0]\n"
     ]
    },
    {
     "data": {
      "application/vnd.jupyter.widget-view+json": {
       "model_id": "6e343e2fdb5143f1bff6b978f0d781ac",
       "version_major": 2,
       "version_minor": 0
      },
      "text/plain": [
       "Predicting: 4719it [00:00, ?it/s]"
      ]
     },
     "metadata": {},
     "output_type": "display_data"
    },
    {
     "name": "stderr",
     "output_type": "stream",
     "text": [
      "LOCAL_RANK: 0 - CUDA_VISIBLE_DEVICES: [0]\n"
     ]
    },
    {
     "data": {
      "application/vnd.jupyter.widget-view+json": {
       "model_id": "7d2ad8e00c464b4f8542ae63939f2866",
       "version_major": 2,
       "version_minor": 0
      },
      "text/plain": [
       "Predicting: 4719it [00:00, ?it/s]"
      ]
     },
     "metadata": {},
     "output_type": "display_data"
    },
    {
     "name": "stderr",
     "output_type": "stream",
     "text": [
      "LOCAL_RANK: 0 - CUDA_VISIBLE_DEVICES: [0]\n"
     ]
    },
    {
     "data": {
      "application/vnd.jupyter.widget-view+json": {
       "model_id": "316c898cd96b4a17bdbe0743a07e3443",
       "version_major": 2,
       "version_minor": 0
      },
      "text/plain": [
       "Predicting: 4719it [00:00, ?it/s]"
      ]
     },
     "metadata": {},
     "output_type": "display_data"
    },
    {
     "name": "stderr",
     "output_type": "stream",
     "text": [
      "LOCAL_RANK: 0 - CUDA_VISIBLE_DEVICES: [0]\n"
     ]
    },
    {
     "data": {
      "application/vnd.jupyter.widget-view+json": {
       "model_id": "b7dafa25bbb0402aae6943363cdac3af",
       "version_major": 2,
       "version_minor": 0
      },
      "text/plain": [
       "Predicting: 4719it [00:00, ?it/s]"
      ]
     },
     "metadata": {},
     "output_type": "display_data"
    },
    {
     "name": "stderr",
     "output_type": "stream",
     "text": [
      "LOCAL_RANK: 0 - CUDA_VISIBLE_DEVICES: [0]\n"
     ]
    },
    {
     "data": {
      "application/vnd.jupyter.widget-view+json": {
       "model_id": "44fe736d0f8a4bbaa0906a5fddad6a9d",
       "version_major": 2,
       "version_minor": 0
      },
      "text/plain": [
       "Predicting: 4719it [00:00, ?it/s]"
      ]
     },
     "metadata": {},
     "output_type": "display_data"
    },
    {
     "name": "stderr",
     "output_type": "stream",
     "text": [
      "LOCAL_RANK: 0 - CUDA_VISIBLE_DEVICES: [0]\n"
     ]
    },
    {
     "data": {
      "application/vnd.jupyter.widget-view+json": {
       "model_id": "cdfcf9e8b1c3420489f55829f4d5f7e3",
       "version_major": 2,
       "version_minor": 0
      },
      "text/plain": [
       "Predicting: 4719it [00:00, ?it/s]"
      ]
     },
     "metadata": {},
     "output_type": "display_data"
    },
    {
     "name": "stderr",
     "output_type": "stream",
     "text": [
      "LOCAL_RANK: 0 - CUDA_VISIBLE_DEVICES: [0]\n"
     ]
    },
    {
     "data": {
      "application/vnd.jupyter.widget-view+json": {
       "model_id": "7c62cde3af2c451d9a4cef2ba7454b3b",
       "version_major": 2,
       "version_minor": 0
      },
      "text/plain": [
       "Predicting: 4719it [00:00, ?it/s]"
      ]
     },
     "metadata": {},
     "output_type": "display_data"
    },
    {
     "name": "stderr",
     "output_type": "stream",
     "text": [
      "LOCAL_RANK: 0 - CUDA_VISIBLE_DEVICES: [0]\n"
     ]
    },
    {
     "data": {
      "application/vnd.jupyter.widget-view+json": {
       "model_id": "268efa8808114fc2a996ea3649c8e193",
       "version_major": 2,
       "version_minor": 0
      },
      "text/plain": [
       "Predicting: 4719it [00:00, ?it/s]"
      ]
     },
     "metadata": {},
     "output_type": "display_data"
    },
    {
     "name": "stderr",
     "output_type": "stream",
     "text": [
      "LOCAL_RANK: 0 - CUDA_VISIBLE_DEVICES: [0]\n"
     ]
    },
    {
     "data": {
      "application/vnd.jupyter.widget-view+json": {
       "model_id": "801e286fc4dc4a26bcb137ded3ef231b",
       "version_major": 2,
       "version_minor": 0
      },
      "text/plain": [
       "Predicting: 4719it [00:00, ?it/s]"
      ]
     },
     "metadata": {},
     "output_type": "display_data"
    },
    {
     "name": "stderr",
     "output_type": "stream",
     "text": [
      "LOCAL_RANK: 0 - CUDA_VISIBLE_DEVICES: [0]\n"
     ]
    },
    {
     "data": {
      "application/vnd.jupyter.widget-view+json": {
       "model_id": "94d9cfd6dc144ff6a00fa41bf0f3471e",
       "version_major": 2,
       "version_minor": 0
      },
      "text/plain": [
       "Predicting: 4719it [00:00, ?it/s]"
      ]
     },
     "metadata": {},
     "output_type": "display_data"
    },
    {
     "name": "stderr",
     "output_type": "stream",
     "text": [
      "LOCAL_RANK: 0 - CUDA_VISIBLE_DEVICES: [0]\n"
     ]
    },
    {
     "data": {
      "application/vnd.jupyter.widget-view+json": {
       "model_id": "500e9ff22810449f99e860eddcb49392",
       "version_major": 2,
       "version_minor": 0
      },
      "text/plain": [
       "Predicting: 4719it [00:00, ?it/s]"
      ]
     },
     "metadata": {},
     "output_type": "display_data"
    },
    {
     "name": "stderr",
     "output_type": "stream",
     "text": [
      "LOCAL_RANK: 0 - CUDA_VISIBLE_DEVICES: [0]\n"
     ]
    },
    {
     "data": {
      "application/vnd.jupyter.widget-view+json": {
       "model_id": "0d861b7e9b16416fa773d1467b8c8ed3",
       "version_major": 2,
       "version_minor": 0
      },
      "text/plain": [
       "Predicting: 4719it [00:00, ?it/s]"
      ]
     },
     "metadata": {},
     "output_type": "display_data"
    },
    {
     "name": "stderr",
     "output_type": "stream",
     "text": [
      "LOCAL_RANK: 0 - CUDA_VISIBLE_DEVICES: [0]\n"
     ]
    },
    {
     "data": {
      "application/vnd.jupyter.widget-view+json": {
       "model_id": "e3b0daf145ad468eb2229eaf3572635b",
       "version_major": 2,
       "version_minor": 0
      },
      "text/plain": [
       "Predicting: 4719it [00:00, ?it/s]"
      ]
     },
     "metadata": {},
     "output_type": "display_data"
    },
    {
     "name": "stderr",
     "output_type": "stream",
     "text": [
      "LOCAL_RANK: 0 - CUDA_VISIBLE_DEVICES: [0]\n"
     ]
    },
    {
     "data": {
      "application/vnd.jupyter.widget-view+json": {
       "model_id": "6c070f9b7b8d41d790c56d1e0c73a959",
       "version_major": 2,
       "version_minor": 0
      },
      "text/plain": [
       "Predicting: 4719it [00:00, ?it/s]"
      ]
     },
     "metadata": {},
     "output_type": "display_data"
    },
    {
     "name": "stderr",
     "output_type": "stream",
     "text": [
      "LOCAL_RANK: 0 - CUDA_VISIBLE_DEVICES: [0]\n"
     ]
    },
    {
     "data": {
      "application/vnd.jupyter.widget-view+json": {
       "model_id": "c591cb5f95204582b19fe7aebbce315b",
       "version_major": 2,
       "version_minor": 0
      },
      "text/plain": [
       "Predicting: 4719it [00:00, ?it/s]"
      ]
     },
     "metadata": {},
     "output_type": "display_data"
    }
   ],
   "source": [
    "pred = model.historical_forecasts( series=test_ts_list_scaled,verbose=False,retrain=False,\n",
    "                                  start=n_input_chunk,forecast_horizon=n_output_chunk,stride=n_output_chunk,\n",
    "                                  overlap_end=True,last_points_only =False)\n",
    "# pred_df = pd.concat([pred[s].pd_series() for s in range(len(pred))])"
   ]
  },
  {
   "cell_type": "code",
   "execution_count": 11,
   "id": "4ac483a2",
   "metadata": {
    "ExecuteTime": {
     "end_time": "2022-05-23T11:08:39.500590Z",
     "start_time": "2022-05-23T11:08:39.469577Z"
    }
   },
   "outputs": [],
   "source": [
    "pred_df = pd.concat([pred[s].pd_series() for s in range(len(pred))])"
   ]
  },
  {
   "cell_type": "code",
   "execution_count": 12,
   "id": "44436758",
   "metadata": {
    "ExecuteTime": {
     "end_time": "2022-05-23T11:08:39.516593Z",
     "start_time": "2022-05-23T11:08:39.502590Z"
    }
   },
   "outputs": [],
   "source": [
    "test_df = pd.concat([pred_df,test_ts_list_scaled.pd_series()],axis=1).iloc[n_input_chunk:,:]\n",
    "test_df.columns = [f'yhat',f'y']\n",
    "# test_all_df = pd.concat([test_all_df,test_df],axis=1)"
   ]
  },
  {
   "cell_type": "code",
   "execution_count": 13,
   "id": "8f04af8c",
   "metadata": {
    "ExecuteTime": {
     "end_time": "2022-05-23T11:08:39.531597Z",
     "start_time": "2022-05-23T11:08:39.517593Z"
    }
   },
   "outputs": [
    {
     "data": {
      "text/html": [
       "<div>\n",
       "<style scoped>\n",
       "    .dataframe tbody tr th:only-of-type {\n",
       "        vertical-align: middle;\n",
       "    }\n",
       "\n",
       "    .dataframe tbody tr th {\n",
       "        vertical-align: top;\n",
       "    }\n",
       "\n",
       "    .dataframe thead th {\n",
       "        text-align: right;\n",
       "    }\n",
       "</style>\n",
       "<table border=\"1\" class=\"dataframe\">\n",
       "  <thead>\n",
       "    <tr style=\"text-align: right;\">\n",
       "      <th></th>\n",
       "      <th>yhat</th>\n",
       "      <th>y</th>\n",
       "    </tr>\n",
       "    <tr>\n",
       "      <th>ds</th>\n",
       "      <th></th>\n",
       "      <th></th>\n",
       "    </tr>\n",
       "  </thead>\n",
       "  <tbody>\n",
       "    <tr>\n",
       "      <th>2021-07-03 01:00:00</th>\n",
       "      <td>0.512870</td>\n",
       "      <td>0.521479</td>\n",
       "    </tr>\n",
       "    <tr>\n",
       "      <th>2021-07-03 02:00:00</th>\n",
       "      <td>0.519866</td>\n",
       "      <td>0.532748</td>\n",
       "    </tr>\n",
       "    <tr>\n",
       "      <th>2021-07-03 03:00:00</th>\n",
       "      <td>0.527462</td>\n",
       "      <td>0.557094</td>\n",
       "    </tr>\n",
       "    <tr>\n",
       "      <th>2021-07-03 04:00:00</th>\n",
       "      <td>0.534010</td>\n",
       "      <td>0.590521</td>\n",
       "    </tr>\n",
       "    <tr>\n",
       "      <th>2021-07-03 05:00:00</th>\n",
       "      <td>0.537938</td>\n",
       "      <td>0.630311</td>\n",
       "    </tr>\n",
       "    <tr>\n",
       "      <th>...</th>\n",
       "      <td>...</td>\n",
       "      <td>...</td>\n",
       "    </tr>\n",
       "    <tr>\n",
       "      <th>2021-08-31 20:00:00</th>\n",
       "      <td>0.513309</td>\n",
       "      <td>0.543128</td>\n",
       "    </tr>\n",
       "    <tr>\n",
       "      <th>2021-08-31 21:00:00</th>\n",
       "      <td>0.508534</td>\n",
       "      <td>0.525342</td>\n",
       "    </tr>\n",
       "    <tr>\n",
       "      <th>2021-08-31 22:00:00</th>\n",
       "      <td>0.504326</td>\n",
       "      <td>0.513021</td>\n",
       "    </tr>\n",
       "    <tr>\n",
       "      <th>2021-08-31 23:00:00</th>\n",
       "      <td>0.501422</td>\n",
       "      <td>0.508057</td>\n",
       "    </tr>\n",
       "    <tr>\n",
       "      <th>2021-09-01 00:00:00</th>\n",
       "      <td>0.500140</td>\n",
       "      <td>0.514787</td>\n",
       "    </tr>\n",
       "  </tbody>\n",
       "</table>\n",
       "<p>1440 rows × 2 columns</p>\n",
       "</div>"
      ],
      "text/plain": [
       "                         yhat         y\n",
       "ds                                     \n",
       "2021-07-03 01:00:00  0.512870  0.521479\n",
       "2021-07-03 02:00:00  0.519866  0.532748\n",
       "2021-07-03 03:00:00  0.527462  0.557094\n",
       "2021-07-03 04:00:00  0.534010  0.590521\n",
       "2021-07-03 05:00:00  0.537938  0.630311\n",
       "...                       ...       ...\n",
       "2021-08-31 20:00:00  0.513309  0.543128\n",
       "2021-08-31 21:00:00  0.508534  0.525342\n",
       "2021-08-31 22:00:00  0.504326  0.513021\n",
       "2021-08-31 23:00:00  0.501422  0.508057\n",
       "2021-09-01 00:00:00  0.500140  0.514787\n",
       "\n",
       "[1440 rows x 2 columns]"
      ]
     },
     "execution_count": 13,
     "metadata": {},
     "output_type": "execute_result"
    }
   ],
   "source": [
    "test_df"
   ]
  },
  {
   "cell_type": "code",
   "execution_count": 14,
   "id": "d6d1792f",
   "metadata": {
    "ExecuteTime": {
     "end_time": "2022-05-23T11:08:41.124964Z",
     "start_time": "2022-05-23T11:08:39.533597Z"
    }
   },
   "outputs": [
    {
     "data": {
      "text/plain": [
       "<matplotlib.legend.Legend at 0x2348d15ba60>"
      ]
     },
     "execution_count": 14,
     "metadata": {},
     "output_type": "execute_result"
    },
    {
     "data": {
      "image/png": "[encoded data removed]",
      "text/plain": [
       "<Figure size 1440x864 with 1 Axes>"
      ]
     },
     "metadata": {
      "needs_background": "light"
     },
     "output_type": "display_data"
    }
   ],
   "source": [
    "plt.figure(figsize=(20,12))\n",
    "plt.plot(test_df.index,test_df.yhat,label='yhat')\n",
    "plt.plot(test_df.index,test_df.y,label='origin')\n",
    "plt.legend()"
   ]
  },
  {
   "cell_type": "code",
   "execution_count": 15,
   "id": "d82f50cf",
   "metadata": {
    "ExecuteTime": {
     "end_time": "2022-05-23T11:08:41.140971Z",
     "start_time": "2022-05-23T11:08:41.130965Z"
    }
   },
   "outputs": [
    {
     "name": "stdout",
     "output_type": "stream",
     "text": [
      "WEST\n",
      "MSE= 0.03297100967086706\n",
      "MAE= 0.14274359889057592\n",
      "MAPE= 0.19681814105230705\n"
     ]
    }
   ],
   "source": [
    "from sklearn.metrics import mean_squared_error,mean_absolute_error,mean_absolute_percentage_error\n",
    "MSE = mean_squared_error(test_df.y, test_df.yhat)\n",
    "MAE = mean_absolute_error(test_df.y, test_df.yhat)\n",
    "MAPE = mean_absolute_percentage_error(test_df.y, test_df.yhat)\n",
    "print(df_ercot.columns[diqu])\n",
    "print(\"MSE=\",MSE)\n",
    "print(\"MAE=\",MAE)\n",
    "print(\"MAPE=\",MAPE)"
   ]
  },
  {
   "cell_type": "code",
   "execution_count": 16,
   "id": "9e0d79dc",
   "metadata": {
    "ExecuteTime": {
     "end_time": "2022-05-23T11:08:41.156977Z",
     "start_time": "2022-05-23T11:08:41.141972Z"
    }
   },
   "outputs": [],
   "source": [
    "# data = pd.read_csv(\"./result/result.csv\",index_col=0)\n",
    "# data"
   ]
  },
  {
   "cell_type": "code",
   "execution_count": 17,
   "id": "65e7a904",
   "metadata": {
    "ExecuteTime": {
     "end_time": "2022-05-23T11:08:41.172981Z",
     "start_time": "2022-05-23T11:08:41.157977Z"
    }
   },
   "outputs": [],
   "source": [
    "# data_new = pd.concat([data,test_df.reset_index(drop=True)['yhat']],axis=1)\n",
    "# data_new"
   ]
  },
  {
   "cell_type": "code",
   "execution_count": 18,
   "id": "c1134e2f",
   "metadata": {
    "ExecuteTime": {
     "end_time": "2022-05-23T11:08:41.188984Z",
     "start_time": "2022-05-23T11:08:41.173981Z"
    }
   },
   "outputs": [],
   "source": [
    "# data_new.rename(columns={\"yhat\":'RNN'},inplace=True)"
   ]
  },
  {
   "cell_type": "code",
   "execution_count": 19,
   "id": "e48db5f9",
   "metadata": {
    "ExecuteTime": {
     "end_time": "2022-05-23T11:08:41.204988Z",
     "start_time": "2022-05-23T11:08:41.190985Z"
    }
   },
   "outputs": [],
   "source": [
    "# data_new"
   ]
  },
  {
   "cell_type": "code",
   "execution_count": 20,
   "id": "bfd3028f",
   "metadata": {
    "ExecuteTime": {
     "end_time": "2022-05-23T11:08:41.242997Z",
     "start_time": "2022-05-23T11:08:41.207989Z"
    }
   },
   "outputs": [],
   "source": [
    "# data_new.to_csv(\"./result/result.csv\")"
   ]
  },
  {
   "cell_type": "code",
   "execution_count": null,
   "id": "4fdfa59b",
   "metadata": {},
   "outputs": [],
   "source": []
  }
 ],
 "metadata": {
  "kernelspec": {
   "display_name": "Python 3 (ipykernel)",
   "language": "python",
   "name": "python3"
  },
  "language_info": {
   "codemirror_mode": {
    "name": "ipython",
    "version": 3
   },
   "file_extension": ".py",
   "mimetype": "text/x-python",
   "name": "python",
   "nbconvert_exporter": "python",
   "pygments_lexer": "ipython3",
   "version": "3.8.13"
  },
  "toc": {
   "base_numbering": 1,
   "nav_menu": {},
   "number_sections": true,
   "sideBar": true,
   "skip_h1_title": false,
   "title_cell": "Table of Contents",
   "title_sidebar": "Contents",
   "toc_cell": false,
   "toc_position": {},
   "toc_section_display": true,
   "toc_window_display": false
  }
 },
 "nbformat": 4,
 "nbformat_minor": 5
}

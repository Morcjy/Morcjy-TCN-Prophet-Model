{
 "cells": [
  {
   "cell_type": "code",
   "execution_count": 1,
   "id": "f2d61ae6",
   "metadata": {
    "ExecuteTime": {
     "end_time": "2022-08-22T03:15:27.900725Z",
     "start_time": "2022-08-22T03:15:25.342332Z"
    }
   },
   "outputs": [],
   "source": [
    "import pandas as pd\n",
    "import numpy as np\n",
    "import matplotlib.pyplot as plt\n",
    "from darts import TimeSeries\n",
    "\n",
    "from pytorch_lightning.callbacks.early_stopping import EarlyStopping\n",
    "\n",
    "from sklearn.preprocessing import MinMaxScaler\n",
    "from darts.dataprocessing.transformers import Scaler"
   ]
  },
  {
   "cell_type": "code",
   "execution_count": 2,
   "id": "9bf5686f",
   "metadata": {
    "ExecuteTime": {
     "end_time": "2022-08-22T03:15:29.544101Z",
     "start_time": "2022-08-22T03:15:28.565714Z"
    }
   },
   "outputs": [
    {
     "name": "stderr",
     "output_type": "stream",
     "text": [
      "[2022-08-22 11:15:29,496] WARNING | darts.models | Support for Facebook Prophet is not available. To enable it, install \"darts\", \"u8darts[prophet]\" or \"u8darts[all]\" (with pip);or \"u8darts-all\" (with conda).\n",
      "2022-08-22 11:15:29 darts.models WARNING: Support for Facebook Prophet is not available. To enable it, install \"darts\", \"u8darts[prophet]\" or \"u8darts[all]\" (with pip);or \"u8darts-all\" (with conda).\n"
     ]
    }
   ],
   "source": [
    "from darts.models import TCNModel,RandomForest"
   ]
  },
  {
   "cell_type": "code",
   "execution_count": 3,
   "id": "75b4e912",
   "metadata": {
    "ExecuteTime": {
     "end_time": "2022-08-22T03:15:30.503050Z",
     "start_time": "2022-08-22T03:15:30.267564Z"
    }
   },
   "outputs": [
    {
     "data": {
      "text/html": [
       "<div>\n",
       "<style scoped>\n",
       "    .dataframe tbody tr th:only-of-type {\n",
       "        vertical-align: middle;\n",
       "    }\n",
       "\n",
       "    .dataframe tbody tr th {\n",
       "        vertical-align: top;\n",
       "    }\n",
       "\n",
       "    .dataframe thead th {\n",
       "        text-align: right;\n",
       "    }\n",
       "</style>\n",
       "<table border=\"1\" class=\"dataframe\">\n",
       "  <thead>\n",
       "    <tr style=\"text-align: right;\">\n",
       "      <th></th>\n",
       "      <th>ds</th>\n",
       "      <th>COAST</th>\n",
       "      <th>EAST</th>\n",
       "      <th>FAR_WEST</th>\n",
       "      <th>NORTH</th>\n",
       "      <th>NORTH_C</th>\n",
       "      <th>SOUTHERN</th>\n",
       "      <th>SOUTH_C</th>\n",
       "      <th>WEST</th>\n",
       "    </tr>\n",
       "  </thead>\n",
       "  <tbody>\n",
       "    <tr>\n",
       "      <th>0</th>\n",
       "      <td>2004-01-01 01:00:00</td>\n",
       "      <td>7225.09</td>\n",
       "      <td>877.79</td>\n",
       "      <td>1044.89</td>\n",
       "      <td>745.79</td>\n",
       "      <td>7124.21</td>\n",
       "      <td>1660.45</td>\n",
       "      <td>3639.12</td>\n",
       "      <td>654.61</td>\n",
       "    </tr>\n",
       "    <tr>\n",
       "      <th>1</th>\n",
       "      <td>2004-01-01 02:00:00</td>\n",
       "      <td>6994.25</td>\n",
       "      <td>850.75</td>\n",
       "      <td>1032.04</td>\n",
       "      <td>721.34</td>\n",
       "      <td>6854.58</td>\n",
       "      <td>1603.52</td>\n",
       "      <td>3495.16</td>\n",
       "      <td>639.88</td>\n",
       "    </tr>\n",
       "    <tr>\n",
       "      <th>2</th>\n",
       "      <td>2004-01-01 03:00:00</td>\n",
       "      <td>6717.42</td>\n",
       "      <td>831.63</td>\n",
       "      <td>1021.10</td>\n",
       "      <td>699.70</td>\n",
       "      <td>6639.48</td>\n",
       "      <td>1527.99</td>\n",
       "      <td>3322.70</td>\n",
       "      <td>623.42</td>\n",
       "    </tr>\n",
       "    <tr>\n",
       "      <th>3</th>\n",
       "      <td>2004-01-01 04:00:00</td>\n",
       "      <td>6554.27</td>\n",
       "      <td>823.56</td>\n",
       "      <td>1015.41</td>\n",
       "      <td>691.84</td>\n",
       "      <td>6492.39</td>\n",
       "      <td>1473.89</td>\n",
       "      <td>3201.72</td>\n",
       "      <td>613.49</td>\n",
       "    </tr>\n",
       "    <tr>\n",
       "      <th>4</th>\n",
       "      <td>2004-01-01 05:00:00</td>\n",
       "      <td>6511.19</td>\n",
       "      <td>823.38</td>\n",
       "      <td>1009.74</td>\n",
       "      <td>686.76</td>\n",
       "      <td>6452.26</td>\n",
       "      <td>1462.76</td>\n",
       "      <td>3163.74</td>\n",
       "      <td>613.32</td>\n",
       "    </tr>\n",
       "    <tr>\n",
       "      <th>...</th>\n",
       "      <td>...</td>\n",
       "      <td>...</td>\n",
       "      <td>...</td>\n",
       "      <td>...</td>\n",
       "      <td>...</td>\n",
       "      <td>...</td>\n",
       "      <td>...</td>\n",
       "      <td>...</td>\n",
       "      <td>...</td>\n",
       "    </tr>\n",
       "    <tr>\n",
       "      <th>154849</th>\n",
       "      <td>2021-08-31 20:00:00</td>\n",
       "      <td>14477.26</td>\n",
       "      <td>1594.07</td>\n",
       "      <td>4307.99</td>\n",
       "      <td>832.71</td>\n",
       "      <td>13920.14</td>\n",
       "      <td>3666.45</td>\n",
       "      <td>7113.79</td>\n",
       "      <td>1150.02</td>\n",
       "    </tr>\n",
       "    <tr>\n",
       "      <th>154850</th>\n",
       "      <td>2021-08-31 21:00:00</td>\n",
       "      <td>14044.85</td>\n",
       "      <td>1565.64</td>\n",
       "      <td>4252.85</td>\n",
       "      <td>799.24</td>\n",
       "      <td>13308.33</td>\n",
       "      <td>3503.66</td>\n",
       "      <td>6805.93</td>\n",
       "      <td>1112.36</td>\n",
       "    </tr>\n",
       "    <tr>\n",
       "      <th>154851</th>\n",
       "      <td>2021-08-31 22:00:00</td>\n",
       "      <td>13796.10</td>\n",
       "      <td>1519.51</td>\n",
       "      <td>4213.14</td>\n",
       "      <td>777.39</td>\n",
       "      <td>12938.13</td>\n",
       "      <td>3396.58</td>\n",
       "      <td>6611.26</td>\n",
       "      <td>1086.27</td>\n",
       "    </tr>\n",
       "    <tr>\n",
       "      <th>154852</th>\n",
       "      <td>2021-08-31 23:00:00</td>\n",
       "      <td>13746.95</td>\n",
       "      <td>1498.90</td>\n",
       "      <td>4188.78</td>\n",
       "      <td>768.89</td>\n",
       "      <td>12876.06</td>\n",
       "      <td>3340.30</td>\n",
       "      <td>6589.14</td>\n",
       "      <td>1075.76</td>\n",
       "    </tr>\n",
       "    <tr>\n",
       "      <th>154853</th>\n",
       "      <td>2021-09-01 00:00:00</td>\n",
       "      <td>14035.90</td>\n",
       "      <td>1542.56</td>\n",
       "      <td>4216.02</td>\n",
       "      <td>787.35</td>\n",
       "      <td>13245.11</td>\n",
       "      <td>3387.29</td>\n",
       "      <td>6753.29</td>\n",
       "      <td>1090.01</td>\n",
       "    </tr>\n",
       "  </tbody>\n",
       "</table>\n",
       "<p>154854 rows × 9 columns</p>\n",
       "</div>"
      ],
      "text/plain": [
       "                        ds     COAST     EAST  FAR_WEST   NORTH   NORTH_C  \\\n",
       "0      2004-01-01 01:00:00   7225.09   877.79   1044.89  745.79   7124.21   \n",
       "1      2004-01-01 02:00:00   6994.25   850.75   1032.04  721.34   6854.58   \n",
       "2      2004-01-01 03:00:00   6717.42   831.63   1021.10  699.70   6639.48   \n",
       "3      2004-01-01 04:00:00   6554.27   823.56   1015.41  691.84   6492.39   \n",
       "4      2004-01-01 05:00:00   6511.19   823.38   1009.74  686.76   6452.26   \n",
       "...                    ...       ...      ...       ...     ...       ...   \n",
       "154849 2021-08-31 20:00:00  14477.26  1594.07   4307.99  832.71  13920.14   \n",
       "154850 2021-08-31 21:00:00  14044.85  1565.64   4252.85  799.24  13308.33   \n",
       "154851 2021-08-31 22:00:00  13796.10  1519.51   4213.14  777.39  12938.13   \n",
       "154852 2021-08-31 23:00:00  13746.95  1498.90   4188.78  768.89  12876.06   \n",
       "154853 2021-09-01 00:00:00  14035.90  1542.56   4216.02  787.35  13245.11   \n",
       "\n",
       "        SOUTHERN  SOUTH_C     WEST  \n",
       "0        1660.45  3639.12   654.61  \n",
       "1        1603.52  3495.16   639.88  \n",
       "2        1527.99  3322.70   623.42  \n",
       "3        1473.89  3201.72   613.49  \n",
       "4        1462.76  3163.74   613.32  \n",
       "...          ...      ...      ...  \n",
       "154849   3666.45  7113.79  1150.02  \n",
       "154850   3503.66  6805.93  1112.36  \n",
       "154851   3396.58  6611.26  1086.27  \n",
       "154852   3340.30  6589.14  1075.76  \n",
       "154853   3387.29  6753.29  1090.01  \n",
       "\n",
       "[154854 rows x 9 columns]"
      ]
     },
     "execution_count": 3,
     "metadata": {},
     "output_type": "execute_result"
    }
   ],
   "source": [
    "df_ercot = pd.read_csv(\"load_ercot_regions.csv\")\n",
    "df_ercot['ds']= pd.to_datetime(df_ercot['ds'])\n",
    "df_ercot"
   ]
  },
  {
   "cell_type": "code",
   "execution_count": 4,
   "id": "df471802",
   "metadata": {
    "ExecuteTime": {
     "end_time": "2022-08-22T03:15:32.292337Z",
     "start_time": "2022-08-22T03:15:32.252327Z"
    }
   },
   "outputs": [
    {
     "data": {
      "text/html": [
       "<div>\n",
       "<style scoped>\n",
       "    .dataframe tbody tr th:only-of-type {\n",
       "        vertical-align: middle;\n",
       "    }\n",
       "\n",
       "    .dataframe tbody tr th {\n",
       "        vertical-align: top;\n",
       "    }\n",
       "\n",
       "    .dataframe thead th {\n",
       "        text-align: right;\n",
       "    }\n",
       "</style>\n",
       "<table border=\"1\" class=\"dataframe\">\n",
       "  <thead>\n",
       "    <tr style=\"text-align: right;\">\n",
       "      <th></th>\n",
       "      <th>COAST</th>\n",
       "      <th>EAST</th>\n",
       "      <th>FAR_WEST</th>\n",
       "      <th>NORTH</th>\n",
       "      <th>NORTH_C</th>\n",
       "      <th>SOUTHERN</th>\n",
       "      <th>SOUTH_C</th>\n",
       "      <th>WEST</th>\n",
       "    </tr>\n",
       "    <tr>\n",
       "      <th>ds</th>\n",
       "      <th></th>\n",
       "      <th></th>\n",
       "      <th></th>\n",
       "      <th></th>\n",
       "      <th></th>\n",
       "      <th></th>\n",
       "      <th></th>\n",
       "      <th></th>\n",
       "    </tr>\n",
       "  </thead>\n",
       "  <tbody>\n",
       "    <tr>\n",
       "      <th>2004-01-01 01:00:00</th>\n",
       "      <td>7225.09</td>\n",
       "      <td>877.79</td>\n",
       "      <td>1044.89</td>\n",
       "      <td>745.79</td>\n",
       "      <td>7124.21</td>\n",
       "      <td>1660.45</td>\n",
       "      <td>3639.12</td>\n",
       "      <td>654.61</td>\n",
       "    </tr>\n",
       "    <tr>\n",
       "      <th>2004-01-01 02:00:00</th>\n",
       "      <td>6994.25</td>\n",
       "      <td>850.75</td>\n",
       "      <td>1032.04</td>\n",
       "      <td>721.34</td>\n",
       "      <td>6854.58</td>\n",
       "      <td>1603.52</td>\n",
       "      <td>3495.16</td>\n",
       "      <td>639.88</td>\n",
       "    </tr>\n",
       "    <tr>\n",
       "      <th>2004-01-01 03:00:00</th>\n",
       "      <td>6717.42</td>\n",
       "      <td>831.63</td>\n",
       "      <td>1021.10</td>\n",
       "      <td>699.70</td>\n",
       "      <td>6639.48</td>\n",
       "      <td>1527.99</td>\n",
       "      <td>3322.70</td>\n",
       "      <td>623.42</td>\n",
       "    </tr>\n",
       "    <tr>\n",
       "      <th>2004-01-01 04:00:00</th>\n",
       "      <td>6554.27</td>\n",
       "      <td>823.56</td>\n",
       "      <td>1015.41</td>\n",
       "      <td>691.84</td>\n",
       "      <td>6492.39</td>\n",
       "      <td>1473.89</td>\n",
       "      <td>3201.72</td>\n",
       "      <td>613.49</td>\n",
       "    </tr>\n",
       "    <tr>\n",
       "      <th>2004-01-01 05:00:00</th>\n",
       "      <td>6511.19</td>\n",
       "      <td>823.38</td>\n",
       "      <td>1009.74</td>\n",
       "      <td>686.76</td>\n",
       "      <td>6452.26</td>\n",
       "      <td>1462.76</td>\n",
       "      <td>3163.74</td>\n",
       "      <td>613.32</td>\n",
       "    </tr>\n",
       "    <tr>\n",
       "      <th>...</th>\n",
       "      <td>...</td>\n",
       "      <td>...</td>\n",
       "      <td>...</td>\n",
       "      <td>...</td>\n",
       "      <td>...</td>\n",
       "      <td>...</td>\n",
       "      <td>...</td>\n",
       "      <td>...</td>\n",
       "    </tr>\n",
       "    <tr>\n",
       "      <th>2021-08-31 20:00:00</th>\n",
       "      <td>14477.26</td>\n",
       "      <td>1594.07</td>\n",
       "      <td>4307.99</td>\n",
       "      <td>832.71</td>\n",
       "      <td>13920.14</td>\n",
       "      <td>3666.45</td>\n",
       "      <td>7113.79</td>\n",
       "      <td>1150.02</td>\n",
       "    </tr>\n",
       "    <tr>\n",
       "      <th>2021-08-31 21:00:00</th>\n",
       "      <td>14044.85</td>\n",
       "      <td>1565.64</td>\n",
       "      <td>4252.85</td>\n",
       "      <td>799.24</td>\n",
       "      <td>13308.33</td>\n",
       "      <td>3503.66</td>\n",
       "      <td>6805.93</td>\n",
       "      <td>1112.36</td>\n",
       "    </tr>\n",
       "    <tr>\n",
       "      <th>2021-08-31 22:00:00</th>\n",
       "      <td>13796.10</td>\n",
       "      <td>1519.51</td>\n",
       "      <td>4213.14</td>\n",
       "      <td>777.39</td>\n",
       "      <td>12938.13</td>\n",
       "      <td>3396.58</td>\n",
       "      <td>6611.26</td>\n",
       "      <td>1086.27</td>\n",
       "    </tr>\n",
       "    <tr>\n",
       "      <th>2021-08-31 23:00:00</th>\n",
       "      <td>13746.95</td>\n",
       "      <td>1498.90</td>\n",
       "      <td>4188.78</td>\n",
       "      <td>768.89</td>\n",
       "      <td>12876.06</td>\n",
       "      <td>3340.30</td>\n",
       "      <td>6589.14</td>\n",
       "      <td>1075.76</td>\n",
       "    </tr>\n",
       "    <tr>\n",
       "      <th>2021-09-01 00:00:00</th>\n",
       "      <td>14035.90</td>\n",
       "      <td>1542.56</td>\n",
       "      <td>4216.02</td>\n",
       "      <td>787.35</td>\n",
       "      <td>13245.11</td>\n",
       "      <td>3387.29</td>\n",
       "      <td>6753.29</td>\n",
       "      <td>1090.01</td>\n",
       "    </tr>\n",
       "  </tbody>\n",
       "</table>\n",
       "<p>154872 rows × 8 columns</p>\n",
       "</div>"
      ],
      "text/plain": [
       "                        COAST     EAST  FAR_WEST   NORTH   NORTH_C  SOUTHERN  \\\n",
       "ds                                                                             \n",
       "2004-01-01 01:00:00   7225.09   877.79   1044.89  745.79   7124.21   1660.45   \n",
       "2004-01-01 02:00:00   6994.25   850.75   1032.04  721.34   6854.58   1603.52   \n",
       "2004-01-01 03:00:00   6717.42   831.63   1021.10  699.70   6639.48   1527.99   \n",
       "2004-01-01 04:00:00   6554.27   823.56   1015.41  691.84   6492.39   1473.89   \n",
       "2004-01-01 05:00:00   6511.19   823.38   1009.74  686.76   6452.26   1462.76   \n",
       "...                       ...      ...       ...     ...       ...       ...   \n",
       "2021-08-31 20:00:00  14477.26  1594.07   4307.99  832.71  13920.14   3666.45   \n",
       "2021-08-31 21:00:00  14044.85  1565.64   4252.85  799.24  13308.33   3503.66   \n",
       "2021-08-31 22:00:00  13796.10  1519.51   4213.14  777.39  12938.13   3396.58   \n",
       "2021-08-31 23:00:00  13746.95  1498.90   4188.78  768.89  12876.06   3340.30   \n",
       "2021-09-01 00:00:00  14035.90  1542.56   4216.02  787.35  13245.11   3387.29   \n",
       "\n",
       "                     SOUTH_C     WEST  \n",
       "ds                                     \n",
       "2004-01-01 01:00:00  3639.12   654.61  \n",
       "2004-01-01 02:00:00  3495.16   639.88  \n",
       "2004-01-01 03:00:00  3322.70   623.42  \n",
       "2004-01-01 04:00:00  3201.72   613.49  \n",
       "2004-01-01 05:00:00  3163.74   613.32  \n",
       "...                      ...      ...  \n",
       "2021-08-31 20:00:00  7113.79  1150.02  \n",
       "2021-08-31 21:00:00  6805.93  1112.36  \n",
       "2021-08-31 22:00:00  6611.26  1086.27  \n",
       "2021-08-31 23:00:00  6589.14  1075.76  \n",
       "2021-09-01 00:00:00  6753.29  1090.01  \n",
       "\n",
       "[154872 rows x 8 columns]"
      ]
     },
     "execution_count": 4,
     "metadata": {},
     "output_type": "execute_result"
    }
   ],
   "source": [
    "df_ercot.set_index('ds',inplace=True)\n",
    "df_ercot=df_ercot.asfreq('1H')\n",
    "df_ercot"
   ]
  },
  {
   "cell_type": "code",
   "execution_count": 5,
   "id": "2696a8cf",
   "metadata": {
    "ExecuteTime": {
     "end_time": "2022-08-22T03:15:34.435411Z",
     "start_time": "2022-08-22T03:15:34.322363Z"
    }
   },
   "outputs": [],
   "source": [
    "n_unit_size = 24\n",
    "n_input_chunk = n_unit_size*18\n",
    "n_output_chunk = n_unit_size*1\n",
    "n_valid =  n_unit_size*60\n",
    "n_test = n_unit_size*60\n",
    "valid_iloc =n_input_chunk+n_valid+n_test\n",
    "test_iloc = n_input_chunk+n_test\n",
    "\n",
    "train_ts_list = [TimeSeries.from_series(df_ercot[col].iloc[:-valid_iloc],\n",
    "                                        fill_missing_dates=False,fillna_value=0) for col in df_ercot.columns]\n",
    "valid_ts_list = [TimeSeries.from_series(df_ercot[col].iloc[-valid_iloc:-test_iloc],\n",
    "                                        fill_missing_dates=False,fillna_value=0) for col in df_ercot.columns]\n",
    "test_ts_list = [TimeSeries.from_series(df_ercot[col].iloc[-test_iloc:],\n",
    "                                       fill_missing_dates=False,fillna_value=0) for col in df_ercot.columns]"
   ]
  },
  {
   "cell_type": "markdown",
   "id": "3564bd73",
   "metadata": {},
   "source": [
    "## 对不同地区进行建模"
   ]
  },
  {
   "cell_type": "code",
   "execution_count": 6,
   "id": "215fe7d3",
   "metadata": {
    "ExecuteTime": {
     "end_time": "2022-08-22T03:15:38.395370Z",
     "start_time": "2022-08-22T03:15:38.305127Z"
    }
   },
   "outputs": [],
   "source": [
    "diqu = 7\n",
    "\n",
    "scaler = MinMaxScaler()\n",
    "scaler_list = [Scaler(scaler) for col in df_ercot.columns]\n",
    "train_ts_list_scaled = [s.fit_transform(t) for s,t in zip(scaler_list,train_ts_list)]\n",
    "valid_ts_list_scaled = [s.transform(v) for s,v in zip(scaler_list,valid_ts_list)]\n",
    "test_ts_list_scaled = [s.transform(v) for s,v in zip(scaler_list,test_ts_list)]\n",
    "\n",
    "\n",
    "train_ts_list_scaled = train_ts_list_scaled[diqu]\n",
    "valid_ts_list_scaled = valid_ts_list_scaled[diqu]\n",
    "test_ts_list_scaled = test_ts_list_scaled[diqu]"
   ]
  },
  {
   "cell_type": "code",
   "execution_count": 7,
   "id": "be37eae9",
   "metadata": {
    "ExecuteTime": {
     "end_time": "2022-08-22T03:15:40.974131Z",
     "start_time": "2022-08-22T03:15:40.966127Z"
    }
   },
   "outputs": [],
   "source": [
    "# train_ts_list_scaled"
   ]
  },
  {
   "cell_type": "markdown",
   "id": "bf6b2050",
   "metadata": {},
   "source": [
    "## 开始建模"
   ]
  },
  {
   "cell_type": "code",
   "execution_count": 8,
   "id": "0502e4b5",
   "metadata": {
    "ExecuteTime": {
     "end_time": "2022-08-22T03:15:43.000642Z",
     "start_time": "2022-08-22T03:15:42.946286Z"
    }
   },
   "outputs": [],
   "source": [
    "my_stopper = EarlyStopping(\n",
    "        monitor=\"val_loss\",\n",
    "        patience=10,\n",
    "        min_delta=0.005,\n",
    "        mode='min',   # the my_stopper mu3st be put inside the loop\n",
    "    )\n",
    "pl_trainer_kwargs={\n",
    "     \"accelerator\": \"gpu\",\n",
    "      \"gpus\": 1,\n",
    "   \"callbacks\": [my_stopper],\n",
    "    'enable_model_summary':True,\n",
    "\n",
    "    }\n",
    "\n",
    "optimizer_kwargs = {'lr': 1e-3},\n",
    "\n",
    "model = TCNModel(\n",
    "            kernel_size  = 3,dilation_base=2,num_filters=4,dropout=0.1,\n",
    "                              pl_trainer_kwargs=pl_trainer_kwargs,force_reset=True,\\\n",
    "                            input_chunk_length=n_input_chunk, output_chunk_length=n_output_chunk,model_name='TCN',\n",
    "                            log_tensorboard=True,random_state=21,nr_epochs_val_period=1,batch_size=24*5,save_checkpoints=True)"
   ]
  },
  {
   "cell_type": "code",
   "execution_count": 9,
   "id": "37db96d0",
   "metadata": {
    "ExecuteTime": {
     "end_time": "2022-08-22T03:15:57.106076Z",
     "start_time": "2022-08-22T03:15:57.077063Z"
    }
   },
   "outputs": [
    {
     "data": {
      "text/html": [
       "<div><svg style=\"position: absolute; width: 0; height: 0; overflow: hidden\">\n",
       "<defs>\n",
       "<symbol id=\"icon-database\" viewBox=\"0 0 32 32\">\n",
       "<path d=\"M16 0c-8.837 0-16 2.239-16 5v4c0 2.761 7.163 5 16 5s16-2.239 16-5v-4c0-2.761-7.163-5-16-5z\"></path>\n",
       "<path d=\"M16 17c-8.837 0-16-2.239-16-5v6c0 2.761 7.163 5 16 5s16-2.239 16-5v-6c0 2.761-7.163 5-16 5z\"></path>\n",
       "<path d=\"M16 26c-8.837 0-16-2.239-16-5v6c0 2.761 7.163 5 16 5s16-2.239 16-5v-6c0 2.761-7.163 5-16 5z\"></path>\n",
       "</symbol>\n",
       "<symbol id=\"icon-file-text2\" viewBox=\"0 0 32 32\">\n",
       "<path d=\"M28.681 7.159c-0.694-0.947-1.662-2.053-2.724-3.116s-2.169-2.030-3.116-2.724c-1.612-1.182-2.393-1.319-2.841-1.319h-15.5c-1.378 0-2.5 1.121-2.5 2.5v27c0 1.378 1.122 2.5 2.5 2.5h23c1.378 0 2.5-1.122 2.5-2.5v-19.5c0-0.448-0.137-1.23-1.319-2.841zM24.543 5.457c0.959 0.959 1.712 1.825 2.268 2.543h-4.811v-4.811c0.718 0.556 1.584 1.309 2.543 2.268zM28 29.5c0 0.271-0.229 0.5-0.5 0.5h-23c-0.271 0-0.5-0.229-0.5-0.5v-27c0-0.271 0.229-0.5 0.5-0.5 0 0 15.499-0 15.5 0v7c0 0.552 0.448 1 1 1h7v19.5z\"></path>\n",
       "<path d=\"M23 26h-14c-0.552 0-1-0.448-1-1s0.448-1 1-1h14c0.552 0 1 0.448 1 1s-0.448 1-1 1z\"></path>\n",
       "<path d=\"M23 22h-14c-0.552 0-1-0.448-1-1s0.448-1 1-1h14c0.552 0 1 0.448 1 1s-0.448 1-1 1z\"></path>\n",
       "<path d=\"M23 18h-14c-0.552 0-1-0.448-1-1s0.448-1 1-1h14c0.552 0 1 0.448 1 1s-0.448 1-1 1z\"></path>\n",
       "</symbol>\n",
       "</defs>\n",
       "</svg>\n",
       "<style>/* CSS stylesheet for displaying xarray objects in jupyterlab.\n",
       " *\n",
       " */\n",
       "\n",
       ":root {\n",
       "  --xr-font-color0: var(--jp-content-font-color0, rgba(0, 0, 0, 1));\n",
       "  --xr-font-color2: var(--jp-content-font-color2, rgba(0, 0, 0, 0.54));\n",
       "  --xr-font-color3: var(--jp-content-font-color3, rgba(0, 0, 0, 0.38));\n",
       "  --xr-border-color: var(--jp-border-color2, #e0e0e0);\n",
       "  --xr-disabled-color: var(--jp-layout-color3, #bdbdbd);\n",
       "  --xr-background-color: var(--jp-layout-color0, white);\n",
       "  --xr-background-color-row-even: var(--jp-layout-color1, white);\n",
       "  --xr-background-color-row-odd: var(--jp-layout-color2, #eeeeee);\n",
       "}\n",
       "\n",
       "html[theme=dark],\n",
       "body.vscode-dark {\n",
       "  --xr-font-color0: rgba(255, 255, 255, 1);\n",
       "  --xr-font-color2: rgba(255, 255, 255, 0.54);\n",
       "  --xr-font-color3: rgba(255, 255, 255, 0.38);\n",
       "  --xr-border-color: #1F1F1F;\n",
       "  --xr-disabled-color: #515151;\n",
       "  --xr-background-color: #111111;\n",
       "  --xr-background-color-row-even: #111111;\n",
       "  --xr-background-color-row-odd: #313131;\n",
       "}\n",
       "\n",
       ".xr-wrap {\n",
       "  display: block;\n",
       "  min-width: 300px;\n",
       "  max-width: 700px;\n",
       "}\n",
       "\n",
       ".xr-text-repr-fallback {\n",
       "  /* fallback to plain text repr when CSS is not injected (untrusted notebook) */\n",
       "  display: none;\n",
       "}\n",
       "\n",
       ".xr-header {\n",
       "  padding-top: 6px;\n",
       "  padding-bottom: 6px;\n",
       "  margin-bottom: 4px;\n",
       "  border-bottom: solid 1px var(--xr-border-color);\n",
       "}\n",
       "\n",
       ".xr-header > div,\n",
       ".xr-header > ul {\n",
       "  display: inline;\n",
       "  margin-top: 0;\n",
       "  margin-bottom: 0;\n",
       "}\n",
       "\n",
       ".xr-obj-type,\n",
       ".xr-array-name {\n",
       "  margin-left: 2px;\n",
       "  margin-right: 10px;\n",
       "}\n",
       "\n",
       ".xr-obj-type {\n",
       "  color: var(--xr-font-color2);\n",
       "}\n",
       "\n",
       ".xr-sections {\n",
       "  padding-left: 0 !important;\n",
       "  display: grid;\n",
       "  grid-template-columns: 150px auto auto 1fr 20px 20px;\n",
       "}\n",
       "\n",
       ".xr-section-item {\n",
       "  display: contents;\n",
       "}\n",
       "\n",
       ".xr-section-item input {\n",
       "  display: none;\n",
       "}\n",
       "\n",
       ".xr-section-item input + label {\n",
       "  color: var(--xr-disabled-color);\n",
       "}\n",
       "\n",
       ".xr-section-item input:enabled + label {\n",
       "  cursor: pointer;\n",
       "  color: var(--xr-font-color2);\n",
       "}\n",
       "\n",
       ".xr-section-item input:enabled + label:hover {\n",
       "  color: var(--xr-font-color0);\n",
       "}\n",
       "\n",
       ".xr-section-summary {\n",
       "  grid-column: 1;\n",
       "  color: var(--xr-font-color2);\n",
       "  font-weight: 500;\n",
       "}\n",
       "\n",
       ".xr-section-summary > span {\n",
       "  display: inline-block;\n",
       "  padding-left: 0.5em;\n",
       "}\n",
       "\n",
       ".xr-section-summary-in:disabled + label {\n",
       "  color: var(--xr-font-color2);\n",
       "}\n",
       "\n",
       ".xr-section-summary-in + label:before {\n",
       "  display: inline-block;\n",
       "  content: '►';\n",
       "  font-size: 11px;\n",
       "  width: 15px;\n",
       "  text-align: center;\n",
       "}\n",
       "\n",
       ".xr-section-summary-in:disabled + label:before {\n",
       "  color: var(--xr-disabled-color);\n",
       "}\n",
       "\n",
       ".xr-section-summary-in:checked + label:before {\n",
       "  content: '▼';\n",
       "}\n",
       "\n",
       ".xr-section-summary-in:checked + label > span {\n",
       "  display: none;\n",
       "}\n",
       "\n",
       ".xr-section-summary,\n",
       ".xr-section-inline-details {\n",
       "  padding-top: 4px;\n",
       "  padding-bottom: 4px;\n",
       "}\n",
       "\n",
       ".xr-section-inline-details {\n",
       "  grid-column: 2 / -1;\n",
       "}\n",
       "\n",
       ".xr-section-details {\n",
       "  display: none;\n",
       "  grid-column: 1 / -1;\n",
       "  margin-bottom: 5px;\n",
       "}\n",
       "\n",
       ".xr-section-summary-in:checked ~ .xr-section-details {\n",
       "  display: contents;\n",
       "}\n",
       "\n",
       ".xr-array-wrap {\n",
       "  grid-column: 1 / -1;\n",
       "  display: grid;\n",
       "  grid-template-columns: 20px auto;\n",
       "}\n",
       "\n",
       ".xr-array-wrap > label {\n",
       "  grid-column: 1;\n",
       "  vertical-align: top;\n",
       "}\n",
       "\n",
       ".xr-preview {\n",
       "  color: var(--xr-font-color3);\n",
       "}\n",
       "\n",
       ".xr-array-preview,\n",
       ".xr-array-data {\n",
       "  padding: 0 5px !important;\n",
       "  grid-column: 2;\n",
       "}\n",
       "\n",
       ".xr-array-data,\n",
       ".xr-array-in:checked ~ .xr-array-preview {\n",
       "  display: none;\n",
       "}\n",
       "\n",
       ".xr-array-in:checked ~ .xr-array-data,\n",
       ".xr-array-preview {\n",
       "  display: inline-block;\n",
       "}\n",
       "\n",
       ".xr-dim-list {\n",
       "  display: inline-block !important;\n",
       "  list-style: none;\n",
       "  padding: 0 !important;\n",
       "  margin: 0;\n",
       "}\n",
       "\n",
       ".xr-dim-list li {\n",
       "  display: inline-block;\n",
       "  padding: 0;\n",
       "  margin: 0;\n",
       "}\n",
       "\n",
       ".xr-dim-list:before {\n",
       "  content: '(';\n",
       "}\n",
       "\n",
       ".xr-dim-list:after {\n",
       "  content: ')';\n",
       "}\n",
       "\n",
       ".xr-dim-list li:not(:last-child):after {\n",
       "  content: ',';\n",
       "  padding-right: 5px;\n",
       "}\n",
       "\n",
       ".xr-has-index {\n",
       "  font-weight: bold;\n",
       "}\n",
       "\n",
       ".xr-var-list,\n",
       ".xr-var-item {\n",
       "  display: contents;\n",
       "}\n",
       "\n",
       ".xr-var-item > div,\n",
       ".xr-var-item label,\n",
       ".xr-var-item > .xr-var-name span {\n",
       "  background-color: var(--xr-background-color-row-even);\n",
       "  margin-bottom: 0;\n",
       "}\n",
       "\n",
       ".xr-var-item > .xr-var-name:hover span {\n",
       "  padding-right: 5px;\n",
       "}\n",
       "\n",
       ".xr-var-list > li:nth-child(odd) > div,\n",
       ".xr-var-list > li:nth-child(odd) > label,\n",
       ".xr-var-list > li:nth-child(odd) > .xr-var-name span {\n",
       "  background-color: var(--xr-background-color-row-odd);\n",
       "}\n",
       "\n",
       ".xr-var-name {\n",
       "  grid-column: 1;\n",
       "}\n",
       "\n",
       ".xr-var-dims {\n",
       "  grid-column: 2;\n",
       "}\n",
       "\n",
       ".xr-var-dtype {\n",
       "  grid-column: 3;\n",
       "  text-align: right;\n",
       "  color: var(--xr-font-color2);\n",
       "}\n",
       "\n",
       ".xr-var-preview {\n",
       "  grid-column: 4;\n",
       "}\n",
       "\n",
       ".xr-var-name,\n",
       ".xr-var-dims,\n",
       ".xr-var-dtype,\n",
       ".xr-preview,\n",
       ".xr-attrs dt {\n",
       "  white-space: nowrap;\n",
       "  overflow: hidden;\n",
       "  text-overflow: ellipsis;\n",
       "  padding-right: 10px;\n",
       "}\n",
       "\n",
       ".xr-var-name:hover,\n",
       ".xr-var-dims:hover,\n",
       ".xr-var-dtype:hover,\n",
       ".xr-attrs dt:hover {\n",
       "  overflow: visible;\n",
       "  width: auto;\n",
       "  z-index: 1;\n",
       "}\n",
       "\n",
       ".xr-var-attrs,\n",
       ".xr-var-data {\n",
       "  display: none;\n",
       "  background-color: var(--xr-background-color) !important;\n",
       "  padding-bottom: 5px !important;\n",
       "}\n",
       "\n",
       ".xr-var-attrs-in:checked ~ .xr-var-attrs,\n",
       ".xr-var-data-in:checked ~ .xr-var-data {\n",
       "  display: block;\n",
       "}\n",
       "\n",
       ".xr-var-data > table {\n",
       "  float: right;\n",
       "}\n",
       "\n",
       ".xr-var-name span,\n",
       ".xr-var-data,\n",
       ".xr-attrs {\n",
       "  padding-left: 25px !important;\n",
       "}\n",
       "\n",
       ".xr-attrs,\n",
       ".xr-var-attrs,\n",
       ".xr-var-data {\n",
       "  grid-column: 1 / -1;\n",
       "}\n",
       "\n",
       "dl.xr-attrs {\n",
       "  padding: 0;\n",
       "  margin: 0;\n",
       "  display: grid;\n",
       "  grid-template-columns: 125px auto;\n",
       "}\n",
       "\n",
       ".xr-attrs dt,\n",
       ".xr-attrs dd {\n",
       "  padding: 0;\n",
       "  margin: 0;\n",
       "  float: left;\n",
       "  padding-right: 10px;\n",
       "  width: auto;\n",
       "}\n",
       "\n",
       ".xr-attrs dt {\n",
       "  font-weight: normal;\n",
       "  grid-column: 1;\n",
       "}\n",
       "\n",
       ".xr-attrs dt:hover span {\n",
       "  display: inline-block;\n",
       "  background: var(--xr-background-color);\n",
       "  padding-right: 10px;\n",
       "}\n",
       "\n",
       ".xr-attrs dd {\n",
       "  grid-column: 2;\n",
       "  white-space: pre-wrap;\n",
       "  word-break: break-all;\n",
       "}\n",
       "\n",
       ".xr-icon-database,\n",
       ".xr-icon-file-text2 {\n",
       "  display: inline-block;\n",
       "  vertical-align: middle;\n",
       "  width: 1em;\n",
       "  height: 1.5em !important;\n",
       "  stroke-width: 0;\n",
       "  stroke: currentColor;\n",
       "  fill: currentColor;\n",
       "}\n",
       "</style><pre class='xr-text-repr-fallback'>&lt;TimeSeries (DataArray) (ds: 151560, component: 1, sample: 1)&gt;\n",
       "array([[[0.30915746]],\n",
       "\n",
       "       [[0.30220081]],\n",
       "\n",
       "       [[0.29442713]],\n",
       "\n",
       "       ...,\n",
       "\n",
       "       [[0.41289789]],\n",
       "\n",
       "       [[0.41803627]],\n",
       "\n",
       "       [[0.43280438]]])\n",
       "Coordinates:\n",
       "  * ds         (ds) datetime64[ns] 2004-01-01T01:00:00 ... 2021-04-16\n",
       "  * component  (component) object &#x27;WEST&#x27;\n",
       "Dimensions without coordinates: sample</pre><div class='xr-wrap' hidden><div class='xr-header'><div class='xr-obj-type'>TimeSeries (DataArray)</div><div class='xr-array-name'></div><ul class='xr-dim-list'><li><span class='xr-has-index'>ds</span>: 151560</li><li><span class='xr-has-index'>component</span>: 1</li><li><span>sample</span>: 1</li></ul></div><ul class='xr-sections'><li class='xr-section-item'><div class='xr-array-wrap'><input id='section-5a8708ee-5d20-4ed1-96c2-9f6b721354ad' class='xr-array-in' type='checkbox' checked><label for='section-5a8708ee-5d20-4ed1-96c2-9f6b721354ad' title='Show/hide data repr'><svg class='icon xr-icon-database'><use xlink:href='#icon-database'></use></svg></label><div class='xr-array-preview xr-preview'><span>0.3092 0.3022 0.2944 0.2897 0.2897 ... 0.4096 0.4129 0.418 0.4328</span></div><div class='xr-array-data'><pre>array([[[0.30915746]],\n",
       "\n",
       "       [[0.30220081]],\n",
       "\n",
       "       [[0.29442713]],\n",
       "\n",
       "       ...,\n",
       "\n",
       "       [[0.41289789]],\n",
       "\n",
       "       [[0.41803627]],\n",
       "\n",
       "       [[0.43280438]]])</pre></div></div></li><li class='xr-section-item'><input id='section-c401885a-62a9-464b-9d31-fa423bd8a262' class='xr-section-summary-in' type='checkbox'  checked><label for='section-c401885a-62a9-464b-9d31-fa423bd8a262' class='xr-section-summary' >Coordinates: <span>(2)</span></label><div class='xr-section-inline-details'></div><div class='xr-section-details'><ul class='xr-var-list'><li class='xr-var-item'><div class='xr-var-name'><span class='xr-has-index'>ds</span></div><div class='xr-var-dims'>(ds)</div><div class='xr-var-dtype'>datetime64[ns]</div><div class='xr-var-preview xr-preview'>2004-01-01T01:00:00 ... 2021-04-16</div><input id='attrs-c8ca274e-215d-482e-9a44-9417d1a278fa' class='xr-var-attrs-in' type='checkbox' disabled><label for='attrs-c8ca274e-215d-482e-9a44-9417d1a278fa' title='Show/Hide attributes'><svg class='icon xr-icon-file-text2'><use xlink:href='#icon-file-text2'></use></svg></label><input id='data-d24ca097-ef13-409f-8bf1-20e3a593f45f' class='xr-var-data-in' type='checkbox'><label for='data-d24ca097-ef13-409f-8bf1-20e3a593f45f' title='Show/Hide data repr'><svg class='icon xr-icon-database'><use xlink:href='#icon-database'></use></svg></label><div class='xr-var-attrs'><dl class='xr-attrs'></dl></div><div class='xr-var-data'><pre>array([&#x27;2004-01-01T01:00:00.000000000&#x27;, &#x27;2004-01-01T02:00:00.000000000&#x27;,\n",
       "       &#x27;2004-01-01T03:00:00.000000000&#x27;, ..., &#x27;2021-04-15T22:00:00.000000000&#x27;,\n",
       "       &#x27;2021-04-15T23:00:00.000000000&#x27;, &#x27;2021-04-16T00:00:00.000000000&#x27;],\n",
       "      dtype=&#x27;datetime64[ns]&#x27;)</pre></div></li><li class='xr-var-item'><div class='xr-var-name'><span class='xr-has-index'>component</span></div><div class='xr-var-dims'>(component)</div><div class='xr-var-dtype'>object</div><div class='xr-var-preview xr-preview'>&#x27;WEST&#x27;</div><input id='attrs-388d5d2e-c22a-4ab2-ac86-d7d6f079e9f1' class='xr-var-attrs-in' type='checkbox' disabled><label for='attrs-388d5d2e-c22a-4ab2-ac86-d7d6f079e9f1' title='Show/Hide attributes'><svg class='icon xr-icon-file-text2'><use xlink:href='#icon-file-text2'></use></svg></label><input id='data-d0b1e7fb-1c07-4978-a5c5-5eed1d2bcf0d' class='xr-var-data-in' type='checkbox'><label for='data-d0b1e7fb-1c07-4978-a5c5-5eed1d2bcf0d' title='Show/Hide data repr'><svg class='icon xr-icon-database'><use xlink:href='#icon-database'></use></svg></label><div class='xr-var-attrs'><dl class='xr-attrs'></dl></div><div class='xr-var-data'><pre>array([&#x27;WEST&#x27;], dtype=object)</pre></div></li></ul></div></li><li class='xr-section-item'><input id='section-b64ba0da-9a62-4815-8755-c58073000c7c' class='xr-section-summary-in' type='checkbox' disabled ><label for='section-b64ba0da-9a62-4815-8755-c58073000c7c' class='xr-section-summary'  title='Expand/collapse section'>Attributes: <span>(0)</span></label><div class='xr-section-inline-details'></div><div class='xr-section-details'><dl class='xr-attrs'></dl></div></li></ul></div></div>"
      ],
      "text/plain": [
       "<TimeSeries (DataArray) (ds: 151560, component: 1, sample: 1)>\n",
       "array([[[0.30915746]],\n",
       "\n",
       "       [[0.30220081]],\n",
       "\n",
       "       [[0.29442713]],\n",
       "\n",
       "       ...,\n",
       "\n",
       "       [[0.41289789]],\n",
       "\n",
       "       [[0.41803627]],\n",
       "\n",
       "       [[0.43280438]]])\n",
       "Coordinates:\n",
       "  * ds         (ds) datetime64[ns] 2004-01-01T01:00:00 ... 2021-04-16\n",
       "  * component  (component) object 'WEST'\n",
       "Dimensions without coordinates: sample"
      ]
     },
     "execution_count": 9,
     "metadata": {},
     "output_type": "execute_result"
    }
   ],
   "source": [
    "train_ts_list_scaled"
   ]
  },
  {
   "cell_type": "code",
   "execution_count": 9,
   "id": "abe2adbc",
   "metadata": {
    "ExecuteTime": {
     "end_time": "2022-05-23T09:50:57.615056Z",
     "start_time": "2022-05-23T09:49:56.097683Z"
    }
   },
   "outputs": [
    {
     "name": "stderr",
     "output_type": "stream",
     "text": [
      "[2022-05-23 17:49:56,099] INFO | darts.models.forecasting.torch_forecasting_model | Train dataset contains 151105 samples.\n",
      "[2022-05-23 17:49:56,099] INFO | darts.models.forecasting.torch_forecasting_model | Train dataset contains 151105 samples.\n",
      "2022-05-23 17:49:56 darts.models.forecasting.torch_forecasting_model INFO: Train dataset contains 151105 samples.\n",
      "[2022-05-23 17:49:56,102] INFO | darts.models.forecasting.tcn_model | Number of layers chosen: 7\n",
      "[2022-05-23 17:49:56,102] INFO | darts.models.forecasting.tcn_model | Number of layers chosen: 7\n",
      "2022-05-23 17:49:56 darts.models.forecasting.tcn_model INFO: Number of layers chosen: 7\n",
      "[2022-05-23 17:49:56,106] INFO | darts.models.forecasting.torch_forecasting_model | Time series values are 64-bits; casting model to float64.\n",
      "[2022-05-23 17:49:56,106] INFO | darts.models.forecasting.torch_forecasting_model | Time series values are 64-bits; casting model to float64.\n",
      "2022-05-23 17:49:56 darts.models.forecasting.torch_forecasting_model INFO: Time series values are 64-bits; casting model to float64.\n",
      "[2022-05-23 17:49:56,141] WARNING | darts.models.forecasting.torch_forecasting_model | DeprecationWarning: kwarg `verbose` is deprecated and will be removed in a future Darts version. Instead, control verbosity with PyTorch Lightning Trainer parameters `enable_progress_bar`, `progress_bar_refresh_rate` and `enable_model_summary` in the `pl_trainer_kwargs` dict at model creation.\n",
      "[2022-05-23 17:49:56,141] WARNING | darts.models.forecasting.torch_forecasting_model | DeprecationWarning: kwarg `verbose` is deprecated and will be removed in a future Darts version. Instead, control verbosity with PyTorch Lightning Trainer parameters `enable_progress_bar`, `progress_bar_refresh_rate` and `enable_model_summary` in the `pl_trainer_kwargs` dict at model creation.\n",
      "2022-05-23 17:49:56 darts.models.forecasting.torch_forecasting_model WARNING: DeprecationWarning: kwarg `verbose` is deprecated and will be removed in a future Darts version. Instead, control verbosity with PyTorch Lightning Trainer parameters `enable_progress_bar`, `progress_bar_refresh_rate` and `enable_model_summary` in the `pl_trainer_kwargs` dict at model creation.\n",
      "GPU available: True, used: True\n",
      "TPU available: False, using: 0 TPU cores\n",
      "IPU available: False, using: 0 IPUs\n",
      "HPU available: False, using: 0 HPUs\n",
      "LOCAL_RANK: 0 - CUDA_VISIBLE_DEVICES: [0]\n",
      "\n",
      "  | Name       | Type       | Params\n",
      "------------------------------------------\n",
      "0 | criterion  | MSELoss    | 0     \n",
      "1 | dropout    | Dropout    | 0     \n",
      "2 | res_blocks | ModuleList | 666   \n",
      "------------------------------------------\n",
      "666       Trainable params\n",
      "0         Non-trainable params\n",
      "666       Total params\n",
      "0.005     Total estimated model params size (MB)\n"
     ]
    },
    {
     "data": {
      "application/vnd.jupyter.widget-view+json": {
       "model_id": "",
       "version_major": 2,
       "version_minor": 0
      },
      "text/plain": [
       "Sanity Checking: 0it [00:00, ?it/s]"
      ]
     },
     "metadata": {},
     "output_type": "display_data"
    },
    {
     "data": {
      "application/vnd.jupyter.widget-view+json": {
       "model_id": "814e76fdc7c14f5f8234e350e3fa22d2",
       "version_major": 2,
       "version_minor": 0
      },
      "text/plain": [
       "Training: 0it [00:00, ?it/s]"
      ]
     },
     "metadata": {},
     "output_type": "display_data"
    },
    {
     "data": {
      "application/vnd.jupyter.widget-view+json": {
       "model_id": "",
       "version_major": 2,
       "version_minor": 0
      },
      "text/plain": [
       "Validation: 0it [00:00, ?it/s]"
      ]
     },
     "metadata": {},
     "output_type": "display_data"
    },
    {
     "data": {
      "text/plain": [
       "<darts.models.forecasting.tcn_model.TCNModel at 0x1600b569850>"
      ]
     },
     "execution_count": 9,
     "metadata": {},
     "output_type": "execute_result"
    }
   ],
   "source": [
    "model.fit(train_ts_list_scaled,val_series=valid_ts_list_scaled,verbose=True,epochs=1,trainer=None)"
   ]
  },
  {
   "cell_type": "code",
   "execution_count": 10,
   "id": "a221a644",
   "metadata": {
    "ExecuteTime": {
     "end_time": "2022-05-23T09:51:02.076073Z",
     "start_time": "2022-05-23T09:50:57.618057Z"
    }
   },
   "outputs": [
    {
     "name": "stderr",
     "output_type": "stream",
     "text": [
      "LOCAL_RANK: 0 - CUDA_VISIBLE_DEVICES: [0]\n"
     ]
    },
    {
     "data": {
      "application/vnd.jupyter.widget-view+json": {
       "model_id": "b88788b8837f4502b4da0cf66313a51f",
       "version_major": 2,
       "version_minor": 0
      },
      "text/plain": [
       "Predicting: 1260it [00:00, ?it/s]"
      ]
     },
     "metadata": {},
     "output_type": "display_data"
    },
    {
     "name": "stderr",
     "output_type": "stream",
     "text": [
      "LOCAL_RANK: 0 - CUDA_VISIBLE_DEVICES: [0]\n"
     ]
    },
    {
     "data": {
      "application/vnd.jupyter.widget-view+json": {
       "model_id": "0f4fc848d7f8468586e3b6b402b52cf3",
       "version_major": 2,
       "version_minor": 0
      },
      "text/plain": [
       "Predicting: 1260it [00:00, ?it/s]"
      ]
     },
     "metadata": {},
     "output_type": "display_data"
    },
    {
     "name": "stderr",
     "output_type": "stream",
     "text": [
      "LOCAL_RANK: 0 - CUDA_VISIBLE_DEVICES: [0]\n"
     ]
    },
    {
     "data": {
      "application/vnd.jupyter.widget-view+json": {
       "model_id": "d09d6a2502194c2da55bb95768b15085",
       "version_major": 2,
       "version_minor": 0
      },
      "text/plain": [
       "Predicting: 1260it [00:00, ?it/s]"
      ]
     },
     "metadata": {},
     "output_type": "display_data"
    },
    {
     "name": "stderr",
     "output_type": "stream",
     "text": [
      "LOCAL_RANK: 0 - CUDA_VISIBLE_DEVICES: [0]\n"
     ]
    },
    {
     "data": {
      "application/vnd.jupyter.widget-view+json": {
       "model_id": "f8ff1346dc454182b40adf8121c88830",
       "version_major": 2,
       "version_minor": 0
      },
      "text/plain": [
       "Predicting: 1260it [00:00, ?it/s]"
      ]
     },
     "metadata": {},
     "output_type": "display_data"
    },
    {
     "name": "stderr",
     "output_type": "stream",
     "text": [
      "LOCAL_RANK: 0 - CUDA_VISIBLE_DEVICES: [0]\n"
     ]
    },
    {
     "data": {
      "application/vnd.jupyter.widget-view+json": {
       "model_id": "d28ede53ebe74cb7bbca1f0c67cbc0f5",
       "version_major": 2,
       "version_minor": 0
      },
      "text/plain": [
       "Predicting: 1260it [00:00, ?it/s]"
      ]
     },
     "metadata": {},
     "output_type": "display_data"
    },
    {
     "name": "stderr",
     "output_type": "stream",
     "text": [
      "LOCAL_RANK: 0 - CUDA_VISIBLE_DEVICES: [0]\n"
     ]
    },
    {
     "data": {
      "application/vnd.jupyter.widget-view+json": {
       "model_id": "ffa80095d8014c118391f47acc675277",
       "version_major": 2,
       "version_minor": 0
      },
      "text/plain": [
       "Predicting: 1260it [00:00, ?it/s]"
      ]
     },
     "metadata": {},
     "output_type": "display_data"
    },
    {
     "name": "stderr",
     "output_type": "stream",
     "text": [
      "LOCAL_RANK: 0 - CUDA_VISIBLE_DEVICES: [0]\n"
     ]
    },
    {
     "data": {
      "application/vnd.jupyter.widget-view+json": {
       "model_id": "6c77ef5f073e44f798d4d60265f817e3",
       "version_major": 2,
       "version_minor": 0
      },
      "text/plain": [
       "Predicting: 1260it [00:00, ?it/s]"
      ]
     },
     "metadata": {},
     "output_type": "display_data"
    },
    {
     "name": "stderr",
     "output_type": "stream",
     "text": [
      "LOCAL_RANK: 0 - CUDA_VISIBLE_DEVICES: [0]\n"
     ]
    },
    {
     "data": {
      "application/vnd.jupyter.widget-view+json": {
       "model_id": "597af19dcf2a4ac79893f5d3e5827a10",
       "version_major": 2,
       "version_minor": 0
      },
      "text/plain": [
       "Predicting: 1260it [00:00, ?it/s]"
      ]
     },
     "metadata": {},
     "output_type": "display_data"
    },
    {
     "name": "stderr",
     "output_type": "stream",
     "text": [
      "LOCAL_RANK: 0 - CUDA_VISIBLE_DEVICES: [0]\n"
     ]
    },
    {
     "data": {
      "application/vnd.jupyter.widget-view+json": {
       "model_id": "b41ccb45634a4265b746aeebf2ca5149",
       "version_major": 2,
       "version_minor": 0
      },
      "text/plain": [
       "Predicting: 1260it [00:00, ?it/s]"
      ]
     },
     "metadata": {},
     "output_type": "display_data"
    },
    {
     "name": "stderr",
     "output_type": "stream",
     "text": [
      "LOCAL_RANK: 0 - CUDA_VISIBLE_DEVICES: [0]\n"
     ]
    },
    {
     "data": {
      "application/vnd.jupyter.widget-view+json": {
       "model_id": "ad812a0602584fabbc45717315e72928",
       "version_major": 2,
       "version_minor": 0
      },
      "text/plain": [
       "Predicting: 1260it [00:00, ?it/s]"
      ]
     },
     "metadata": {},
     "output_type": "display_data"
    },
    {
     "name": "stderr",
     "output_type": "stream",
     "text": [
      "LOCAL_RANK: 0 - CUDA_VISIBLE_DEVICES: [0]\n"
     ]
    },
    {
     "data": {
      "application/vnd.jupyter.widget-view+json": {
       "model_id": "04d9bf091c604f33a652b9d67b8a34a4",
       "version_major": 2,
       "version_minor": 0
      },
      "text/plain": [
       "Predicting: 1260it [00:00, ?it/s]"
      ]
     },
     "metadata": {},
     "output_type": "display_data"
    },
    {
     "name": "stderr",
     "output_type": "stream",
     "text": [
      "LOCAL_RANK: 0 - CUDA_VISIBLE_DEVICES: [0]\n"
     ]
    },
    {
     "data": {
      "application/vnd.jupyter.widget-view+json": {
       "model_id": "6b4c401020b24c3d951aeba128d5613c",
       "version_major": 2,
       "version_minor": 0
      },
      "text/plain": [
       "Predicting: 1260it [00:00, ?it/s]"
      ]
     },
     "metadata": {},
     "output_type": "display_data"
    },
    {
     "name": "stderr",
     "output_type": "stream",
     "text": [
      "LOCAL_RANK: 0 - CUDA_VISIBLE_DEVICES: [0]\n"
     ]
    },
    {
     "data": {
      "application/vnd.jupyter.widget-view+json": {
       "model_id": "8219fa062cb848d6ac50c5983582dd96",
       "version_major": 2,
       "version_minor": 0
      },
      "text/plain": [
       "Predicting: 1260it [00:00, ?it/s]"
      ]
     },
     "metadata": {},
     "output_type": "display_data"
    },
    {
     "name": "stderr",
     "output_type": "stream",
     "text": [
      "LOCAL_RANK: 0 - CUDA_VISIBLE_DEVICES: [0]\n"
     ]
    },
    {
     "data": {
      "application/vnd.jupyter.widget-view+json": {
       "model_id": "800f558ae2934b7e98f6678b3ec32bdb",
       "version_major": 2,
       "version_minor": 0
      },
      "text/plain": [
       "Predicting: 1260it [00:00, ?it/s]"
      ]
     },
     "metadata": {},
     "output_type": "display_data"
    },
    {
     "name": "stderr",
     "output_type": "stream",
     "text": [
      "LOCAL_RANK: 0 - CUDA_VISIBLE_DEVICES: [0]\n"
     ]
    },
    {
     "data": {
      "application/vnd.jupyter.widget-view+json": {
       "model_id": "8444d6308b09499aba8da14c8339d722",
       "version_major": 2,
       "version_minor": 0
      },
      "text/plain": [
       "Predicting: 1260it [00:00, ?it/s]"
      ]
     },
     "metadata": {},
     "output_type": "display_data"
    },
    {
     "name": "stderr",
     "output_type": "stream",
     "text": [
      "LOCAL_RANK: 0 - CUDA_VISIBLE_DEVICES: [0]\n"
     ]
    },
    {
     "data": {
      "application/vnd.jupyter.widget-view+json": {
       "model_id": "3d46a0f029944e62bdd9a6b775959305",
       "version_major": 2,
       "version_minor": 0
      },
      "text/plain": [
       "Predicting: 1260it [00:00, ?it/s]"
      ]
     },
     "metadata": {},
     "output_type": "display_data"
    },
    {
     "name": "stderr",
     "output_type": "stream",
     "text": [
      "LOCAL_RANK: 0 - CUDA_VISIBLE_DEVICES: [0]\n"
     ]
    },
    {
     "data": {
      "application/vnd.jupyter.widget-view+json": {
       "model_id": "4b34400dbaea4c9cba338a86c54f53d1",
       "version_major": 2,
       "version_minor": 0
      },
      "text/plain": [
       "Predicting: 1260it [00:00, ?it/s]"
      ]
     },
     "metadata": {},
     "output_type": "display_data"
    },
    {
     "name": "stderr",
     "output_type": "stream",
     "text": [
      "LOCAL_RANK: 0 - CUDA_VISIBLE_DEVICES: [0]\n"
     ]
    },
    {
     "data": {
      "application/vnd.jupyter.widget-view+json": {
       "model_id": "ceb60fd6b6bb4f9d9a2014c8cfe3936d",
       "version_major": 2,
       "version_minor": 0
      },
      "text/plain": [
       "Predicting: 1260it [00:00, ?it/s]"
      ]
     },
     "metadata": {},
     "output_type": "display_data"
    },
    {
     "name": "stderr",
     "output_type": "stream",
     "text": [
      "LOCAL_RANK: 0 - CUDA_VISIBLE_DEVICES: [0]\n"
     ]
    },
    {
     "data": {
      "application/vnd.jupyter.widget-view+json": {
       "model_id": "5982a6a22e79440a9b6b3aa8109e894d",
       "version_major": 2,
       "version_minor": 0
      },
      "text/plain": [
       "Predicting: 1260it [00:00, ?it/s]"
      ]
     },
     "metadata": {},
     "output_type": "display_data"
    },
    {
     "name": "stderr",
     "output_type": "stream",
     "text": [
      "LOCAL_RANK: 0 - CUDA_VISIBLE_DEVICES: [0]\n"
     ]
    },
    {
     "data": {
      "application/vnd.jupyter.widget-view+json": {
       "model_id": "ec9a6ae12bc7432b821aef82d35fbebd",
       "version_major": 2,
       "version_minor": 0
      },
      "text/plain": [
       "Predicting: 1260it [00:00, ?it/s]"
      ]
     },
     "metadata": {},
     "output_type": "display_data"
    },
    {
     "name": "stderr",
     "output_type": "stream",
     "text": [
      "LOCAL_RANK: 0 - CUDA_VISIBLE_DEVICES: [0]\n"
     ]
    },
    {
     "data": {
      "application/vnd.jupyter.widget-view+json": {
       "model_id": "656dea915bc44482bcdb14c09f5c4e79",
       "version_major": 2,
       "version_minor": 0
      },
      "text/plain": [
       "Predicting: 1260it [00:00, ?it/s]"
      ]
     },
     "metadata": {},
     "output_type": "display_data"
    },
    {
     "name": "stderr",
     "output_type": "stream",
     "text": [
      "LOCAL_RANK: 0 - CUDA_VISIBLE_DEVICES: [0]\n"
     ]
    },
    {
     "data": {
      "application/vnd.jupyter.widget-view+json": {
       "model_id": "b33de0706c1f4afdbc3c7308f359ad2c",
       "version_major": 2,
       "version_minor": 0
      },
      "text/plain": [
       "Predicting: 1260it [00:00, ?it/s]"
      ]
     },
     "metadata": {},
     "output_type": "display_data"
    },
    {
     "name": "stderr",
     "output_type": "stream",
     "text": [
      "LOCAL_RANK: 0 - CUDA_VISIBLE_DEVICES: [0]\n"
     ]
    },
    {
     "data": {
      "application/vnd.jupyter.widget-view+json": {
       "model_id": "231559c8fb624abb88ebd7e034a6d685",
       "version_major": 2,
       "version_minor": 0
      },
      "text/plain": [
       "Predicting: 1260it [00:00, ?it/s]"
      ]
     },
     "metadata": {},
     "output_type": "display_data"
    },
    {
     "name": "stderr",
     "output_type": "stream",
     "text": [
      "LOCAL_RANK: 0 - CUDA_VISIBLE_DEVICES: [0]\n"
     ]
    },
    {
     "data": {
      "application/vnd.jupyter.widget-view+json": {
       "model_id": "ad9c2525738842f8808e0a0e1667fec1",
       "version_major": 2,
       "version_minor": 0
      },
      "text/plain": [
       "Predicting: 1260it [00:00, ?it/s]"
      ]
     },
     "metadata": {},
     "output_type": "display_data"
    },
    {
     "name": "stderr",
     "output_type": "stream",
     "text": [
      "LOCAL_RANK: 0 - CUDA_VISIBLE_DEVICES: [0]\n"
     ]
    },
    {
     "data": {
      "application/vnd.jupyter.widget-view+json": {
       "model_id": "a73ac50a0bca4deaa7f4edc0b6c259bb",
       "version_major": 2,
       "version_minor": 0
      },
      "text/plain": [
       "Predicting: 1260it [00:00, ?it/s]"
      ]
     },
     "metadata": {},
     "output_type": "display_data"
    },
    {
     "name": "stderr",
     "output_type": "stream",
     "text": [
      "LOCAL_RANK: 0 - CUDA_VISIBLE_DEVICES: [0]\n"
     ]
    },
    {
     "data": {
      "application/vnd.jupyter.widget-view+json": {
       "model_id": "e33b3ae8a41c4c7186d8b40340b5eb54",
       "version_major": 2,
       "version_minor": 0
      },
      "text/plain": [
       "Predicting: 1260it [00:00, ?it/s]"
      ]
     },
     "metadata": {},
     "output_type": "display_data"
    },
    {
     "name": "stderr",
     "output_type": "stream",
     "text": [
      "LOCAL_RANK: 0 - CUDA_VISIBLE_DEVICES: [0]\n"
     ]
    },
    {
     "data": {
      "application/vnd.jupyter.widget-view+json": {
       "model_id": "e5f0b66a61e940b890e9f275c0b4183a",
       "version_major": 2,
       "version_minor": 0
      },
      "text/plain": [
       "Predicting: 1260it [00:00, ?it/s]"
      ]
     },
     "metadata": {},
     "output_type": "display_data"
    },
    {
     "name": "stderr",
     "output_type": "stream",
     "text": [
      "LOCAL_RANK: 0 - CUDA_VISIBLE_DEVICES: [0]\n"
     ]
    },
    {
     "data": {
      "application/vnd.jupyter.widget-view+json": {
       "model_id": "847e5d25a8f44fdb890b9cb28bfcf26e",
       "version_major": 2,
       "version_minor": 0
      },
      "text/plain": [
       "Predicting: 1260it [00:00, ?it/s]"
      ]
     },
     "metadata": {},
     "output_type": "display_data"
    },
    {
     "name": "stderr",
     "output_type": "stream",
     "text": [
      "LOCAL_RANK: 0 - CUDA_VISIBLE_DEVICES: [0]\n"
     ]
    },
    {
     "data": {
      "application/vnd.jupyter.widget-view+json": {
       "model_id": "64a2e70f929145ef8029025a8362eef1",
       "version_major": 2,
       "version_minor": 0
      },
      "text/plain": [
       "Predicting: 1260it [00:00, ?it/s]"
      ]
     },
     "metadata": {},
     "output_type": "display_data"
    },
    {
     "name": "stderr",
     "output_type": "stream",
     "text": [
      "LOCAL_RANK: 0 - CUDA_VISIBLE_DEVICES: [0]\n"
     ]
    },
    {
     "data": {
      "application/vnd.jupyter.widget-view+json": {
       "model_id": "2268cfda89734ced9660e3a76c19b0d9",
       "version_major": 2,
       "version_minor": 0
      },
      "text/plain": [
       "Predicting: 1260it [00:00, ?it/s]"
      ]
     },
     "metadata": {},
     "output_type": "display_data"
    },
    {
     "name": "stderr",
     "output_type": "stream",
     "text": [
      "LOCAL_RANK: 0 - CUDA_VISIBLE_DEVICES: [0]\n"
     ]
    },
    {
     "data": {
      "application/vnd.jupyter.widget-view+json": {
       "model_id": "3d67c71c110c4cca8e5816747ba4916b",
       "version_major": 2,
       "version_minor": 0
      },
      "text/plain": [
       "Predicting: 1260it [00:00, ?it/s]"
      ]
     },
     "metadata": {},
     "output_type": "display_data"
    },
    {
     "name": "stderr",
     "output_type": "stream",
     "text": [
      "LOCAL_RANK: 0 - CUDA_VISIBLE_DEVICES: [0]\n"
     ]
    },
    {
     "data": {
      "application/vnd.jupyter.widget-view+json": {
       "model_id": "1ca1bd1d2132407ba5a015e6f89e13b2",
       "version_major": 2,
       "version_minor": 0
      },
      "text/plain": [
       "Predicting: 1260it [00:00, ?it/s]"
      ]
     },
     "metadata": {},
     "output_type": "display_data"
    },
    {
     "name": "stderr",
     "output_type": "stream",
     "text": [
      "LOCAL_RANK: 0 - CUDA_VISIBLE_DEVICES: [0]\n"
     ]
    },
    {
     "data": {
      "application/vnd.jupyter.widget-view+json": {
       "model_id": "0b04586502134624a3579ce0919cea01",
       "version_major": 2,
       "version_minor": 0
      },
      "text/plain": [
       "Predicting: 1260it [00:00, ?it/s]"
      ]
     },
     "metadata": {},
     "output_type": "display_data"
    },
    {
     "name": "stderr",
     "output_type": "stream",
     "text": [
      "LOCAL_RANK: 0 - CUDA_VISIBLE_DEVICES: [0]\n"
     ]
    },
    {
     "data": {
      "application/vnd.jupyter.widget-view+json": {
       "model_id": "aebb50c017484996b9a634859e25f4df",
       "version_major": 2,
       "version_minor": 0
      },
      "text/plain": [
       "Predicting: 1260it [00:00, ?it/s]"
      ]
     },
     "metadata": {},
     "output_type": "display_data"
    },
    {
     "name": "stderr",
     "output_type": "stream",
     "text": [
      "LOCAL_RANK: 0 - CUDA_VISIBLE_DEVICES: [0]\n"
     ]
    },
    {
     "data": {
      "application/vnd.jupyter.widget-view+json": {
       "model_id": "046d2be6b081452989eacf531e446d15",
       "version_major": 2,
       "version_minor": 0
      },
      "text/plain": [
       "Predicting: 1260it [00:00, ?it/s]"
      ]
     },
     "metadata": {},
     "output_type": "display_data"
    },
    {
     "name": "stderr",
     "output_type": "stream",
     "text": [
      "LOCAL_RANK: 0 - CUDA_VISIBLE_DEVICES: [0]\n"
     ]
    },
    {
     "data": {
      "application/vnd.jupyter.widget-view+json": {
       "model_id": "1f8890d4167d40de81b96b5d8bc50ae3",
       "version_major": 2,
       "version_minor": 0
      },
      "text/plain": [
       "Predicting: 1260it [00:00, ?it/s]"
      ]
     },
     "metadata": {},
     "output_type": "display_data"
    },
    {
     "name": "stderr",
     "output_type": "stream",
     "text": [
      "LOCAL_RANK: 0 - CUDA_VISIBLE_DEVICES: [0]\n"
     ]
    },
    {
     "data": {
      "application/vnd.jupyter.widget-view+json": {
       "model_id": "80bdba4d1f994d15ac0364fa4cb03cdf",
       "version_major": 2,
       "version_minor": 0
      },
      "text/plain": [
       "Predicting: 1260it [00:00, ?it/s]"
      ]
     },
     "metadata": {},
     "output_type": "display_data"
    },
    {
     "name": "stderr",
     "output_type": "stream",
     "text": [
      "LOCAL_RANK: 0 - CUDA_VISIBLE_DEVICES: [0]\n"
     ]
    },
    {
     "data": {
      "application/vnd.jupyter.widget-view+json": {
       "model_id": "235377a30fce471aa8b56bb37328d7e5",
       "version_major": 2,
       "version_minor": 0
      },
      "text/plain": [
       "Predicting: 1260it [00:00, ?it/s]"
      ]
     },
     "metadata": {},
     "output_type": "display_data"
    },
    {
     "name": "stderr",
     "output_type": "stream",
     "text": [
      "LOCAL_RANK: 0 - CUDA_VISIBLE_DEVICES: [0]\n"
     ]
    },
    {
     "data": {
      "application/vnd.jupyter.widget-view+json": {
       "model_id": "fb912ddaf7d643ba89623d806c2edb40",
       "version_major": 2,
       "version_minor": 0
      },
      "text/plain": [
       "Predicting: 1260it [00:00, ?it/s]"
      ]
     },
     "metadata": {},
     "output_type": "display_data"
    },
    {
     "name": "stderr",
     "output_type": "stream",
     "text": [
      "LOCAL_RANK: 0 - CUDA_VISIBLE_DEVICES: [0]\n"
     ]
    },
    {
     "data": {
      "application/vnd.jupyter.widget-view+json": {
       "model_id": "ea29fbe2b4694e06a61069c425caa3e4",
       "version_major": 2,
       "version_minor": 0
      },
      "text/plain": [
       "Predicting: 1260it [00:00, ?it/s]"
      ]
     },
     "metadata": {},
     "output_type": "display_data"
    },
    {
     "name": "stderr",
     "output_type": "stream",
     "text": [
      "LOCAL_RANK: 0 - CUDA_VISIBLE_DEVICES: [0]\n"
     ]
    },
    {
     "data": {
      "application/vnd.jupyter.widget-view+json": {
       "model_id": "fe67c9a2259c4403bed5b6a1197901d0",
       "version_major": 2,
       "version_minor": 0
      },
      "text/plain": [
       "Predicting: 1260it [00:00, ?it/s]"
      ]
     },
     "metadata": {},
     "output_type": "display_data"
    },
    {
     "name": "stderr",
     "output_type": "stream",
     "text": [
      "LOCAL_RANK: 0 - CUDA_VISIBLE_DEVICES: [0]\n"
     ]
    },
    {
     "data": {
      "application/vnd.jupyter.widget-view+json": {
       "model_id": "c4ebcb7430334538bd0dc6dc4b11a707",
       "version_major": 2,
       "version_minor": 0
      },
      "text/plain": [
       "Predicting: 1260it [00:00, ?it/s]"
      ]
     },
     "metadata": {},
     "output_type": "display_data"
    },
    {
     "name": "stderr",
     "output_type": "stream",
     "text": [
      "LOCAL_RANK: 0 - CUDA_VISIBLE_DEVICES: [0]\n"
     ]
    },
    {
     "data": {
      "application/vnd.jupyter.widget-view+json": {
       "model_id": "71b5ace491ab4a9abae71b90c0802bd4",
       "version_major": 2,
       "version_minor": 0
      },
      "text/plain": [
       "Predicting: 1260it [00:00, ?it/s]"
      ]
     },
     "metadata": {},
     "output_type": "display_data"
    },
    {
     "name": "stderr",
     "output_type": "stream",
     "text": [
      "LOCAL_RANK: 0 - CUDA_VISIBLE_DEVICES: [0]\n"
     ]
    },
    {
     "data": {
      "application/vnd.jupyter.widget-view+json": {
       "model_id": "ae3ca20cc7dc453ca938abd5baf6d83c",
       "version_major": 2,
       "version_minor": 0
      },
      "text/plain": [
       "Predicting: 1260it [00:00, ?it/s]"
      ]
     },
     "metadata": {},
     "output_type": "display_data"
    },
    {
     "name": "stderr",
     "output_type": "stream",
     "text": [
      "LOCAL_RANK: 0 - CUDA_VISIBLE_DEVICES: [0]\n"
     ]
    },
    {
     "data": {
      "application/vnd.jupyter.widget-view+json": {
       "model_id": "b151cf2274114c32aaca27febbed3d64",
       "version_major": 2,
       "version_minor": 0
      },
      "text/plain": [
       "Predicting: 1260it [00:00, ?it/s]"
      ]
     },
     "metadata": {},
     "output_type": "display_data"
    },
    {
     "name": "stderr",
     "output_type": "stream",
     "text": [
      "LOCAL_RANK: 0 - CUDA_VISIBLE_DEVICES: [0]\n"
     ]
    },
    {
     "data": {
      "application/vnd.jupyter.widget-view+json": {
       "model_id": "4094c2b6c7d44299abecabe206adaf30",
       "version_major": 2,
       "version_minor": 0
      },
      "text/plain": [
       "Predicting: 1260it [00:00, ?it/s]"
      ]
     },
     "metadata": {},
     "output_type": "display_data"
    },
    {
     "name": "stderr",
     "output_type": "stream",
     "text": [
      "LOCAL_RANK: 0 - CUDA_VISIBLE_DEVICES: [0]\n"
     ]
    },
    {
     "data": {
      "application/vnd.jupyter.widget-view+json": {
       "model_id": "e77fe17f2c5f401a83362a69647361c8",
       "version_major": 2,
       "version_minor": 0
      },
      "text/plain": [
       "Predicting: 1260it [00:00, ?it/s]"
      ]
     },
     "metadata": {},
     "output_type": "display_data"
    },
    {
     "name": "stderr",
     "output_type": "stream",
     "text": [
      "LOCAL_RANK: 0 - CUDA_VISIBLE_DEVICES: [0]\n"
     ]
    },
    {
     "data": {
      "application/vnd.jupyter.widget-view+json": {
       "model_id": "ca87da62397244b0917848b61b3511a6",
       "version_major": 2,
       "version_minor": 0
      },
      "text/plain": [
       "Predicting: 1260it [00:00, ?it/s]"
      ]
     },
     "metadata": {},
     "output_type": "display_data"
    },
    {
     "name": "stderr",
     "output_type": "stream",
     "text": [
      "LOCAL_RANK: 0 - CUDA_VISIBLE_DEVICES: [0]\n"
     ]
    },
    {
     "data": {
      "application/vnd.jupyter.widget-view+json": {
       "model_id": "4565387a2b0b41f38791075255eaff7e",
       "version_major": 2,
       "version_minor": 0
      },
      "text/plain": [
       "Predicting: 1260it [00:00, ?it/s]"
      ]
     },
     "metadata": {},
     "output_type": "display_data"
    },
    {
     "name": "stderr",
     "output_type": "stream",
     "text": [
      "LOCAL_RANK: 0 - CUDA_VISIBLE_DEVICES: [0]\n"
     ]
    },
    {
     "data": {
      "application/vnd.jupyter.widget-view+json": {
       "model_id": "bda3a65086094a5fbf7950c09f070727",
       "version_major": 2,
       "version_minor": 0
      },
      "text/plain": [
       "Predicting: 1260it [00:00, ?it/s]"
      ]
     },
     "metadata": {},
     "output_type": "display_data"
    },
    {
     "name": "stderr",
     "output_type": "stream",
     "text": [
      "LOCAL_RANK: 0 - CUDA_VISIBLE_DEVICES: [0]\n"
     ]
    },
    {
     "data": {
      "application/vnd.jupyter.widget-view+json": {
       "model_id": "ee9a32c307df4111a345468105d5d76a",
       "version_major": 2,
       "version_minor": 0
      },
      "text/plain": [
       "Predicting: 1260it [00:00, ?it/s]"
      ]
     },
     "metadata": {},
     "output_type": "display_data"
    },
    {
     "name": "stderr",
     "output_type": "stream",
     "text": [
      "LOCAL_RANK: 0 - CUDA_VISIBLE_DEVICES: [0]\n"
     ]
    },
    {
     "data": {
      "application/vnd.jupyter.widget-view+json": {
       "model_id": "5645e7c63e5243568a48b97267309e64",
       "version_major": 2,
       "version_minor": 0
      },
      "text/plain": [
       "Predicting: 1260it [00:00, ?it/s]"
      ]
     },
     "metadata": {},
     "output_type": "display_data"
    },
    {
     "name": "stderr",
     "output_type": "stream",
     "text": [
      "LOCAL_RANK: 0 - CUDA_VISIBLE_DEVICES: [0]\n"
     ]
    },
    {
     "data": {
      "application/vnd.jupyter.widget-view+json": {
       "model_id": "e49a746e4d6444918bf9be6e5349c1ec",
       "version_major": 2,
       "version_minor": 0
      },
      "text/plain": [
       "Predicting: 1260it [00:00, ?it/s]"
      ]
     },
     "metadata": {},
     "output_type": "display_data"
    },
    {
     "name": "stderr",
     "output_type": "stream",
     "text": [
      "LOCAL_RANK: 0 - CUDA_VISIBLE_DEVICES: [0]\n"
     ]
    },
    {
     "data": {
      "application/vnd.jupyter.widget-view+json": {
       "model_id": "130b73168a114bc6a85b5f4ba4652e0d",
       "version_major": 2,
       "version_minor": 0
      },
      "text/plain": [
       "Predicting: 1260it [00:00, ?it/s]"
      ]
     },
     "metadata": {},
     "output_type": "display_data"
    },
    {
     "name": "stderr",
     "output_type": "stream",
     "text": [
      "LOCAL_RANK: 0 - CUDA_VISIBLE_DEVICES: [0]\n"
     ]
    },
    {
     "data": {
      "application/vnd.jupyter.widget-view+json": {
       "model_id": "371ca35c5393455c81562a6f06f8b90e",
       "version_major": 2,
       "version_minor": 0
      },
      "text/plain": [
       "Predicting: 1260it [00:00, ?it/s]"
      ]
     },
     "metadata": {},
     "output_type": "display_data"
    },
    {
     "name": "stderr",
     "output_type": "stream",
     "text": [
      "LOCAL_RANK: 0 - CUDA_VISIBLE_DEVICES: [0]\n"
     ]
    },
    {
     "data": {
      "application/vnd.jupyter.widget-view+json": {
       "model_id": "6655b989b33445e0b1cbf35ee2120da4",
       "version_major": 2,
       "version_minor": 0
      },
      "text/plain": [
       "Predicting: 1260it [00:00, ?it/s]"
      ]
     },
     "metadata": {},
     "output_type": "display_data"
    },
    {
     "name": "stderr",
     "output_type": "stream",
     "text": [
      "LOCAL_RANK: 0 - CUDA_VISIBLE_DEVICES: [0]\n"
     ]
    },
    {
     "data": {
      "application/vnd.jupyter.widget-view+json": {
       "model_id": "8c83c9633f6845e08e2864a5d8701681",
       "version_major": 2,
       "version_minor": 0
      },
      "text/plain": [
       "Predicting: 1260it [00:00, ?it/s]"
      ]
     },
     "metadata": {},
     "output_type": "display_data"
    },
    {
     "name": "stderr",
     "output_type": "stream",
     "text": [
      "LOCAL_RANK: 0 - CUDA_VISIBLE_DEVICES: [0]\n"
     ]
    },
    {
     "data": {
      "application/vnd.jupyter.widget-view+json": {
       "model_id": "df6f623d5c0642ae83b55022d756fd55",
       "version_major": 2,
       "version_minor": 0
      },
      "text/plain": [
       "Predicting: 1260it [00:00, ?it/s]"
      ]
     },
     "metadata": {},
     "output_type": "display_data"
    },
    {
     "name": "stderr",
     "output_type": "stream",
     "text": [
      "LOCAL_RANK: 0 - CUDA_VISIBLE_DEVICES: [0]\n"
     ]
    },
    {
     "data": {
      "application/vnd.jupyter.widget-view+json": {
       "model_id": "117b75c0cbec47a5b58e05ccf785873d",
       "version_major": 2,
       "version_minor": 0
      },
      "text/plain": [
       "Predicting: 1260it [00:00, ?it/s]"
      ]
     },
     "metadata": {},
     "output_type": "display_data"
    },
    {
     "name": "stderr",
     "output_type": "stream",
     "text": [
      "LOCAL_RANK: 0 - CUDA_VISIBLE_DEVICES: [0]\n"
     ]
    },
    {
     "data": {
      "application/vnd.jupyter.widget-view+json": {
       "model_id": "ad59d8f95d634736b320066fa9ca576b",
       "version_major": 2,
       "version_minor": 0
      },
      "text/plain": [
       "Predicting: 1260it [00:00, ?it/s]"
      ]
     },
     "metadata": {},
     "output_type": "display_data"
    }
   ],
   "source": [
    "pred = model.historical_forecasts( series=test_ts_list_scaled,verbose=False,retrain=False,\n",
    "                                  start=n_input_chunk,forecast_horizon=n_output_chunk,stride=n_output_chunk,\n",
    "                                  overlap_end=True,last_points_only =False)\n",
    "# pred_df = pd.concat([pred[s].pd_series() for s in range(len(pred))])"
   ]
  },
  {
   "cell_type": "code",
   "execution_count": 11,
   "id": "4ac483a2",
   "metadata": {
    "ExecuteTime": {
     "end_time": "2022-05-23T09:51:02.108080Z",
     "start_time": "2022-05-23T09:51:02.078073Z"
    }
   },
   "outputs": [],
   "source": [
    "pred_df = pd.concat([pred[s].pd_series() for s in range(len(pred))])"
   ]
  },
  {
   "cell_type": "code",
   "execution_count": 12,
   "id": "59c1c8c0",
   "metadata": {
    "ExecuteTime": {
     "end_time": "2022-05-23T09:51:02.124083Z",
     "start_time": "2022-05-23T09:51:02.109080Z"
    }
   },
   "outputs": [
    {
     "data": {
      "text/plain": [
       "ds\n",
       "2021-07-03 01:00:00    0.499924\n",
       "2021-07-03 02:00:00    0.515198\n",
       "2021-07-03 03:00:00    0.541596\n",
       "2021-07-03 04:00:00    0.573465\n",
       "2021-07-03 05:00:00    0.611998\n",
       "                         ...   \n",
       "2021-08-31 20:00:00    0.532866\n",
       "2021-08-31 21:00:00    0.510939\n",
       "2021-08-31 22:00:00    0.501935\n",
       "2021-08-31 23:00:00    0.502509\n",
       "2021-09-01 00:00:00    0.514334\n",
       "Freq: H, Length: 1440, dtype: float64"
      ]
     },
     "execution_count": 12,
     "metadata": {},
     "output_type": "execute_result"
    }
   ],
   "source": [
    "pred_df"
   ]
  },
  {
   "cell_type": "code",
   "execution_count": 13,
   "id": "44436758",
   "metadata": {
    "ExecuteTime": {
     "end_time": "2022-05-23T09:51:02.140087Z",
     "start_time": "2022-05-23T09:51:02.125084Z"
    }
   },
   "outputs": [],
   "source": [
    "test_df = pd.concat([pred_df,test_ts_list_scaled.pd_series()],axis=1).iloc[n_input_chunk:,:]\n",
    "test_df.columns = [f'yhat',f'y']\n",
    "# test_all_df = pd.concat([test_all_df,test_df],axis=1)"
   ]
  },
  {
   "cell_type": "code",
   "execution_count": 14,
   "id": "8f04af8c",
   "metadata": {
    "ExecuteTime": {
     "end_time": "2022-05-23T09:51:02.156091Z",
     "start_time": "2022-05-23T09:51:02.147089Z"
    }
   },
   "outputs": [
    {
     "data": {
      "text/html": [
       "<div>\n",
       "<style scoped>\n",
       "    .dataframe tbody tr th:only-of-type {\n",
       "        vertical-align: middle;\n",
       "    }\n",
       "\n",
       "    .dataframe tbody tr th {\n",
       "        vertical-align: top;\n",
       "    }\n",
       "\n",
       "    .dataframe thead th {\n",
       "        text-align: right;\n",
       "    }\n",
       "</style>\n",
       "<table border=\"1\" class=\"dataframe\">\n",
       "  <thead>\n",
       "    <tr style=\"text-align: right;\">\n",
       "      <th></th>\n",
       "      <th>yhat</th>\n",
       "      <th>y</th>\n",
       "    </tr>\n",
       "    <tr>\n",
       "      <th>ds</th>\n",
       "      <th></th>\n",
       "      <th></th>\n",
       "    </tr>\n",
       "  </thead>\n",
       "  <tbody>\n",
       "    <tr>\n",
       "      <th>2021-07-03 01:00:00</th>\n",
       "      <td>0.499924</td>\n",
       "      <td>0.521479</td>\n",
       "    </tr>\n",
       "    <tr>\n",
       "      <th>2021-07-03 02:00:00</th>\n",
       "      <td>0.515198</td>\n",
       "      <td>0.532748</td>\n",
       "    </tr>\n",
       "    <tr>\n",
       "      <th>2021-07-03 03:00:00</th>\n",
       "      <td>0.541596</td>\n",
       "      <td>0.557094</td>\n",
       "    </tr>\n",
       "    <tr>\n",
       "      <th>2021-07-03 04:00:00</th>\n",
       "      <td>0.573465</td>\n",
       "      <td>0.590521</td>\n",
       "    </tr>\n",
       "    <tr>\n",
       "      <th>2021-07-03 05:00:00</th>\n",
       "      <td>0.611998</td>\n",
       "      <td>0.630311</td>\n",
       "    </tr>\n",
       "    <tr>\n",
       "      <th>...</th>\n",
       "      <td>...</td>\n",
       "      <td>...</td>\n",
       "    </tr>\n",
       "    <tr>\n",
       "      <th>2021-08-31 20:00:00</th>\n",
       "      <td>0.532866</td>\n",
       "      <td>0.543128</td>\n",
       "    </tr>\n",
       "    <tr>\n",
       "      <th>2021-08-31 21:00:00</th>\n",
       "      <td>0.510939</td>\n",
       "      <td>0.525342</td>\n",
       "    </tr>\n",
       "    <tr>\n",
       "      <th>2021-08-31 22:00:00</th>\n",
       "      <td>0.501935</td>\n",
       "      <td>0.513021</td>\n",
       "    </tr>\n",
       "    <tr>\n",
       "      <th>2021-08-31 23:00:00</th>\n",
       "      <td>0.502509</td>\n",
       "      <td>0.508057</td>\n",
       "    </tr>\n",
       "    <tr>\n",
       "      <th>2021-09-01 00:00:00</th>\n",
       "      <td>0.514334</td>\n",
       "      <td>0.514787</td>\n",
       "    </tr>\n",
       "  </tbody>\n",
       "</table>\n",
       "<p>1440 rows × 2 columns</p>\n",
       "</div>"
      ],
      "text/plain": [
       "                         yhat         y\n",
       "ds                                     \n",
       "2021-07-03 01:00:00  0.499924  0.521479\n",
       "2021-07-03 02:00:00  0.515198  0.532748\n",
       "2021-07-03 03:00:00  0.541596  0.557094\n",
       "2021-07-03 04:00:00  0.573465  0.590521\n",
       "2021-07-03 05:00:00  0.611998  0.630311\n",
       "...                       ...       ...\n",
       "2021-08-31 20:00:00  0.532866  0.543128\n",
       "2021-08-31 21:00:00  0.510939  0.525342\n",
       "2021-08-31 22:00:00  0.501935  0.513021\n",
       "2021-08-31 23:00:00  0.502509  0.508057\n",
       "2021-09-01 00:00:00  0.514334  0.514787\n",
       "\n",
       "[1440 rows x 2 columns]"
      ]
     },
     "execution_count": 14,
     "metadata": {},
     "output_type": "execute_result"
    }
   ],
   "source": [
    "test_df"
   ]
  },
  {
   "cell_type": "code",
   "execution_count": 15,
   "id": "d6d1792f",
   "metadata": {
    "ExecuteTime": {
     "end_time": "2022-05-23T09:51:03.686444Z",
     "start_time": "2022-05-23T09:51:02.157091Z"
    }
   },
   "outputs": [
    {
     "data": {
      "text/plain": [
       "<matplotlib.legend.Legend at 0x1600fdba5e0>"
      ]
     },
     "execution_count": 15,
     "metadata": {},
     "output_type": "execute_result"
    },
    {
     "data": {
      "image/png": "[encoded data removed]",
      "text/plain": [
       "<Figure size 1440x864 with 1 Axes>"
      ]
     },
     "metadata": {
      "needs_background": "light"
     },
     "output_type": "display_data"
    }
   ],
   "source": [
    "plt.figure(figsize=(20,12))\n",
    "plt.plot(test_df.index,test_df.yhat,label='yhat')\n",
    "plt.plot(test_df.index,test_df.y,label='origin')\n",
    "plt.legend()"
   ]
  },
  {
   "cell_type": "code",
   "execution_count": 16,
   "id": "d82f50cf",
   "metadata": {
    "ExecuteTime": {
     "end_time": "2022-05-23T09:51:03.702448Z",
     "start_time": "2022-05-23T09:51:03.688444Z"
    }
   },
   "outputs": [
    {
     "name": "stdout",
     "output_type": "stream",
     "text": [
      "WEST\n",
      "MSE= 0.0013822280653723205\n",
      "MAE= 0.028611221797854237\n",
      "MAPE= 0.043219799583511444\n"
     ]
    }
   ],
   "source": [
    "from sklearn.metrics import mean_squared_error,mean_absolute_error,mean_absolute_percentage_error\n",
    "MSE = mean_squared_error(test_df.y, test_df.yhat)\n",
    "MAE = mean_absolute_error(test_df.y, test_df.yhat)\n",
    "MAPE = mean_absolute_percentage_error(test_df.y, test_df.yhat)\n",
    "print(df_ercot.columns[diqu])\n",
    "print(\"MSE=\",MSE)\n",
    "print(\"MAE=\",MAE)\n",
    "print(\"MAPE=\",MAPE)"
   ]
  },
  {
   "cell_type": "markdown",
   "id": "3f8ec368",
   "metadata": {},
   "source": [
    "## 拼接进result"
   ]
  },
  {
   "cell_type": "code",
   "execution_count": 17,
   "id": "49747ba6",
   "metadata": {
    "ExecuteTime": {
     "end_time": "2022-05-23T09:51:03.718451Z",
     "start_time": "2022-05-23T09:51:03.705448Z"
    }
   },
   "outputs": [],
   "source": [
    "# data = pd.read_csv(\"./result/result.csv\",index_col=0)"
   ]
  },
  {
   "cell_type": "code",
   "execution_count": 18,
   "id": "2cf38209",
   "metadata": {
    "ExecuteTime": {
     "end_time": "2022-05-23T09:51:03.734455Z",
     "start_time": "2022-05-23T09:51:03.720452Z"
    }
   },
   "outputs": [],
   "source": [
    "# data.reset_index(inplace=True,drop=True)\n",
    "# data"
   ]
  },
  {
   "cell_type": "code",
   "execution_count": null,
   "id": "ba8ba52e",
   "metadata": {},
   "outputs": [],
   "source": []
  },
  {
   "cell_type": "code",
   "execution_count": 19,
   "id": "b1ab28ac",
   "metadata": {
    "ExecuteTime": {
     "end_time": "2022-05-23T09:51:03.750458Z",
     "start_time": "2022-05-23T09:51:03.735455Z"
    }
   },
   "outputs": [],
   "source": [
    "# data_new = pd.concat([data,test_df.reset_index(drop=True)['yhat']],axis=1)"
   ]
  },
  {
   "cell_type": "code",
   "execution_count": 20,
   "id": "06d68f1e",
   "metadata": {
    "ExecuteTime": {
     "end_time": "2022-05-23T09:51:03.766462Z",
     "start_time": "2022-05-23T09:51:03.751459Z"
    }
   },
   "outputs": [],
   "source": [
    "# data_new.rename(columns={\"yhat\":'TCN'},inplace=True)\n",
    "# data_new\n",
    "# data_new.to_csv(\"./result/result.csv\")"
   ]
  },
  {
   "cell_type": "code",
   "execution_count": 21,
   "id": "adbf8546",
   "metadata": {
    "ExecuteTime": {
     "end_time": "2022-05-23T09:51:03.782466Z",
     "start_time": "2022-05-23T09:51:03.768463Z"
    }
   },
   "outputs": [],
   "source": [
    "# MSE= 0.003560240683395077\n",
    "# MAE= 0.04556330744060588\n",
    "# MAPE= 0.05830997089147563"
   ]
  },
  {
   "cell_type": "code",
   "execution_count": 22,
   "id": "e792f525",
   "metadata": {
    "ExecuteTime": {
     "end_time": "2022-05-23T09:51:03.798469Z",
     "start_time": "2022-05-23T09:51:03.784466Z"
    }
   },
   "outputs": [],
   "source": [
    "# MSE = mean_squared_error(data_new.y, data_new.TCN)\n",
    "# MAE = mean_absolute_error(data_new.y, data_new.TCN)\n",
    "# MAPE = mean_absolute_percentage_error(data_new.y, data_new.TCN)\n",
    "# print(\"MSE=\",MSE)\n",
    "# print(\"MAE=\",MAE)\n",
    "# print(\"MAPE=\",MAPE)"
   ]
  },
  {
   "cell_type": "code",
   "execution_count": null,
   "id": "f88939b0",
   "metadata": {},
   "outputs": [],
   "source": []
  }
 ],
 "metadata": {
  "kernelspec": {
   "display_name": "Python 3 (ipykernel)",
   "language": "python",
   "name": "python3"
  },
  "language_info": {
   "codemirror_mode": {
    "name": "ipython",
    "version": 3
   },
   "file_extension": ".py",
   "mimetype": "text/x-python",
   "name": "python",
   "nbconvert_exporter": "python",
   "pygments_lexer": "ipython3",
   "version": "3.9.12"
  },
  "toc": {
   "base_numbering": 1,
   "nav_menu": {},
   "number_sections": true,
   "sideBar": true,
   "skip_h1_title": false,
   "title_cell": "Table of Contents",
   "title_sidebar": "Contents",
   "toc_cell": false,
   "toc_position": {},
   "toc_section_display": true,
   "toc_window_display": false
  }
 },
 "nbformat": 4,
 "nbformat_minor": 5
}
